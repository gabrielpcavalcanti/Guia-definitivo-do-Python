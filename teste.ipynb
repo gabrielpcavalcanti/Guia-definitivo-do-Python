{
 "cells": [
  {
   "cell_type": "code",
   "execution_count": 7,
   "metadata": {},
   "outputs": [],
   "source": [
    "nome = input(\"Digite seu nome: \")\n",
    "idade = int(input(\"Digite seu idade: \"))"
   ]
  },
  {
   "cell_type": "code",
   "execution_count": 13,
   "metadata": {},
   "outputs": [
    {
     "name": "stdout",
     "output_type": "stream",
     "text": [
      "olá, Gabriel\n",
      "Olá, Gabriel\n"
     ]
    }
   ],
   "source": [
    "print(\"olá, \" + nome)\n",
    "print(f'Olá, {nome}')"
   ]
  },
  {
   "cell_type": "code",
   "execution_count": 20,
   "metadata": {},
   "outputs": [
    {
     "name": "stdout",
     "output_type": "stream",
     "text": [
      "Seu nome tem 7 letras\n",
      "Seu nome tem 7 letras\n"
     ]
    }
   ],
   "source": [
    "print(\"Seu nome tem \" + str(len(nome)) + \" letras\")\n",
    "print(f'Seu nome tem {len(nome)} letras')"
   ]
  },
  {
   "cell_type": "code",
   "execution_count": 10,
   "metadata": {},
   "outputs": [
    {
     "name": "stdout",
     "output_type": "stream",
     "text": [
      "31\n"
     ]
    }
   ],
   "source": [
    "anos_daqui_a_cinco_anos = idade + 5\n",
    "print(anos_daqui_a_cinco_anos)"
   ]
  },
  {
   "cell_type": "code",
   "execution_count": null,
   "metadata": {},
   "outputs": [
    {
     "name": "stdout",
     "output_type": "stream",
     "text": [
      "Olá, Gabriel, você tem 26 anos.\n",
      "Seu nome é Gabriele vc tem 26 anos\n"
     ]
    }
   ],
   "source": [
    "print(\"Olá, {}, você tem {} anos.\".format(nome, idade))\n",
    "print(\"Seu nome é %se vc tem %s anos\" %(nome, idade)) # ver melhor como funciona."
   ]
  },
  {
   "cell_type": "code",
   "execution_count": 30,
   "metadata": {},
   "outputs": [
    {
     "name": "stdout",
     "output_type": "stream",
     "text": [
      "5\n",
      "42\n"
     ]
    }
   ],
   "source": [
    "valor_01, valor_02 = 5, 42\n",
    "\n",
    "print(valor_01)\n",
    "print(valor_02)"
   ]
  },
  {
   "cell_type": "code",
   "execution_count": 31,
   "metadata": {},
   "outputs": [
    {
     "name": "stdout",
     "output_type": "stream",
     "text": [
      "0j\n"
     ]
    }
   ],
   "source": [
    "complexo_num = 25 + 3j\n",
    "complexo_num_02 = -25 - 3j\n",
    "\n",
    "print(complexo_num + complexo_num_02)"
   ]
  },
  {
   "cell_type": "code",
   "execution_count": null,
   "metadata": {},
   "outputs": [
    {
     "name": "stdout",
     "output_type": "stream",
     "text": [
      "7.5 representa 7 horas e 30 minutos\n",
      "7.35 representa 7 horas e 21 minutos\n",
      "3.43 representa 3 horas e 25 minutos\n",
      "10.55 representa 10 horas e 33 minutos\n",
      "12 representa 12 horas\n"
     ]
    }
   ],
   "source": [
    "def transforme_number_to_hour_and_minutes(number: float) -> None:\n",
    "\n",
    "    horas: int = int(number)\n",
    "    minutes: float = number * 60\n",
    "    resto: int = minutes % 60\n",
    "\n",
    "    if resto > 0:\n",
    "        print(f'{number} representa {horas} horas e {int(resto)} minutos.')\n",
    "    \n",
    "    else:\n",
    "        print(f'{number} representa {horas} horas.')\n",
    "\n",
    "transforme_number_to_hour_and_minutes(7.5)\n",
    "transforme_number_to_hour_and_minutes(7.35)\n",
    "transforme_number_to_hour_and_minutes(3.43)\n",
    "transforme_number_to_hour_and_minutes(10.55)\n",
    "transforme_number_to_hour_and_minutes(12)\n",
    "\n"
   ]
  },
  {
   "cell_type": "code",
   "execution_count": 6,
   "metadata": {},
   "outputs": [
    {
     "name": "stdout",
     "output_type": "stream",
     "text": [
      "30\n"
     ]
    }
   ],
   "source": [
    "num = 450\n",
    "print(num % 60)"
   ]
  },
  {
   "cell_type": "code",
   "execution_count": 9,
   "metadata": {},
   "outputs": [
    {
     "name": "stdout",
     "output_type": "stream",
     "text": [
      "7.5 representa 7 horas e 30 minutos.\n",
      "7.35 representa 7 horas e 20 minutos.\n",
      "3.43 representa 3 horas e 25 minutos.\n",
      "10.55 representa 10 horas e 33 minutos.\n",
      "12 representa 12 horas e 0 minutos.\n"
     ]
    }
   ],
   "source": [
    "def transforme_number_to_hour_and_minutes(number: float) -> None:\n",
    "\n",
    "    parte_decimal: float = number % 1\n",
    "\n",
    "    print(f'{number} representa {int(number)} horas e {int(parte_decimal * 60)} minutos.')\n",
    "\n",
    "   \n",
    "\n",
    "\n",
    "transforme_number_to_hour_and_minutes(7.5)\n",
    "transforme_number_to_hour_and_minutes(7.35)\n",
    "transforme_number_to_hour_and_minutes(3.43)\n",
    "transforme_number_to_hour_and_minutes(10.55)\n",
    "transforme_number_to_hour_and_minutes(12)"
   ]
  }
 ],
 "metadata": {
  "kernelspec": {
   "display_name": "Python 3",
   "language": "python",
   "name": "python3"
  },
  "language_info": {
   "codemirror_mode": {
    "name": "ipython",
    "version": 3
   },
   "file_extension": ".py",
   "mimetype": "text/x-python",
   "name": "python",
   "nbconvert_exporter": "python",
   "pygments_lexer": "ipython3",
   "version": "3.13.2"
  }
 },
 "nbformat": 4,
 "nbformat_minor": 2
}
