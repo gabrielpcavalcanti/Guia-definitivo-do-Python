{
 "cells": [
  {
   "cell_type": "code",
   "execution_count": 7,
   "metadata": {},
   "outputs": [],
   "source": [
    "nome = input(\"Digite seu nome: \")\n",
    "idade = int(input(\"Digite seu idade: \"))"
   ]
  },
  {
   "cell_type": "code",
   "execution_count": 13,
   "metadata": {},
   "outputs": [
    {
     "name": "stdout",
     "output_type": "stream",
     "text": [
      "olá, Gabriel\n",
      "Olá, Gabriel\n"
     ]
    }
   ],
   "source": [
    "print(\"olá, \" + nome)\n",
    "print(f'Olá, {nome}')"
   ]
  },
  {
   "cell_type": "code",
   "execution_count": 20,
   "metadata": {},
   "outputs": [
    {
     "name": "stdout",
     "output_type": "stream",
     "text": [
      "Seu nome tem 7 letras\n",
      "Seu nome tem 7 letras\n"
     ]
    }
   ],
   "source": [
    "print(\"Seu nome tem \" + str(len(nome)) + \" letras\")\n",
    "print(f'Seu nome tem {len(nome)} letras')"
   ]
  },
  {
   "cell_type": "code",
   "execution_count": 10,
   "metadata": {},
   "outputs": [
    {
     "name": "stdout",
     "output_type": "stream",
     "text": [
      "31\n"
     ]
    }
   ],
   "source": [
    "anos_daqui_a_cinco_anos = idade + 5\n",
    "print(anos_daqui_a_cinco_anos)"
   ]
  },
  {
   "cell_type": "code",
   "execution_count": null,
   "metadata": {},
   "outputs": [
    {
     "name": "stdout",
     "output_type": "stream",
     "text": [
      "Olá, Gabriel, você tem 26 anos.\n",
      "Seu nome é Gabriele vc tem 26 anos\n"
     ]
    }
   ],
   "source": [
    "print(\"Olá, {}, você tem {} anos.\".format(nome, idade))\n",
    "print(\"Seu nome é %se vc tem %s anos\" %(nome, idade)) # ver melhor como funciona."
   ]
  },
  {
   "cell_type": "code",
   "execution_count": 30,
   "metadata": {},
   "outputs": [
    {
     "name": "stdout",
     "output_type": "stream",
     "text": [
      "5\n",
      "42\n"
     ]
    }
   ],
   "source": [
    "valor_01, valor_02 = 5, 42\n",
    "\n",
    "print(valor_01)\n",
    "print(valor_02)"
   ]
  },
  {
   "cell_type": "code",
   "execution_count": 31,
   "metadata": {},
   "outputs": [
    {
     "name": "stdout",
     "output_type": "stream",
     "text": [
      "0j\n"
     ]
    }
   ],
   "source": [
    "complexo_num = 25 + 3j\n",
    "complexo_num_02 = -25 - 3j\n",
    "\n",
    "print(complexo_num + complexo_num_02)"
   ]
  }
 ],
 "metadata": {
  "kernelspec": {
   "display_name": "Python 3",
   "language": "python",
   "name": "python3"
  },
  "language_info": {
   "codemirror_mode": {
    "name": "ipython",
    "version": 3
   },
   "file_extension": ".py",
   "mimetype": "text/x-python",
   "name": "python",
   "nbconvert_exporter": "python",
   "pygments_lexer": "ipython3",
   "version": "3.13.2"
  }
 },
 "nbformat": 4,
 "nbformat_minor": 2
}
