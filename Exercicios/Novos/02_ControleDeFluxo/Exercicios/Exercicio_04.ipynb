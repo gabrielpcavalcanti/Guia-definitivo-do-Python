{
 "cells": [
  {
   "cell_type": "markdown",
   "metadata": {},
   "source": [
    "# Exercício 04"
   ]
  },
  {
   "cell_type": "markdown",
   "metadata": {},
   "source": [
    "Vamos brincar com uns problemas que envolvem a matemática."
   ]
  },
  {
   "cell_type": "markdown",
   "metadata": {},
   "source": [
    "**a) A nota final de um estudante é calculada a partir de três notas (de 0 a 10), respectivamente, a um trabalho de laboratório, a uma avaliação semestral e a um exame final. A média das três notas mencionadas anteriormente obedece aos pesos: Trabalho de Laboratório: 2; Avaliação Semestral: 3; Exame Final: 5. De acordo com o resultado, mostre na tela se o aluno está reprovado (média entre 0 e 2,9), de recuperação (entre 3 e 4,9) ou se foi aprovado. Faça todas as verticações necessárias.**"
   ]
  },
  {
   "cell_type": "markdown",
   "metadata": {},
   "source": [
    "Solução:"
   ]
  },
  {
   "cell_type": "code",
   "execution_count": null,
   "metadata": {},
   "outputs": [],
   "source": [
    "grade_work_lab: float = float(input(\"Digite a nota do trabalho no laboratório: \"))\n",
    "grade__semester_avaliation: float = float(input(\"Digite a nota da avaliação semestral: \"))\n",
    "grade_final_exam: float = float(input(\"Digite a nota da avaliação final: \")\n",
    "                                )\n",
    "mean_grade: float = (2 * grade_work_lab + 3 * grade__semester_avaliation + 5 * grade_final_exam) / 10\n",
    "\n",
    "if 0 <= mean_grade <= 2.9:\n",
    "    print()\n",
    "    print(\"Você está reprovado.\")\n",
    "\n",
    "elif 3 <= mean_grade <= 4.9:\n",
    "    print()\n",
    "    print(\"Você está de recuperação.\")\n",
    "\n",
    "elif mean_grade >= 5:\n",
    "    print()\n",
    "    print(\"Aprovado.\")\n",
    "\n",
    "else:\n",
    "    print(\"Erro.\")\n"
   ]
  },
  {
   "cell_type": "markdown",
   "metadata": {},
   "source": [
    "Explicação:\n",
    "\n"
   ]
  },
  {
   "cell_type": "markdown",
   "metadata": {},
   "source": [
    "Comentários:\n",
    "\n",
    "-"
   ]
  },
  {
   "cell_type": "markdown",
   "metadata": {},
   "source": [
    "**b) Faça um Programa que peça os 3 lados de um triângulo. O programa deverá informar se os valores podem ser um triângulo. Indique, caso os lados formem um triângulo, se o mesmo é: equilátero, isósceles ou escaleno.**\n",
    "\n",
    "Dicas:\n",
    "\n",
    "Três lados formam um triângulo quando a soma de quaisquer dois lados for maior que o terceiro;\n",
    "\n",
    "Triângulo Equilátero: três lados iguais;\n",
    "\n",
    "Triângulo Isósceles: quaisquer dois lados iguais;\n",
    "\n",
    "Triângulo Escaleno: três lados diferentes;"
   ]
  },
  {
   "cell_type": "markdown",
   "metadata": {},
   "source": [
    "Solução:"
   ]
  },
  {
   "cell_type": "code",
   "execution_count": null,
   "metadata": {},
   "outputs": [],
   "source": [
    "side_triangle_01: int = int(input(\"Digite o lado do triângulo: \"))\n",
    "side_triangle_02: int = int(input(\"Digite o lado do triângulo: \"))\n",
    "side_triangle_03: int = int(input(\"Digite o lado do triângulo: \"))\n",
    "\n",
    "if (side_triangle_01 + side_triangle_02 > side_triangle_03) and (side_triangle_01 + side_triangle_03 > side_triangle_02) and (side_triangle_02 + side_triangle_03 > side_triangle_01):\n",
    "    print(\"Os valores formam um triângulo!\")\n",
    "\n",
    "    # Verificando o tipo de triângulo.\n",
    "    if side_triangle_01 == side_triangle_02 == side_triangle_03:\n",
    "        print(\"Triângulo Equilátero: todos os lados iguais.\")\n",
    "\n",
    "    elif side_triangle_01 == side_triangle_02 or side_triangle_01 == side_triangle_03 or side_triangle_02 == side_triangle_03:\n",
    "        print(\"Triângulo Isósceles: dois lados iguais.\")\n",
    "\n",
    "    else:\n",
    "        print(\"Triângulo Escaleno: todos os lados diferentes.\")\n",
    "        \n",
    "else:\n",
    "    print(\"Os valores não formam um triângulo.\")\n"
   ]
  },
  {
   "cell_type": "markdown",
   "metadata": {},
   "source": [
    "Explicação:"
   ]
  },
  {
   "cell_type": "markdown",
   "metadata": {},
   "source": [
    "Comentários:\n",
    "\n",
    "-"
   ]
  },
  {
   "cell_type": "markdown",
   "metadata": {},
   "source": [
    "**c) Determine se um determinado ano lido é bissexto. Sendo que um ano é bissexto se for divisível por 400 ou se for divisível por 4 e não for divisível por 100. Por exemplo: 1988, 1992, 1996.**"
   ]
  },
  {
   "cell_type": "code",
   "execution_count": null,
   "metadata": {},
   "outputs": [],
   "source": [
    "year: int = int(input(\"Digite um ano: \"))\n",
    "\n",
    "if year % 400 == 0:\n",
    "    print()\n",
    "    print(\"Ano bissexto\")\n",
    "\n",
    "elif year % 4 == 0 and not (year % 100 == 0):\n",
    "    print()\n",
    "    print(\"Ano bissexto\")\n",
    "\n",
    "else:\n",
    "    print()\n",
    "    print(\"Ano não bissexto\")\n"
   ]
  },
  {
   "cell_type": "markdown",
   "metadata": {},
   "source": [
    "Explicação:\n"
   ]
  },
  {
   "cell_type": "markdown",
   "metadata": {},
   "source": [
    "Comentários:\n",
    "\n",
    "-"
   ]
  },
  {
   "cell_type": "markdown",
   "metadata": {},
   "source": [
    "**d) Faça um programa que calcule as raízes de uma equação do segundo grau, na forma ax2 + bx + c. O programa deverá pedir os valores de a, b e c e fazer as consistências, informando ao usuário nas seguintes situações:**\n",
    "\n",
    "Se o usuário informar o valor de A igual a zero, a equação não é do segundo grau e o programa não deve fazer pedir os demais valores, sendo encerrado;\n",
    "\n",
    "Se o delta calculado for negativo, a equação não possui raizes reais. Informe ao usuário e encerre o programa;\n",
    "\n",
    "Se o delta calculado for igual a zero a equação possui apenas uma raiz real; informe-a ao usuário;\n",
    "\n",
    "Se o delta for positivo, a equação possui duas raiz reais; informe-as ao usuário;"
   ]
  },
  {
   "cell_type": "code",
   "execution_count": null,
   "metadata": {},
   "outputs": [],
   "source": [
    "a_coefficient: int = int(input(\"Digite o valor do coeficiente a: \"))\n",
    "\n",
    "if a_coefficient == 0:\n",
    "    print()\n",
    "    print(\"equação não é do segundo grau.\")\n",
    "\n",
    "else:\n",
    "    b_coefficient: int = int(input(\"Digite o valor do coeficiente b: \"))\n",
    "    c_coefficient: int = int(input(\"Digite o valor do coeficiente c: \"))\n",
    "\n",
    "    delta: int = (b_coefficient ** 2) - 4 * a_coefficient * c_coefficient\n",
    "    square_delta: int = delta ** (1/2)\n",
    "\n",
    "    if delta < 0:\n",
    "        print()\n",
    "        print(\"A equação não possui valores reais.\")\n",
    "\n",
    "    elif delta == 0:\n",
    "        print()\n",
    "        print(f'A equação só possui uma raiz real e é igual a: {-b_coefficient / (2 * a_coefficient)}.')\n",
    "\n",
    "    elif delta > 0:\n",
    "        root_01: int = (-b_coefficient + square_delta) / (2 * a_coefficient)\n",
    "        root_02: int = (-b_coefficient - square_delta) / (2 * a_coefficient)\n",
    "\n",
    "        print()\n",
    "        print(f'A equação tem duas raizes reais e são iguais a {root_01} e {root_02}')\n"
   ]
  },
  {
   "cell_type": "markdown",
   "metadata": {},
   "source": [
    "Explicação:\n"
   ]
  },
  {
   "cell_type": "markdown",
   "metadata": {},
   "source": [
    "Comentários:\n",
    "\n",
    "-"
   ]
  },
  {
   "cell_type": "markdown",
   "metadata": {},
   "source": [
    "**Faça um programa que leia três números inteiros positivos e efetue o cálculo de uma das \n",
    "seguintes médias de acordo com um valor numérico digitado pelo usuário:**\n",
    "\n",
    "(a) Geométrica\n",
    "\n",
    "(b) Ponderada\n",
    "\n",
    "(c) Harmônica\n",
    "\n",
    "(d) Aritmética"
   ]
  },
  {
   "cell_type": "code",
   "execution_count": null,
   "metadata": {},
   "outputs": [],
   "source": [
    "number_01: int = int(input(\"Digite o primeiro valor: \"))\n",
    "number_02: int = int(input(\"Digite o segundo valor: \"))\n",
    "number_03: int = int(input(\"Digite o terceiro valor: \"))\n",
    "\n",
    "mean_choice: str = input(\"Digite a média que quer calcular ((a) Geométrica (b) Ponderada (c) Harmônica (d) Aritmética)): \".lower())\n",
    "\n",
    "match mean_choice:\n",
    "\n",
    "    case \"a\":\n",
    "        geometric_mean: float = ((number_01 * number_02 * number_03) ** (1/3))\n",
    "\n",
    "        print()\n",
    "        print(f'A média geométrica é: {geometric_mean:.2f}.')\n",
    "    \n",
    "    case \"b\":\n",
    "        weighted_mean: float = (number_01 + 2 * number_02 + 3 * number_03) / 6\n",
    "\n",
    "        print()\n",
    "        print(f'A média ponderada é: {weighted_mean:.2f}.')\n",
    "    \n",
    "    case \"c\":\n",
    "        harmonic_mean: float = (1 / ( 1/ number_01 + 1 / number_02 + 1 / number_03))\n",
    "\n",
    "        print()\n",
    "        print(f'A média harmônica é: {harmonic_mean:.2f}.')\n",
    "    \n",
    "    case \"d\":\n",
    "        aritimetic_mean: float = ((number_01 + number_02 + number_03) / 3)\n",
    "        \n",
    "        print()\n",
    "        print(f'A média aritimética é: {aritimetic_mean:.2f}.')\n",
    "\n",
    "    case _:\n",
    "        print()\n",
    "        print(\"Erro.\")\n"
   ]
  },
  {
   "cell_type": "markdown",
   "metadata": {},
   "source": [
    "Explicação:\n"
   ]
  },
  {
   "cell_type": "markdown",
   "metadata": {},
   "source": [
    "Comnetários:\n",
    "\n",
    "-"
   ]
  },
  {
   "cell_type": "markdown",
   "metadata": {},
   "source": [
    "---"
   ]
  }
 ],
 "metadata": {
  "language_info": {
   "name": "python"
  }
 },
 "nbformat": 4,
 "nbformat_minor": 2
}
