{
 "cells": [
  {
   "cell_type": "markdown",
   "metadata": {},
   "source": [
    "# Exercício 03"
   ]
  },
  {
   "cell_type": "markdown",
   "metadata": {},
   "source": [
    "Vamos trabalhar um pouco com o match."
   ]
  },
  {
   "cell_type": "markdown",
   "metadata": {},
   "source": [
    "**a) Escreva um programa que leia um inteiro entre 1 e 7 e imprima o dia da semana correspondente a este número. Isto é, domingo se 1, segunda-feira se 2, e assim por diante.**"
   ]
  },
  {
   "cell_type": "markdown",
   "metadata": {},
   "source": [
    "Solução:"
   ]
  },
  {
   "cell_type": "code",
   "execution_count": null,
   "metadata": {},
   "outputs": [],
   "source": [
    "number_week_day: int = int(input(\"Escolha um número de 1 a 7: \"))\n",
    "\n",
    "print()\n",
    "\n",
    "match number_week_day:\n",
    "\n",
    "    case 1: \n",
    "        print(\"Domingo.\")\n",
    "\n",
    "    case 2:\n",
    "        print(\"Segunda=feira.\")\n",
    "\n",
    "    case 3:\n",
    "        print(\"Terça-feira.\")\n",
    "\n",
    "    case 4:\n",
    "        print(\"Quarta-feira.\")\n",
    "    \n",
    "    case 5:\n",
    "        print(\"Quinta-feira.\")\n",
    "    \n",
    "    case 6:\n",
    "        print(\"Sexta-feira.\")\n",
    "    \n",
    "    case 7:\n",
    "        print(\"Sábado.\")\n",
    "    \n",
    "    case _:\n",
    "        print(\"Erro.\")\n"
   ]
  },
  {
   "cell_type": "markdown",
   "metadata": {},
   "source": [
    "Explicação:\n"
   ]
  },
  {
   "cell_type": "markdown",
   "metadata": {},
   "source": [
    "Comentários:\n",
    "\n",
    "-"
   ]
  },
  {
   "cell_type": "markdown",
   "metadata": {},
   "source": [
    "**b) Faça um programa que mostre ao usuário um menu com 4 opções de operações matemáticas (as básicas, por exemplo). O usuário escolhe uma das opções e o seu programa então pede dois valores numéricos e realiza a operação, mostrando o resultado e saindo.**"
   ]
  },
  {
   "cell_type": "markdown",
   "metadata": {},
   "source": [
    "Solução:"
   ]
  },
  {
   "cell_type": "code",
   "execution_count": null,
   "metadata": {},
   "outputs": [],
   "source": [
    "math_operation: str = input(\"Digite uma dessas quatro operaçãoes (+, -, * ou /): \")\n",
    "number_01: float = float(input(\"Digite o primeiro número: \"))\n",
    "number_02: float = float(input(\"Digite o segundo número: \"))\n",
    "\n",
    "match math_operation:\n",
    "\n",
    "    case \"+\":\n",
    "        print(f'{number_01} + {number_02} = {number_01 + number_02}.')\n",
    "    \n",
    "    case \"-\":\n",
    "        print(f'{number_01} - {number_02} = {number_01 - number_02}.')\n",
    "    \n",
    "    case \"*\":\n",
    "        print(f'{number_01} * {number_02} = {number_01 * number_02}.')\n",
    "    \n",
    "    case \"/\":\n",
    "        print(f'{number_01} / {number_02} = {number_01 / number_02}.')\n",
    "\n",
    "    case _:\n",
    "        print(\"Valor inválido.\")\n"
   ]
  },
  {
   "cell_type": "markdown",
   "metadata": {},
   "source": [
    "Explicação:"
   ]
  },
  {
   "cell_type": "markdown",
   "metadata": {},
   "source": [
    "Comentários:\n",
    "\n",
    "-"
   ]
  },
  {
   "cell_type": "markdown",
   "metadata": {},
   "source": [
    "---"
   ]
  }
 ],
 "metadata": {
  "kernelspec": {
   "display_name": "Python 3",
   "language": "python",
   "name": "python3"
  },
  "language_info": {
   "codemirror_mode": {
    "name": "ipython",
    "version": 3
   },
   "file_extension": ".py",
   "mimetype": "text/x-python",
   "name": "python",
   "nbconvert_exporter": "python",
   "pygments_lexer": "ipython3",
   "version": "3.13.2"
  }
 },
 "nbformat": 4,
 "nbformat_minor": 2
}
