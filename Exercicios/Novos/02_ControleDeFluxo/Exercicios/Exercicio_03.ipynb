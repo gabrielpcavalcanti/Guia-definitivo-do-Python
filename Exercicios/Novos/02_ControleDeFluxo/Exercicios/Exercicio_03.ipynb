{
 "cells": [
  {
   "cell_type": "markdown",
   "metadata": {},
   "source": [
    "# Exercício 03"
   ]
  },
  {
   "cell_type": "markdown",
   "metadata": {},
   "source": [
    "Vamos trabalhar um pouco com o match."
   ]
  },
  {
   "cell_type": "markdown",
   "metadata": {},
   "source": [
    "**a) Escreva um programa que leia um inteiro entre 1 e 7 e imprima o dia da semana correspondente a este número. Isto é, domingo se 1, segunda-feira se 2, e assim por diante.**"
   ]
  },
  {
   "cell_type": "markdown",
   "metadata": {},
   "source": [
    "Solução:"
   ]
  },
  {
   "cell_type": "code",
   "execution_count": null,
   "metadata": {},
   "outputs": [],
   "source": [
    "number_week_day: int = int(input(\"Escolha um número de 1 a 7: \"))\n",
    "\n",
    "print()\n",
    "\n",
    "match number_week_day:\n",
    "\n",
    "    case 1: \n",
    "        print(\"Domingo.\")\n",
    "\n",
    "    case 2:\n",
    "        print(\"Segunda=feira.\")\n",
    "\n",
    "    case 3:\n",
    "        print(\"Terça-feira.\")\n",
    "\n",
    "    case 4:\n",
    "        print(\"Quarta-feira.\")\n",
    "    \n",
    "    case 5:\n",
    "        print(\"Quinta-feira.\")\n",
    "    \n",
    "    case 6:\n",
    "        print(\"Sexta-feira.\")\n",
    "    \n",
    "    case 7:\n",
    "        print(\"Sábado.\")\n",
    "    \n",
    "    case _:\n",
    "        print(\"Erro.\")\n"
   ]
  },
  {
   "cell_type": "markdown",
   "metadata": {},
   "source": [
    "Explicação:\n",
    "\n",
    "Exercício para aprender a sintaxe do match. Criamos uma variável que é um interiro e dependndo desse inteiro vai cair num desses casos, nada a mais. "
   ]
  },
  {
   "cell_type": "markdown",
   "metadata": {},
   "source": [
    "Comentários:\n",
    "\n",
    "- Sempre é bom deixar o último caso como sendo _ para que caso não ocorra o input desejado, algo de errado e o usuário saiba que algo deu ruim. Tem com melhorar essa obordagem, vermos quando falarmos do tratamento de erros."
   ]
  },
  {
   "cell_type": "markdown",
   "metadata": {},
   "source": [
    "**b) Faça um programa que mostre ao usuário um menu com 4 opções de operações matemáticas (as básicas, por exemplo). O usuário escolhe uma das opções e o seu programa então pede dois valores numéricos e realiza a operação, mostrando o resultado e saindo.**"
   ]
  },
  {
   "cell_type": "markdown",
   "metadata": {},
   "source": [
    "Solução:"
   ]
  },
  {
   "cell_type": "code",
   "execution_count": null,
   "metadata": {},
   "outputs": [],
   "source": [
    "math_operation: str = input(\"Digite uma dessas quatro operaçãoes (+, -, * ou /): \")\n",
    "number_01: float = float(input(\"Digite o primeiro número: \"))\n",
    "number_02: float = float(input(\"Digite o segundo número: \"))\n",
    "\n",
    "match math_operation:\n",
    "\n",
    "    case \"+\":\n",
    "        print(f'{number_01} + {number_02} = {number_01 + number_02}.')\n",
    "    \n",
    "    case \"-\":\n",
    "        print(f'{number_01} - {number_02} = {number_01 - number_02}.')\n",
    "    \n",
    "    case \"*\":\n",
    "        print(f'{number_01} * {number_02} = {number_01 * number_02}.')\n",
    "    \n",
    "    case \"/\":\n",
    "        print(f'{number_01} / {number_02} = {number_01 / number_02}.')\n",
    "\n",
    "    case _:\n",
    "        print(\"Valor inválido.\")\n"
   ]
  },
  {
   "cell_type": "markdown",
   "metadata": {},
   "source": [
    "Explicação:\n",
    "\n",
    "Mesmo caso da questão anterior, mas agora sendo uma String. Fiz as operações dentro das f-strings para não ter que criar uma variável para cada operação. "
   ]
  },
  {
   "cell_type": "markdown",
   "metadata": {},
   "source": [
    "Comentários:\n",
    "\n",
    "- Teria como deixar o input mais \"bonitinho\", mas preferi deixar de forma mais direta. Não é um programa complexo, é apenas para aprender a match.\n",
    "\n",
    "- Dentro das f-strings poderia ter usando o =, mas para visualização final, não gosto dele. Ele é bom para a depuração do programa, mas não para deixar no código final."
   ]
  },
  {
   "cell_type": "markdown",
   "metadata": {},
   "source": [
    "---"
   ]
  }
 ],
 "metadata": {
  "kernelspec": {
   "display_name": "Python 3",
   "language": "python",
   "name": "python3"
  },
  "language_info": {
   "codemirror_mode": {
    "name": "ipython",
    "version": 3
   },
   "file_extension": ".py",
   "mimetype": "text/x-python",
   "name": "python",
   "nbconvert_exporter": "python",
   "pygments_lexer": "ipython3",
   "version": "3.13.2"
  }
 },
 "nbformat": 4,
 "nbformat_minor": 2
}
