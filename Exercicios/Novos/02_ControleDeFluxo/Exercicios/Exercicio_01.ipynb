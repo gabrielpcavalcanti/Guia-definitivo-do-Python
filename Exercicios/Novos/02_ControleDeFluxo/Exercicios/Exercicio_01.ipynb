{
 "cells": [
  {
   "cell_type": "markdown",
   "metadata": {},
   "source": [
    "# Exercício 01"
   ]
  },
  {
   "cell_type": "markdown",
   "metadata": {},
   "source": [
    "Vamos fazer uns exercícios bem simples para se acostumar com os novos comandos."
   ]
  },
  {
   "cell_type": "markdown",
   "metadata": {},
   "source": [
    "**a) Faça um programa que receba dois números e mostre qual deles é maior.**"
   ]
  },
  {
   "cell_type": "markdown",
   "metadata": {},
   "source": [
    "Solução:"
   ]
  },
  {
   "cell_type": "code",
   "execution_count": null,
   "metadata": {},
   "outputs": [],
   "source": [
    "number_01: float = float(input(\"Digite um número: \"))\n",
    "number_02: float = float(input(\"Digite um número: \"))\n",
    "\n",
    "if number_01 > number_02:\n",
    "    print()\n",
    "    print(f'O maior número é: {number_01}')\n",
    "\n",
    "else:\n",
    "    print()\n",
    "    print(f'O maior número é: {number_02}')\n"
   ]
  },
  {
   "cell_type": "markdown",
   "metadata": {},
   "source": [
    "Explicação:\n",
    "\n",
    "Usamos um operador de comparação para verificar se um número é maior que o outro e colocamos ele dentro da estrutura if. As possibilidades são dele ser maior, menos ou igual. Se for maior, o bloco do if é executado, caso contrário o bloco do else é executado."
   ]
  },
  {
   "cell_type": "markdown",
   "metadata": {},
   "source": [
    "Comentários:\n",
    "\n",
    "- Não utilizamos nada de diferente dos programas anteriores com exceção do if e else. É baisicamente o que faremos em todos os exercícios dessa pasta.\n",
    "\n",
    "- Perceba que se o número for igual, ele execultará o bloco else, e falará que o outro número é maior, mas na verdade é igual. Teriamos que mudar o programa para cobrir essa falha, mas como a questão não pediu, não fiz.\n"
   ]
  },
  {
   "cell_type": "markdown",
   "metadata": {},
   "source": [
    "**b) Leia um número fornecido pelo usuário. Se o número for positivo, calcule a raiz quadrada do número. Se o número for negativo, mostre uma mensagem que o número é inválido.**"
   ]
  },
  {
   "cell_type": "markdown",
   "metadata": {},
   "source": [
    "Solução:"
   ]
  },
  {
   "cell_type": "code",
   "execution_count": null,
   "metadata": {},
   "outputs": [],
   "source": [
    "number_01: float = float(input((\"Digite um número: \")))\n",
    "\n",
    "if number_01 >= 0:\n",
    "    print()\n",
    "    print(f'A raiz quadrade de {number_01} é {number_01 ** (1/2)}.')\n",
    "\n",
    "else:\n",
    "    print()\n",
    "    print(\"Número inválido para calcular a raiz quadrada.\")\n"
   ]
  },
  {
   "cell_type": "markdown",
   "metadata": {},
   "source": [
    "Explicação:\n",
    "\n",
    "Mesmo esquema da questão anterior, testa uma condição do if e se for verdade executa, caso contrário, o bloco do else é ativado."
   ]
  },
  {
   "cell_type": "markdown",
   "metadata": {},
   "source": [
    "Comentários:\n",
    "\n",
    "- Poderia ter criado uma variável que calculasse a raiz quadrado do número e ter colocado ela dentro da f-string. Preferi não fazer isso pois é um programa simple, em outros casos, poderia ter colocado numa variável.\n",
    "\n",
    "- Poderia também ter importando a biblioteca math do Python para usar o método sqrt( ). Não vimos isso ainda, por isso não utilizei, mas seria uma melhor abordagem."
   ]
  },
  {
   "cell_type": "markdown",
   "metadata": {},
   "source": [
    "**c) Faça um programa que receba um número inteiro e verifique se este número é par ou ímpar.**"
   ]
  },
  {
   "cell_type": "markdown",
   "metadata": {},
   "source": [
    "Solução:"
   ]
  },
  {
   "cell_type": "code",
   "execution_count": null,
   "metadata": {},
   "outputs": [],
   "source": [
    "number_01: int = int(input(\"Digite um número: \"))\n",
    "\n",
    "if number_01 % 2 == 0:\n",
    "    print()\n",
    "    print(f'O número {number_01} é par.')\n",
    "\n",
    "else:\n",
    "    print()\n",
    "    print(f'O número {number_01} é ímpar.')"
   ]
  },
  {
   "cell_type": "markdown",
   "metadata": {},
   "source": [
    "Explicação:\n",
    "\n",
    "Mesmo algorítimo das questões anteriores, somente o que estamos querendo validar é o que muda."
   ]
  },
  {
   "cell_type": "markdown",
   "metadata": {},
   "source": [
    "Comentários:\n",
    "\n",
    "- O simbolo % é bem útil em determinados casos, lembre que ele existe. "
   ]
  },
  {
   "cell_type": "markdown",
   "metadata": {},
   "source": [
    "**d) Leia o salário de um trabalhador e o valor da prestação de um empréstimo. Se a prestação for maior que 20% do salário imprima: Empréstimo não concedido, caso contrário imprima: Empréstimo concedido.**"
   ]
  },
  {
   "cell_type": "markdown",
   "metadata": {},
   "source": [
    "Solução:"
   ]
  },
  {
   "cell_type": "code",
   "execution_count": null,
   "metadata": {},
   "outputs": [],
   "source": [
    "salary: float = float(input(\"Digite seu salário: \"))\n",
    "provision_loan: float = float(input(\"Digite a prestação de um empréstimo: \"))\n",
    "\n",
    "if provision_loan > (0.2 * salary):\n",
    "    print()\n",
    "    print(\"Empréstimo não concedido.\")\n",
    "\n",
    "else:\n",
    "    print()\n",
    "    print(\"Empréstimo concedido.\")\n"
   ]
  },
  {
   "cell_type": "markdown",
   "metadata": {},
   "source": [
    "Explicação:\n",
    "\n",
    "Um problema um pouco mais complexo, mas a estrura segue a mesma, testa uma condição e verifica se é verdadeira ou falsa."
   ]
  },
  {
   "cell_type": "markdown",
   "metadata": {},
   "source": [
    "Comentários:\n",
    "\n",
    "- "
   ]
  },
  {
   "cell_type": "markdown",
   "metadata": {},
   "source": [
    "---"
   ]
  }
 ],
 "metadata": {
  "language_info": {
   "name": "python"
  }
 },
 "nbformat": 4,
 "nbformat_minor": 2
}
