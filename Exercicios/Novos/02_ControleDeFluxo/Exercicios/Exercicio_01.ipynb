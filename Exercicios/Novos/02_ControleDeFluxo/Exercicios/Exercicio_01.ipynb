{
 "cells": [
  {
   "cell_type": "markdown",
   "metadata": {},
   "source": [
    "# Exercício 01"
   ]
  },
  {
   "cell_type": "markdown",
   "metadata": {},
   "source": [
    "Vamos fazer uns exercícios bem simples para se acostumar com os novos comandos."
   ]
  },
  {
   "cell_type": "markdown",
   "metadata": {},
   "source": [
    "**a) Faça um programa que receba dois números e mostre qual deles é maior.**"
   ]
  },
  {
   "cell_type": "markdown",
   "metadata": {},
   "source": [
    "Solução:"
   ]
  },
  {
   "cell_type": "code",
   "execution_count": null,
   "metadata": {},
   "outputs": [],
   "source": [
    "number_01: float = float(input(\"Digite um número: \"))\n",
    "number_02: float = float(input(\"Digite um número: \"))\n",
    "\n",
    "if number_01 > number_02:\n",
    "    print()\n",
    "    print(f'O maior número é: {number_01}')\n",
    "\n",
    "else:\n",
    "    print()\n",
    "    print(f'O maior número é: {number_02}')\n"
   ]
  },
  {
   "cell_type": "markdown",
   "metadata": {},
   "source": [
    "Explicação:\n"
   ]
  },
  {
   "cell_type": "markdown",
   "metadata": {},
   "source": [
    "Comentários:\n",
    "\n",
    "-"
   ]
  },
  {
   "cell_type": "markdown",
   "metadata": {},
   "source": [
    "**b) Leia um número fornecido pelo usuário. Se o número for positivo, calcule a raiz quadrada do número. Se o número for negativo, mostre uma mensagem que o número é inválido.**"
   ]
  },
  {
   "cell_type": "markdown",
   "metadata": {},
   "source": [
    "Solução:"
   ]
  },
  {
   "cell_type": "code",
   "execution_count": null,
   "metadata": {},
   "outputs": [],
   "source": [
    "number_01: float = float(input((\"Digite um número: \")))\n",
    "\n",
    "if number_01 >= 0:\n",
    "    print()\n",
    "    print(f'A raiz quadrade de {number_01} é {number_01 ** (1/2)}.')\n",
    "\n",
    "else:\n",
    "    print()\n",
    "    print(\"Número inválido para calcular a raiz quadrada.\")\n"
   ]
  },
  {
   "cell_type": "markdown",
   "metadata": {},
   "source": [
    "Explicação:\n",
    "\n"
   ]
  },
  {
   "cell_type": "markdown",
   "metadata": {},
   "source": [
    "Comentários:\n",
    "\n",
    "-"
   ]
  },
  {
   "cell_type": "markdown",
   "metadata": {},
   "source": [
    "**c) Faça um programa que receba um número inteiro e verifique se este número é par ou ímpar.**"
   ]
  },
  {
   "cell_type": "code",
   "execution_count": null,
   "metadata": {},
   "outputs": [],
   "source": [
    "number_01: int = int(input(\"Digite um número: \"))\n",
    "\n",
    "if number_01 % 2 == 0:\n",
    "    print()\n",
    "    print(f'O número {number_01} é par.')\n",
    "\n",
    "else:\n",
    "    print()\n",
    "    print(f'O número {number_01} é ímpar.')"
   ]
  },
  {
   "cell_type": "markdown",
   "metadata": {},
   "source": [
    "Explicação:"
   ]
  },
  {
   "cell_type": "markdown",
   "metadata": {},
   "source": [
    "Comentários:\n",
    "\n",
    "-"
   ]
  },
  {
   "cell_type": "markdown",
   "metadata": {},
   "source": [
    "**d) Leia o salário de um trabalhador e o valor da prestação de um empréstimo. Se a prestação for maior que 20% do salário imprima: Empréstimo não concedido, caso contrário imprima: Empréstimo concedido.**"
   ]
  },
  {
   "cell_type": "markdown",
   "metadata": {},
   "source": [
    "Solução:"
   ]
  },
  {
   "cell_type": "code",
   "execution_count": null,
   "metadata": {},
   "outputs": [],
   "source": [
    "salary: float = float(input(\"Digite seu salário: \"))\n",
    "provision_loan: float = float(input(\"Digite a prestação de um empréstimo: \"))\n",
    "\n",
    "if provision_loan > (0.2 * salary):\n",
    "    print()\n",
    "    print(\"Empréstimo não concedido.\")\n",
    "\n",
    "else:\n",
    "    print()\n",
    "    print(\"Empréstimo concedido.\")\n"
   ]
  },
  {
   "cell_type": "markdown",
   "metadata": {},
   "source": [
    "Explicação:"
   ]
  },
  {
   "cell_type": "markdown",
   "metadata": {},
   "source": [
    "Comentários:\n",
    "\n",
    "-"
   ]
  },
  {
   "cell_type": "markdown",
   "metadata": {},
   "source": [
    "---"
   ]
  }
 ],
 "metadata": {
  "language_info": {
   "name": "python"
  }
 },
 "nbformat": 4,
 "nbformat_minor": 2
}
