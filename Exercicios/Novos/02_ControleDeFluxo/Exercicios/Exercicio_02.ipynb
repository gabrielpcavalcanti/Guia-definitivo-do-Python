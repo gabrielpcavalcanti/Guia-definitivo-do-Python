{
 "cells": [
  {
   "cell_type": "markdown",
   "metadata": {},
   "source": [
    "# Exercício 02"
   ]
  },
  {
   "cell_type": "markdown",
   "metadata": {},
   "source": [
    "Ainda vamos trabalhar com exercícios simples, mas agora com a presença do elif."
   ]
  },
  {
   "cell_type": "markdown",
   "metadata": {},
   "source": [
    "**a) Faça um programa que receba dois números e mostre o maior. Se por acaso os dois números forem iguais, imprima a mensagem: Números iguais.**"
   ]
  },
  {
   "cell_type": "markdown",
   "metadata": {},
   "source": [
    "Solução:"
   ]
  },
  {
   "cell_type": "code",
   "execution_count": null,
   "metadata": {},
   "outputs": [],
   "source": [
    "number_01: float = float(input(\"Digite um número: \"))\n",
    "number_02: float = float(input(\"Digite um número: \"))\n",
    "\n",
    "if number_01 > number_02:\n",
    "    print()\n",
    "    print(f'O maior número é {number_01}.')\n",
    "\n",
    "elif number_02 > number_01:\n",
    "    print()\n",
    "    print(f'O maior número é {number_02}.')\n",
    "\n",
    "else:\n",
    "    print()\n",
    "    print(\"Números iguais.\")\n"
   ]
  },
  {
   "cell_type": "markdown",
   "metadata": {},
   "source": [
    "Explicação:\n",
    "\n",
    "\"Correção\" do exercício a) do arquivo anterior. Cobrimos todos os casos possíveis com a ajuda o elif.\n"
   ]
  },
  {
   "cell_type": "markdown",
   "metadata": {},
   "source": [
    "Comentários:\n",
    "\n",
    "- O elif pode ser bastene útil, mas quando utilizado muitas vezes dentro da mesma identação, pode não ser vantajoso, vermos depois, mas nesse caso, não vejo nenhum problema."
   ]
  },
  {
   "cell_type": "markdown",
   "metadata": {},
   "source": [
    "**b) Faça um programa que receba a altura e o sexo de uma pessoa e calcule e mostre seu peso ideal, utilizando as seguintes fórmulas (onde h corresponde à altura):**\n",
    "\n",
    "• Homens: (72.7 * h) — 58 \n",
    "\n",
    "• Mulheres: (62.1 * h) — 44.7\n",
    "\n",
    "**Se o valor for inválido, escreva: Sexo inválido.**"
   ]
  },
  {
   "cell_type": "markdown",
   "metadata": {},
   "source": [
    "Solução:"
   ]
  },
  {
   "cell_type": "code",
   "execution_count": null,
   "metadata": {},
   "outputs": [],
   "source": [
    "hight: float = float(input(\"Digite sua altura: \"))\n",
    "person_sex: str = input(\"Digite seu sexo (m para homens e f para mulheres): \".lower())\n",
    "\n",
    "ideal_man_weight: float = (72.7 * hight) - 58 \n",
    "ideal_woman_weight: float = (62.1 * hight) - 44.7\n",
    "\n",
    "if person_sex == \"m\":\n",
    "    print()\n",
    "    print(f'Seu peso ideal é: {ideal_man_weight} kg.')\n",
    "\n",
    "elif person_sex == \"f\":\n",
    "    print()\n",
    "    print(f'Seu peso ideal é: {ideal_woman_weight} kg.')\n",
    "\n",
    "else:\n",
    "    print()\n",
    "    print(\"Sexo inválido.\")\n"
   ]
  },
  {
   "cell_type": "markdown",
   "metadata": {},
   "source": [
    "Explicação:\n",
    "\n",
    "Pedi dois valores, um float e uma String. Coloquei que a String sempre virá em minúscula, mesmo que digite em maiúsculo (forma de previnir erros, mesmo que tenha muitos outros que possam ocorrer nesse programa). Calculei o que o problema queria e coloquei em variáveis e por fim, utilizei os comanos if, elif e else como já tinhamos visto anteriormente."
   ]
  },
  {
   "cell_type": "markdown",
   "metadata": {},
   "source": [
    "Comentários:\n",
    "\n",
    "- Poderia ter utilizado o match nessa questão, sem problema algum."
   ]
  },
  {
   "cell_type": "markdown",
   "metadata": {},
   "source": [
    "**c) Leia a idade e o tempo de serviço de um trabalhador e escreva se ele pode ou não se aposentar. As condições para aposentadoria são**\n",
    "\n",
    "• Ter pelo menos 65 anos, \n",
    "\n",
    "• Ou ter trabalhado pelo menos 30 anos, \n",
    "\n",
    "• Ou ter pelo menos 60 anos e trabalhado pelo menos 25 anos. "
   ]
  },
  {
   "cell_type": "code",
   "execution_count": null,
   "metadata": {},
   "outputs": [],
   "source": [
    "age_employee: int = int(input(\"Digite a idade do trabalhador: \"))\n",
    "time_service: int = int(input(\"Digite o tempo de serviço: \"))\n",
    "\n",
    "if age_employee >= 65:\n",
    "    print(\"Ele(a) pode ser aposentar.\")\n",
    "\n",
    "elif time_service >= 30:\n",
    "    print(\"Ele(a) pode ser aposentar.\")\n",
    "\n",
    "elif age_employee >= 60 and time_service >= 25:\n",
    "    print(\"Ele(a) pode ser aposentar.\")\n",
    "\n",
    "else:\n",
    "    print(\"Não pode se aposentar.\")\n"
   ]
  },
  {
   "cell_type": "markdown",
   "metadata": {},
   "source": [
    "Explicação:\n",
    "\n",
    "Pede dois valores inteiros. Os comandos if, elif e else verificam as condições que a questão pediu."
   ]
  },
  {
   "cell_type": "markdown",
   "metadata": {},
   "source": [
    "Comentários:\n",
    "\n",
    "-"
   ]
  },
  {
   "cell_type": "markdown",
   "metadata": {},
   "source": [
    "---"
   ]
  }
 ],
 "metadata": {
  "language_info": {
   "name": "python"
  }
 },
 "nbformat": 4,
 "nbformat_minor": 2
}
