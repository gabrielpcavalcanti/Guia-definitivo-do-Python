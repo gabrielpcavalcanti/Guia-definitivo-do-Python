{
 "cells": [
  {
   "cell_type": "markdown",
   "metadata": {},
   "source": [
    "# Exercício 02"
   ]
  },
  {
   "cell_type": "markdown",
   "metadata": {},
   "source": [
    "Ainda vamos trabalhar com exercícios simples, mas agora com a presença do elif."
   ]
  },
  {
   "cell_type": "markdown",
   "metadata": {},
   "source": [
    "**a) Faça um programa que receba dois números e mostre o maior. Se por acaso os dois números forem iguais, imprima a mensagem: Números iguais.**"
   ]
  },
  {
   "cell_type": "markdown",
   "metadata": {},
   "source": [
    "Solução:"
   ]
  },
  {
   "cell_type": "code",
   "execution_count": null,
   "metadata": {},
   "outputs": [],
   "source": [
    "number_01: float = float(input(\"Digite um número: \"))\n",
    "number_02: float = float(input(\"Digite um número: \"))\n",
    "\n",
    "if number_01 > number_02:\n",
    "    print()\n",
    "    print(f'O maior número é {number_01}.')\n",
    "\n",
    "elif number_02 > number_01:\n",
    "    print()\n",
    "    print(f'O maior número é {number_02}.')\n",
    "\n",
    "else:\n",
    "    print()\n",
    "    print(\"Números iguais.\")\n"
   ]
  },
  {
   "cell_type": "markdown",
   "metadata": {},
   "source": [
    "Explicação:\n"
   ]
  },
  {
   "cell_type": "markdown",
   "metadata": {},
   "source": [
    "Comentários:\n",
    "\n",
    "-"
   ]
  },
  {
   "cell_type": "markdown",
   "metadata": {},
   "source": [
    "**b) Faça um programa que receba a altura e o sexo de uma pessoa e calcule e mostre seu peso ideal, utilizando as seguintes fórmulas (onde h corresponde à altura):**\n",
    "\n",
    "• Homens: (72.7 * h) — 58 \n",
    "\n",
    "• Mulheres: (62.1 * h) — 44.7\n",
    "\n",
    "**Se o valor for inválido, escreva: Sexo inválido.**"
   ]
  },
  {
   "cell_type": "markdown",
   "metadata": {},
   "source": [
    "Solução:"
   ]
  },
  {
   "cell_type": "code",
   "execution_count": null,
   "metadata": {},
   "outputs": [],
   "source": [
    "hight: float = float(input(\"Digite sua altura: \"))\n",
    "person_sex: str = input(\"Digite seu sexo (m para homens e f para mulheres): \".lower())\n",
    "\n",
    "ideal_man_weight: float = (72.7 * hight) - 58 \n",
    "ideal_woman_weight: float = (62.1 * hight) - 44.7\n",
    "\n",
    "if person_sex == \"m\":\n",
    "    print()\n",
    "    print(f'Seu peso ideal é: {ideal_man_weight} kg.')\n",
    "\n",
    "elif person_sex == \"f\":\n",
    "    print()\n",
    "    print(f'Seu peso ideal é: {ideal_woman_weight} kg.')\n",
    "\n",
    "else:\n",
    "    print()\n",
    "    print(\"Sexo inválido.\")\n"
   ]
  },
  {
   "cell_type": "markdown",
   "metadata": {},
   "source": [
    "Explicação:"
   ]
  },
  {
   "cell_type": "markdown",
   "metadata": {},
   "source": [
    "Comentários:\n",
    "\n",
    "-"
   ]
  },
  {
   "cell_type": "markdown",
   "metadata": {},
   "source": [
    "---"
   ]
  }
 ],
 "metadata": {
  "language_info": {
   "name": "python"
  }
 },
 "nbformat": 4,
 "nbformat_minor": 2
}
