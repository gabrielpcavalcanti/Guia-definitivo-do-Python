{
 "cells": [
  {
   "cell_type": "markdown",
   "metadata": {},
   "source": [
    "# Exercicio 07"
   ]
  },
  {
   "cell_type": "markdown",
   "metadata": {},
   "source": [
    "Vamos brincar com uns exercicios práticos.\n",
    "\n",
    "A programação pode ajudar a responder questões simples do dia a dia. Saber programar pode facilitar seu trabalho e autoomatizar processos."
   ]
  },
  {
   "cell_type": "markdown",
   "metadata": {},
   "source": [
    "**a) Calcule o salário de uma pessoa sabendo quantas horas ela trabalha por mês e quanto ela ganha por hora. Calcule o salário com 10%, 12% e 15%  de aumento.**"
   ]
  },
  {
   "cell_type": "markdown",
   "metadata": {},
   "source": [
    "Solução:"
   ]
  },
  {
   "cell_type": "code",
   "execution_count": null,
   "metadata": {},
   "outputs": [
    {
     "name": "stdout",
     "output_type": "stream",
     "text": [
      "O salário é 2400.00\n",
      "O salário com 10% de aumento é 2640.00\n",
      "O salário com 12% de aumento é 2688.00\n",
      "O salário com 15% de aumento é 2760.00\n"
     ]
    }
   ],
   "source": [
    "work_hour_month: int = int(input(\"Horas trabalhadas no mês: \"))\n",
    "money_hour: float = float(input(\"Quando ganha por hora: \"))\n",
    "\n",
    "salary_month: float = work_hour_month * money_hour\n",
    "\n",
    "print(f'O salário é {salary_month:.2f}.')\n",
    "print(f'O salário com 10% de aumento é {salary_month * 1.10:.2f}.')\n",
    "print(f'O salário com 12% de aumento é {salary_month * 1.12:.2f}.')\n",
    "print(f'O salário com 15% de aumento é {salary_month * 1.15:.2f}.')\n",
    "\n"
   ]
  },
  {
   "cell_type": "markdown",
   "metadata": {},
   "source": [
    "Explicação:\n",
    "\n"
   ]
  },
  {
   "cell_type": "markdown",
   "metadata": {},
   "source": [
    "Comentários:\n",
    "\n",
    "-"
   ]
  },
  {
   "cell_type": "markdown",
   "metadata": {},
   "source": [
    "ganha_hora = int(input(\"Digite quanto vc ganha por hora: \"))\n",
    "numero_hora = float(input(\"Digite quantas horas horas trabalhou o mês: \"))\n",
    "\n",
    "salario_Bruto = ganha_hora * numero_hora\n",
    "ir = 0.11 * salario_Bruto\n",
    "inss = 0.08 * salario_Bruto\n",
    "sindicato = 0.05 * salario_Bruto\n",
    "salario_liquido = salario_Bruto - ir - inss - sindicato\n",
    "\n",
    "#Letra A\n",
    "print()\n",
    "print(\"Letra a:\")\n",
    "print(\"O seu salário bruto é: {:.2f}\".format(salario_Bruto))\n",
    "\n",
    "#Letra B\n",
    "print()\n",
    "print(\"Letra b:\")\n",
    "print(\"Quanto pagou ao innss: {:.2f}\".format(inss))\n",
    "\n",
    "#Letra C\n",
    "print()\n",
    "print(\"Letra c:\")\n",
    "print(\"Quanto pagou ao sindicato: {:.2f}\".format(sindicato))\n",
    "\n",
    "#Letra D\n",
    "print()\n",
    "print(\"Letra d:\")\n",
    "print(\"O seu inposto de renda é: {:.2f}\".format(ir))\n",
    "\n",
    "#Letra E\n",
    "print()\n",
    "print(\"Letra e:\")\n",
    "print(\"O seu salário líquido: {:.2f}\".format(salario_liquido))\n"
   ]
  },
  {
   "cell_type": "markdown",
   "metadata": {},
   "source": [
    "\"\"\"\n",
    "Uma empresa contrata um encanador a R$ 30.00 por dia. Faça um programa que solicite o número de dias trabalhados pelo encanador e imprima a quantia \n",
    "líquida que deverá ser paga, sabendo que são decontados 8% para imposto de renda.\n",
    "\"\"\"\n",
    "\n",
    "pay = 30\n",
    "\n",
    "days = int(input(\"Digite o número de dias: \"))\n",
    "\n",
    "total = pay * days\n",
    "\n",
    "liquid = total - (0.8 * total)\n",
    "\n",
    "print(f'A quantia líquida é {liquid}')\n"
   ]
  },
  {
   "cell_type": "markdown",
   "metadata": {},
   "source": [
    "---"
   ]
  },
  {
   "cell_type": "markdown",
   "metadata": {},
   "source": [
    "\"\"\"\n",
    "Faça um programa que leia a largura e a altura de uma parede em metros, calcule a sua área e a quantidade de tinta necessária para pintá-la, \n",
    "sabendo que cada litro de tinta pinta uma área de 2 metros quadrados.\n",
    "\"\"\"\n",
    "\n",
    "largura = float(input(\"Digite a largura em metros: \"))\n",
    "altura = float(input(\"Digite a altura em metros: \"))\n",
    "\n",
    "area = largura * altura\n",
    "\n",
    "quantidade_de_tinta  = area // 2\n",
    "\n",
    "print()\n",
    "\n",
    "print(f'A área a ser pintada é de {area} metros quadrados e vai precisar de {quantidade_de_tinta} litros de tinta')"
   ]
  },
  {
   "cell_type": "markdown",
   "metadata": {},
   "source": [
    "\"\"\"\n",
    "Escrava um programa qua pargunta a quantidade da Km percorridos por um carro alugado a a quantidada da dias pelos \n",
    "quais ele foi alugado. Calcule o preço a pagar, sabendo que o carro \n",
    "custa RS60 por dia a R$ 0,15 por Km rodado. \n",
    "\"\"\"\n",
    "\n",
    "quant_dias = float(input(\"Quantos dias você alugou o carro?: \"))\n",
    "quant_km = float(input(\"Quantos quilometros você andou com o carro?: \"))\n",
    "\n",
    "preço = quant_dias * 60 + quant_km * 0.15\n",
    "\n",
    "print(\"Você terá que pagar R$ {} por {} dias e por ter percorrido {} km\".format(preço,quant_dias,quant_km))"
   ]
  },
  {
   "cell_type": "markdown",
   "metadata": {},
   "source": [
    "tamanho = float(input(\"Qual o tamho da área a ser pintada: \"))\n",
    "\n",
    "lata_tinta_18 = tamanho / 108\n",
    "preco_18 = lata_tinta_18 * 80\n",
    "\n",
    "lata_tinta_3p6 = tamanho / 21.6\n",
    "preco_3p6 = lata_tinta_3p6 * 25\n",
    "\n",
    "mistura = tamanho % 108\n",
    "resto3p6 = mistura / 21.6\n",
    "\n",
    "\n",
    "print()\n",
    "print(\"A quantidade de latas de 18 litros: {:.2f}\".format(lata_tinta_18))\n",
    "\n",
    "print()\n",
    "print(\"A quantidade de latas de tinta de 3.6 litros: {:.2f}\".format(lata_tinta_3p6))"
   ]
  },
  {
   "cell_type": "markdown",
   "metadata": {},
   "source": [
    "Outras Soluções:"
   ]
  },
  {
   "cell_type": "code",
   "execution_count": null,
   "metadata": {},
   "outputs": [],
   "source": []
  },
  {
   "cell_type": "code",
   "execution_count": null,
   "metadata": {},
   "outputs": [],
   "source": []
  },
  {
   "cell_type": "markdown",
   "metadata": {},
   "source": [
    "Explicação:"
   ]
  },
  {
   "cell_type": "markdown",
   "metadata": {},
   "source": [
    "Comentários:\n",
    "\n",
    "-"
   ]
  },
  {
   "cell_type": "markdown",
   "metadata": {},
   "source": [
    "---"
   ]
  }
 ],
 "metadata": {
  "kernelspec": {
   "display_name": "Python 3",
   "language": "python",
   "name": "python3"
  },
  "language_info": {
   "codemirror_mode": {
    "name": "ipython",
    "version": 3
   },
   "file_extension": ".py",
   "mimetype": "text/x-python",
   "name": "python",
   "nbconvert_exporter": "python",
   "pygments_lexer": "ipython3",
   "version": "3.13.2"
  }
 },
 "nbformat": 4,
 "nbformat_minor": 2
}
