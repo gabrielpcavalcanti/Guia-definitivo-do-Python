{
 "cells": [
  {
   "cell_type": "markdown",
   "metadata": {},
   "source": [
    "# Exercício 07"
   ]
  },
  {
   "cell_type": "markdown",
   "metadata": {},
   "source": [
    "Vamos brincar com uns exercicios práticos.\n",
    "\n",
    "A programação pode ajudar a responder questões simples do dia a dia. Saber programar pode facilitar seu trabalho e autoomatizar processos."
   ]
  },
  {
   "cell_type": "markdown",
   "metadata": {},
   "source": [
    "**a) Calcule o salário de uma pessoa sabendo quantas horas ela trabalha por mês e quanto ela ganha por hora. Calcule o salário com 10%, 12% e 15%  de aumento.**"
   ]
  },
  {
   "cell_type": "markdown",
   "metadata": {},
   "source": [
    "Solução:"
   ]
  },
  {
   "cell_type": "code",
   "execution_count": 1,
   "metadata": {},
   "outputs": [
    {
     "name": "stdout",
     "output_type": "stream",
     "text": [
      "O salário é 5600.00.\n",
      "O salário com 10% de aumento é 6160.00.\n",
      "O salário com 12% de aumento é 6272.00.\n",
      "O salário com 15% de aumento é 6440.00.\n"
     ]
    }
   ],
   "source": [
    "work_hour_month: int = int(input(\"Horas trabalhadas no mês: \"))\n",
    "money_hour: float = float(input(\"Quando ganha por hora: \"))\n",
    "\n",
    "salary_month: float = work_hour_month * money_hour\n",
    "\n",
    "print(f'O salário é {salary_month:.2f}.')\n",
    "print(f'O salário com 10% de aumento é {salary_month * 1.10:.2f}.')\n",
    "print(f'O salário com 12% de aumento é {salary_month * 1.12:.2f}.')\n",
    "print(f'O salário com 15% de aumento é {salary_month * 1.15:.2f}.')\n"
   ]
  },
  {
   "cell_type": "markdown",
   "metadata": {},
   "source": [
    "Explicação:\n",
    "\n",
    "O programa segue o fluxo padrão já feito em outros problemas. Aque é interessante porque tem que trabalhar com porcentagem. É algo simples, mas pode confundir."
   ]
  },
  {
   "cell_type": "markdown",
   "metadata": {},
   "source": [
    "Comentários:\n",
    "\n",
    "- Receber aumento é bom demais."
   ]
  },
  {
   "cell_type": "markdown",
   "metadata": {},
   "source": [
    "**b) Dado o salário de um funcionário, quanto que ele tem que pagar para o inss (8%), imposto de renda (11%) e seu salário líquido após essas reduções.**"
   ]
  },
  {
   "cell_type": "code",
   "execution_count": 2,
   "metadata": {},
   "outputs": [
    {
     "name": "stdout",
     "output_type": "stream",
     "text": [
      "O seu salário bruto é: 25000.00.\n",
      "A parcela do inss: 2000.00.\n",
      "A parcela do imposto de renda: 2750.00.\n",
      "O seu salário líquido é: 20250.00.\n"
     ]
    }
   ],
   "source": [
    "salary_month: float = float(input(\"Digite seu salário: \"))\n",
    "\n",
    "inss: float = 0.08 * salary_month\n",
    "imposto_de_renda: float = 0.11 * salary_month\n",
    "salario_liquido: float = salary_month - inss - imposto_de_renda\n",
    "\n",
    "print(f'O seu salário bruto é: {salary_month:.2f}.')\n",
    "print(f'A parcela do inss: {inss:.2f}.')\n",
    "print(f'A parcela do imposto de renda: {imposto_de_renda:.2f}.')\n",
    "print(f'O seu salário líquido é: {salario_liquido:.2f}.')\n"
   ]
  },
  {
   "cell_type": "markdown",
   "metadata": {},
   "source": [
    "Explicação:\n",
    "\n",
    "Nada fora do padrão já feito em outras questões. Cria uma variável, faz os cálculos e mostra os resultados.\n"
   ]
  },
  {
   "cell_type": "markdown",
   "metadata": {},
   "source": [
    "Comentários:\n",
    "\n",
    "- Pagar inss e imposto de renda é muito chato, para não dizer outra coisa."
   ]
  },
  {
   "cell_type": "markdown",
   "metadata": {},
   "source": [
    "**c) Faça um programa que leia a largura e a altura de uma parede em metros, calcule a sua área e a quantidade de tinta necessária para pintá-la. \n",
    "Sabendo que cada litro de tinta pinta uma área de 2 metros quadrados.**"
   ]
  },
  {
   "cell_type": "code",
   "execution_count": 3,
   "metadata": {},
   "outputs": [
    {
     "name": "stdout",
     "output_type": "stream",
     "text": [
      "A área a ser pintada é de 15.75 metros quadrados e vai precisar de 7.0 litros de tinta.\n"
     ]
    }
   ],
   "source": [
    "width: float = float(input(\"Digite a largura em metros: \"))\n",
    "hight:float = float(input(\"Digite a altura em metros: \"))\n",
    "\n",
    "area: float = width * hight\n",
    "\n",
    "quantity_of_paint: int = area // 2\n",
    "\n",
    "print(f'A área a ser pintada é de {area} metros quadrados e vai precisar de {quantity_of_paint} litros de tinta.')\n"
   ]
  },
  {
   "cell_type": "markdown",
   "metadata": {},
   "source": [
    "Explicação:\n",
    "\n",
    "Nada de novo, somante o fato que usei o operado // para a divisão inteira, não tem como pintar uma fração de área nesse problema."
   ]
  },
  {
   "cell_type": "markdown",
   "metadata": {},
   "source": [
    "Comentários:\n",
    "\n",
    "- Exemplo de problema que da para resolver com programação. Já tendo o programa escrito, podemos aplicar para diversos cenários diferentes. "
   ]
  },
  {
   "cell_type": "markdown",
   "metadata": {},
   "source": [
    "**d) Escrava um programa qua pargunta a quantidade da km percorridos por um carro alugado a a quantidada da dias pelos \n",
    "quais ele foi alugado. Calcule o preço a pagar. Sabendo que o carro \n",
    "custa RS60 por dia a R$ 0,15 por km rodado.**"
   ]
  },
  {
   "cell_type": "code",
   "execution_count": 4,
   "metadata": {},
   "outputs": [
    {
     "name": "stdout",
     "output_type": "stream",
     "text": [
      "Você terá que pagar R$ 440.25 por 7 dias e por ter percorrido 135.0 km.\n"
     ]
    }
   ],
   "source": [
    "quant_days: int = int(input(\"Quantos dias você alugou o carro?: \"))\n",
    "quant_km = float(input(\"Quantos quilometros você andou com o carro?: \"))\n",
    "\n",
    "price: float = (quant_days * 60) + (quant_km * 0.15)\n",
    "\n",
    "print(f'Você terá que pagar R$ {price:.2f} por {quant_days} dias e por ter percorrido {quant_km} km.')\n"
   ]
  },
  {
   "cell_type": "markdown",
   "metadata": {},
   "source": [
    "Explicação:\n",
    "\n",
    "Segue o mesmo padrão que os anteriores, pede as informações, calcula o que precisa e mostra na tela. "
   ]
  },
  {
   "cell_type": "markdown",
   "metadata": {},
   "source": [
    "Comentários:\n",
    "\n",
    "- Gosto de usar ( ) para separar a ordem das expressões, mesmo que não precise."
   ]
  },
  {
   "cell_type": "markdown",
   "metadata": {},
   "source": [
    "---"
   ]
  }
 ],
 "metadata": {
  "kernelspec": {
   "display_name": "Python 3",
   "language": "python",
   "name": "python3"
  },
  "language_info": {
   "codemirror_mode": {
    "name": "ipython",
    "version": 3
   },
   "file_extension": ".py",
   "mimetype": "text/x-python",
   "name": "python",
   "nbconvert_exporter": "python",
   "pygments_lexer": "ipython3",
   "version": "3.13.2"
  }
 },
 "nbformat": 4,
 "nbformat_minor": 2
}
