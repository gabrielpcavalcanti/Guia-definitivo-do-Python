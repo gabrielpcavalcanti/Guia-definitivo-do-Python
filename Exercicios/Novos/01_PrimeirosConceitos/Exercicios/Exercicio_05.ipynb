{
 "cells": [
  {
   "cell_type": "markdown",
   "metadata": {},
   "source": [
    "# Exercício 05"
   ]
  },
  {
   "cell_type": "markdown",
   "metadata": {},
   "source": [
    "Vamos brincar com as f-strings."
   ]
  },
  {
   "cell_type": "markdown",
   "metadata": {},
   "source": [
    "**a) Crie um prgrama que escreva dois números e mostre a soma entre eles, o sucessor e antecedor de um deles, o dobro de um multipliado pelo outro e a raiz quadrada dos dois. Formate as Strings da maneira que quiser.**"
   ]
  },
  {
   "cell_type": "markdown",
   "metadata": {},
   "source": [
    "Solução:"
   ]
  },
  {
   "cell_type": "code",
   "execution_count": 1,
   "metadata": {},
   "outputs": [
    {
     "name": "stdout",
     "output_type": "stream",
     "text": [
      "A soma entre 10.0 e 81.0 é 91.0\n",
      "O sucessor de 10.0 é 11.0 e o antecessor é 9.0\n",
      "O dobro de 10.0 multiplicado por 81.0 é 1620.0\n",
      "A raiz quadrada de 10.0 é 3.16 e a raiz quadrada de 81.0 é 9.00\n"
     ]
    }
   ],
   "source": [
    "number_01: float = float(input(\"Digite um número: \"))\n",
    "number_02: float = float(input(\"Digite outro número: \"))\n",
    "\n",
    "print(f'A soma entre {number_01} e {number_02} é {number_01 + number_02}')\n",
    "print(f'O sucessor de {number_01} é {number_01 + 1} e o antecessor é {number_01 - 1}')\n",
    "print(f'O dobro de {number_01} multiplicado por {number_02} é {(2 * number_01) * number_02}')\n",
    "print(f'A raiz quadrada de {number_01} é {number_01 ** (1/2):.2f} e a raiz quadrada de {number_02} é {number_02 ** (1/2):.2f}')\n"
   ]
  },
  {
   "cell_type": "markdown",
   "metadata": {},
   "source": [
    "Explicação:\n",
    "\n",
    "Criei duas variáveis e pedi para o usuário escolher elas e fiz as operações que o enunciado pedia."
   ]
  },
  {
   "cell_type": "markdown",
   "metadata": {},
   "source": [
    "Comentários:\n",
    "\n",
    "- Já deveria ter falado antes e vou falar agora, já deve ter percebido que ao pedir que o usuário digite algo, tem que ser exatamente o que quero que seja, nesse caso, um número. Se o usuário não fizer isso, digitar uma palavra ou simplesmente dar um \"Enter\", o problema dará erro. Por enquanto não vou lidar com eles agora, mas a medida que avaçamos será essencial lidar com os erros para que nenhum problema ocorra."
   ]
  },
  {
   "cell_type": "markdown",
   "metadata": {},
   "source": [
    "**b) Declare dois números e formate eles das seguintes formas: mostre eles com vigula nas casas multiplas de 1000, transforme os dois em porcentagem, alinhe eles no meio, à direita e à esquerda.**"
   ]
  },
  {
   "cell_type": "markdown",
   "metadata": {},
   "source": [
    "Solução:"
   ]
  },
  {
   "cell_type": "code",
   "execution_count": 2,
   "metadata": {},
   "outputs": [
    {
     "name": "stdout",
     "output_type": "stream",
     "text": [
      "100,000,000\n",
      "23.569\n",
      "10000000000.000000%\n",
      "2356.900000%\n",
      "     100000000      \n",
      "           100000000\n",
      "100000000           \n",
      "       23.569       \n",
      "              23.569\n",
      "23.569              \n"
     ]
    }
   ],
   "source": [
    "number_01: int = 100_000_000\n",
    "number_02: float = 23.569\n",
    "\n",
    "# Virgulas nas casas decimais multiplas de 1000.\n",
    "print(f'{number_01:,}')\n",
    "print(f'{number_02:,}')\n",
    "\n",
    "# Em procentágem\n",
    "print(f'{number_01:%}')\n",
    "print(f'{number_02:%}')\n",
    "\n",
    "# Alinhado no meio, à direita e à esquerda.\n",
    "print(f'{number_01:^20}')\n",
    "print(f'{number_01:>20}')\n",
    "print(f'{number_01:<20}')\n",
    "\n",
    "print(f'{number_02:^20}')\n",
    "print(f'{number_02:>20}')\n",
    "print(f'{number_02:<20}')\n"
   ]
  },
  {
   "cell_type": "markdown",
   "metadata": {},
   "source": [
    "Explicação:\n",
    "\n",
    "Escolhi declarar dois números e fazer as operações que pedia no enunciado com o poder das f-strings."
   ]
  },
  {
   "cell_type": "markdown",
   "metadata": {},
   "source": [
    "Comentários:\n",
    "\n",
    "- Fiz  um programa mais direto dessa vez, sem escrever muito texto dentro das f-strings e coloquei alguns comentátios. Foi apenas uma escolha, poderia ter feito mais robusto"
   ]
  },
  {
   "cell_type": "markdown",
   "metadata": {},
   "source": [
    "---"
   ]
  }
 ],
 "metadata": {
  "kernelspec": {
   "display_name": "Python 3",
   "language": "python",
   "name": "python3"
  },
  "language_info": {
   "codemirror_mode": {
    "name": "ipython",
    "version": 3
   },
   "file_extension": ".py",
   "mimetype": "text/x-python",
   "name": "python",
   "nbconvert_exporter": "python",
   "pygments_lexer": "ipython3",
   "version": "3.13.2"
  }
 },
 "nbformat": 4,
 "nbformat_minor": 2
}
