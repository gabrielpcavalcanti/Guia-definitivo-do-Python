{
 "cells": [
  {
   "cell_type": "markdown",
   "metadata": {},
   "source": [
    "# Exercício 04"
   ]
  },
  {
   "cell_type": "markdown",
   "metadata": {},
   "source": [
    "Vamos brincar com temperaturas.\n",
    "\n",
    "Todos os exercícios seguintes irão seguir o mesmo algoritimo da última questão: declarar, fazer alguma operação e mostrar os resultados."
   ]
  },
  {
   "cell_type": "markdown",
   "metadata": {},
   "source": [
    "**a) Leia a temperatura em graus Celsius e apresente-a convertida em graus Fahrenheit.**\n",
    "\n",
    "A fórmula de conversão é: \n",
    "\n",
    "$F = C * (9.0 / 5.0) + 32.0$\n",
    "\n",
    "Sendo F a temperatura em Fahrenheit e C a temperatura em Celcius."
   ]
  },
  {
   "cell_type": "markdown",
   "metadata": {},
   "source": [
    "Solução:"
   ]
  },
  {
   "cell_type": "code",
   "execution_count": 1,
   "metadata": {},
   "outputs": [
    {
     "name": "stdout",
     "output_type": "stream",
     "text": [
      "A temperatura de 100.0 graus Celcius é a mesma que 212.00 em graus Fahrenheit.\n"
     ]
    }
   ],
   "source": [
    "temp_celcius: float = float(input(\"Digite a temperatura em graus Celsius: \"))\n",
    "\n",
    "temp_fahrenheit: float = (temp_celcius * (9/5)) + 32\n",
    "\n",
    "print(f'A temperatura de {temp_celcius} graus Celcius é a mesma que {temp_fahrenheit:.2f} em graus Fahrenheit.')"
   ]
  },
  {
   "cell_type": "markdown",
   "metadata": {},
   "source": [
    "Explicação:\n",
    "\n",
    "Segue o algoritimo. Cria a variável para armazenar o valor em Calcius, cria uma outra para calcular o valor em Fahrenheit (utilizando a formula de conversão) e mostra ela por meio de uma f-string. "
   ]
  },
  {
   "cell_type": "markdown",
   "metadata": {},
   "source": [
    "Comentários:\n",
    "\n",
    "- É um prblema clássico na física converter diferentes unidades de medidas para a temperatura e é otimo para aprender esse algoritmo na programação."
   ]
  },
  {
   "cell_type": "markdown",
   "metadata": {},
   "source": [
    "**b) Leia a temperatura em Kelvin e apresente-a convertida em graus Celcius.**\n",
    "\n",
    "A fórmula de conversão é: \n",
    "\n",
    "$C = K - 273.15$\n",
    "\n",
    "Sendo K a temperatura em Kelvin e C a temperatura em Celcius."
   ]
  },
  {
   "cell_type": "markdown",
   "metadata": {},
   "source": [
    "Solução:"
   ]
  },
  {
   "cell_type": "code",
   "execution_count": 2,
   "metadata": {},
   "outputs": [
    {
     "name": "stdout",
     "output_type": "stream",
     "text": [
      "A temperatura de 0.0 Kelvin é a mesma que -273.15 em graus Celcius.\n"
     ]
    }
   ],
   "source": [
    "temp_kelvin: float = float(input(\"Digite a temperatura em Kelvin: \"))\n",
    "\n",
    "temp_celcius: float = temp_kelvin - 273.15\n",
    "\n",
    "print(f'A temperatura de {temp_kelvin} Kelvin é a mesma que {temp_celcius:.2f} em graus Celcius.')"
   ]
  },
  {
   "cell_type": "markdown",
   "metadata": {},
   "source": [
    "Explicação:\n",
    "\n",
    "Não há o que explicar, o problema é idêntico ao anterior, somente muda a temperatura e a fóruma de conversão."
   ]
  },
  {
   "cell_type": "markdown",
   "metadata": {},
   "source": [
    "Comentários:\n",
    "\n",
    "- Kelvin é a escala de temperatura absoluta, ou seja, não existe valores negativos e é a adotada no sistema internacional de unidades (SI)."
   ]
  },
  {
   "cell_type": "markdown",
   "metadata": {},
   "source": [
    "---"
   ]
  }
 ],
 "metadata": {
  "kernelspec": {
   "display_name": "Python 3",
   "language": "python",
   "name": "python3"
  },
  "language_info": {
   "codemirror_mode": {
    "name": "ipython",
    "version": 3
   },
   "file_extension": ".py",
   "mimetype": "text/x-python",
   "name": "python",
   "nbconvert_exporter": "python",
   "pygments_lexer": "ipython3",
   "version": "3.13.2"
  }
 },
 "nbformat": 4,
 "nbformat_minor": 2
}
