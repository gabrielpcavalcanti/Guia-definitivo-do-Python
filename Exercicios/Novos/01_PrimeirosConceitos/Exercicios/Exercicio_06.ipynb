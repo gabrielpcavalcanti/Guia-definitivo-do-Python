{
 "cells": [
  {
   "cell_type": "markdown",
   "metadata": {},
   "source": [
    "# Exercício 06"
   ]
  },
  {
   "cell_type": "markdown",
   "metadata": {},
   "source": [
    "Vamos brincar um pouco com a geometria euclidiana.\n",
    "\n",
    "O formato do algoritimo não vai mudar muito aqui, mas em vez de colocar as fórmulas prontas, você terá que pesquisar como calcular, caso não saiba. Quase nunca vai ser de mão beijada, então tem que acustumar com esse fato. "
   ]
  },
  {
   "cell_type": "markdown",
   "metadata": {},
   "source": [
    "**a) Calcule a área do quadrado, triângulo e trapézio e mostre os resultados na tela.**"
   ]
  },
  {
   "cell_type": "markdown",
   "metadata": {},
   "source": [
    "Solução:"
   ]
  },
  {
   "cell_type": "code",
   "execution_count": 1,
   "metadata": {},
   "outputs": [
    {
     "name": "stdout",
     "output_type": "stream",
     "text": [
      "A área do quadrado é 4.00\n",
      "A área do triangulo é 10.00\n",
      "A área do trapézio o é 15.00\n"
     ]
    }
   ],
   "source": [
    "# Área do quadrado\n",
    "square_side: float = float(input(\"Digite o lado do quadrado: \"))\n",
    "\n",
    "square_area: float = square_side ** 2\n",
    "\n",
    "print(f'A área do quadrado é {square_area:.2f}')\n",
    "\n",
    "\n",
    "# Área do triângulo\n",
    "triangle_side: float = float(input(\"Digite o lado do trinagulo: \"))\n",
    "triangle_hight: float = float(input(\"Digite a altura do trinagulo: \"))\n",
    "\n",
    "triangle_area: float = (triangle_side * triangle_hight) / 2\n",
    "\n",
    "print(f'A área do triangulo é {triangle_area:.2f}')\n",
    "\n",
    "# Área do trapézio\n",
    "trapeze_bigger_base: float = float(input(\"Digite o lado da base maior do trapezio: \"))\n",
    "trapeze_smaller_base: float = float(input(\"Digite o lado da base menor do trapezio: \"))\n",
    "trapeze_hight: float = float(input(\"Digite a altura do trapézio: \"))\n",
    "\n",
    "trapeze_area: float = ((trapeze_bigger_base + trapeze_smaller_base) * trapeze_hight) / 2\n",
    "\n",
    "print(f'A área do trapézio o é {trapeze_area:.2f}')\n"
   ]
  },
  {
   "cell_type": "markdown",
   "metadata": {},
   "source": [
    "Outra Solução:"
   ]
  },
  {
   "cell_type": "code",
   "execution_count": 2,
   "metadata": {},
   "outputs": [
    {
     "name": "stdout",
     "output_type": "stream",
     "text": [
      "A área do quadrado é 4.00\n",
      "A área do triangulo é 10.00\n",
      "A área do trapézio o é 15.00\n"
     ]
    }
   ],
   "source": [
    "square_side: float = float(input(\"Digite o lado do quadrado: \"))\n",
    "triangle_side: float = float(input(\"Digite o lado do trinagulo: \"))\n",
    "triangle_hight: float = float(input(\"Digite a altura do trinagulo: \"))\n",
    "trapeze_bigger_base: float = float(input(\"Digite o lado da base maior do trapezio: \"))\n",
    "trapeze_smaller_base: float = float(input(\"Digite o lado da base menor do trapezio: \"))\n",
    "trapeze_hight: float = float(input(\"Digite a altura do trapézio: \"))\n",
    "\n",
    "square_area: float = square_side ** 2\n",
    "triangle_area: float = (triangle_side * triangle_hight) / 2\n",
    "trapeze_area: float = ((trapeze_bigger_base + trapeze_smaller_base) * trapeze_hight) / 2\n",
    "\n",
    "print(f'A área do quadrado é {square_area:.2f}')\n",
    "print(f'A área do triangulo é {triangle_area:.2f}')\n",
    "print(f'A área do trapézio o é {trapeze_area:.2f}')\n"
   ]
  },
  {
   "cell_type": "markdown",
   "metadata": {},
   "source": [
    "Explicação:\n",
    "\n",
    "Na primeira solução fiz como se fosse três questões, mas num mesmo script. Segui o mesmo algorítimo: cria as variáveis, calcula e mostra. Já no segundo, mudei a ordem, mas o programa é o mesmo. Prefiro a primeira forma porque fica mais organizado."
   ]
  },
  {
   "cell_type": "markdown",
   "metadata": {},
   "source": [
    "Comentários:\n",
    "\n",
    "- O enunciado da questão foi bem genérico, permitindo que o programador escrevesse da forma que quiser. Poderia ter declarado número e mostrado na tela as áreas. Não precisava ter criado variáveis para as área, poderia ter colocado as fórmulas dentro da f-string e assim por diante. Tente escrever da forma mais clara possível, mesmo que tenha mais linhas de código. \n",
    "\n",
    "- Tive que procurar como calcular a área do trapézio porque não lembrava. Na programação, terá que fazer isso a todo momento. Ler documentação, perguntar a colegues, usar IA, perguntar em forúns e assim vai. \n",
    "\n",
    "- Existe mais de uma forma de calcular a área do triângulo e do trapézio. Só utilizei uma, mas podemos fazer com todas possíveis. "
   ]
  },
  {
   "cell_type": "markdown",
   "metadata": {},
   "source": [
    "**b) Calcule a área do circulo e o volume da esfera e mostre na tela.**"
   ]
  },
  {
   "cell_type": "markdown",
   "metadata": {},
   "source": [
    "Solução:"
   ]
  },
  {
   "cell_type": "code",
   "execution_count": 3,
   "metadata": {},
   "outputs": [
    {
     "name": "stdout",
     "output_type": "stream",
     "text": [
      "A área do círculo é: 12.57\n",
      "O volume da esfera é: 33.51\n"
     ]
    }
   ],
   "source": [
    "PI_CONSTANT: float = 3.141592\n",
    "\n",
    "radius: float = float(input(\"Digite o raio do círculo: \"))\n",
    "\n",
    "circle_area: float = PI_CONSTANT * (radius ** 2)\n",
    "esphere_volume: float = (4/3) * PI_CONSTANT * (radius ** 3)\n",
    "\n",
    "print(f'A área do círculo é: {circle_area:.2f}')\n",
    "print(f'O volume da esfera é: {esphere_volume:.2f}')\n"
   ]
  },
  {
   "cell_type": "markdown",
   "metadata": {},
   "source": [
    "Explicação:\n",
    "\n",
    "Defini uma constante e coloquei no inicio do script. Depois segui o algoritimo que estávamos seguindo. "
   ]
  },
  {
   "cell_type": "markdown",
   "metadata": {},
   "source": [
    "Comentários:\n",
    "\n",
    "- Primeira vez que usamos uma constante. Sabemos que ela não é realmente uma constante, podemos mudar seu valor durante o programa, mas no Python é padrão colocar tudo em maiúsculas."
   ]
  },
  {
   "cell_type": "markdown",
   "metadata": {},
   "source": [
    "---"
   ]
  }
 ],
 "metadata": {
  "kernelspec": {
   "display_name": "Python 3",
   "language": "python",
   "name": "python3"
  },
  "language_info": {
   "codemirror_mode": {
    "name": "ipython",
    "version": 3
   },
   "file_extension": ".py",
   "mimetype": "text/x-python",
   "name": "python",
   "nbconvert_exporter": "python",
   "pygments_lexer": "ipython3",
   "version": "3.13.2"
  }
 },
 "nbformat": 4,
 "nbformat_minor": 2
}
