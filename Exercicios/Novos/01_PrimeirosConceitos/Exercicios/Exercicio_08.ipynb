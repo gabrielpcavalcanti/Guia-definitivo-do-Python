{
 "cells": [
  {
   "cell_type": "markdown",
   "metadata": {},
   "source": [
    "# Exercicio 08"
   ]
  },
  {
   "cell_type": "markdown",
   "metadata": {},
   "source": [
    "Vamos brincar com o Slicing de Strings."
   ]
  },
  {
   "cell_type": "markdown",
   "metadata": {},
   "source": [
    "**a) Dada a String \"Meu cachorro se chama Oreo\", selecione so a palavra \"cachorro\", \"Oreo\" e inverta a String. Use apenas Slicing.**"
   ]
  },
  {
   "cell_type": "markdown",
   "metadata": {},
   "source": [
    "Solução:"
   ]
  },
  {
   "cell_type": "code",
   "execution_count": null,
   "metadata": {},
   "outputs": [
    {
     "name": "stdout",
     "output_type": "stream",
     "text": [
      "cachorro\n",
      "Oreo\n",
      "oerO amahc es orrohcac ueM\n"
     ]
    }
   ],
   "source": [
    "string_question: str = \"Meu cachorro se chama Oreo\"\n",
    "\n",
    "# Selecionado a palavra \"cachorro\"\n",
    "print(string_question[4:12])\n",
    "\n",
    "# Selecionado a palavra \"Oreo\"\n",
    "print(string_question[-4:])\n",
    "\n",
    "# Invertendo a String\n",
    "print(string_question[::-1])\n"
   ]
  },
  {
   "cell_type": "markdown",
   "metadata": {},
   "source": [
    "Explicação:\n",
    "\n",
    "No primeiro caso, contei qual a posição que começava e terimnaca a palavra cachorro, lembrando que o Python começa no 0 e último não é incluso na contagem; Já o segundo, fiz de forma difernte. O Python também tem índices contrários, o último é -1, o penúltimo é -2 e assim vai. Facilita se quiser pegar termoas finais de Strings ou coleções. Peguei da posição -4 até a final; Por último, fiz a melhor maneira de inverter uma String, usando [: : -1]. Ela compredende toda a String, mas escrevendo de trás para frente, já que o último parâmetro é o \"salto\" e ele vai do final ao começo se for -1."
   ]
  },
  {
   "cell_type": "markdown",
   "metadata": {},
   "source": [
    "Comentários:\n",
    "\n",
    "- Slicing é uma ferramenta poderosa. Pode ser usada em Strings e coleções (como veremos)."
   ]
  },
  {
   "cell_type": "markdown",
   "metadata": {},
   "source": [
    "**b) Dado cinco frases abaixo, descubra qual não é o palíndromo.**\n",
    "\n",
    "\"A torre da derrota\"\n",
    "\n",
    "\"Roma me tem amor\" \n",
    "\n",
    "\"A casa sacada\"\n",
    "\n",
    "\"Socorram me subi no ônibus em Marrocos\" \n",
    "\n",
    "\"Anotaram a data da maratona\" "
   ]
  },
  {
   "cell_type": "code",
   "execution_count": 23,
   "metadata": {},
   "outputs": [
    {
     "name": "stdout",
     "output_type": "stream",
     "text": [
      "A frase é um palíndromo: True.\n",
      "A frase é um palíndromo: True.\n",
      "A frase é um palíndromo: False.\n",
      "A frase é um palíndromo: True.\n",
      "A frase é um palíndromo: True.\n"
     ]
    }
   ],
   "source": [
    "phrase_01: str = \"A torre da derrota\"\n",
    "phrase_02: str = \"Roma me tem amor\" \n",
    "phrase_03: str = \"A casa sacada\"\n",
    "phrase_04: str = \"Socorram me subi no onibus em Marrocos\"\n",
    "phrase_05: str = \"Anotaram a data da maratona\" \n",
    "\n",
    "print(f'A frase é um palíndromo: {phrase_01.replace(\" \", \"\").casefold() == phrase_01.replace(\" \", \"\").casefold()[::-1]}.')\n",
    "print(f'A frase é um palíndromo: {phrase_02.replace(\" \", \"\").casefold() == phrase_02.replace(\" \", \"\").casefold()[::-1]}.')\n",
    "print(f'A frase é um palíndromo: {phrase_03.replace(\" \", \"\").casefold() == phrase_03.replace(\" \", \"\").casefold()[::-1]}.')\n",
    "print(f'A frase é um palíndromo: {phrase_04.replace(\" \", \"\").casefold() == phrase_04.replace(\" \", \"\").casefold()[::-1]}.')\n",
    "print(f'A frase é um palíndromo: {phrase_05.replace(\" \", \"\").casefold() == phrase_05.replace(\" \", \"\").casefold()[::-1]}.')\n",
    "\n"
   ]
  },
  {
   "cell_type": "markdown",
   "metadata": {},
   "source": [
    "Explicação:\n",
    "\n",
    "O código ficou um pouco resumido e pode não ter ficado muito legível ao primeiro momento. Dentro da f-string fiz uma comparação pare retorna um valor booleano. Usei o método replace para tirar os espaços em branco e o casefold para igular as Strings. Na segunda parte da comparação fiz a mesma coisa, mas para String inversa. Se forem iguais, vai dar True e se não, False. A terceira frase deu False, indicando que não era um palíndromo. "
   ]
  },
  {
   "cell_type": "markdown",
   "metadata": {},
   "source": [
    "Comentários:\n",
    "\n",
    "- Palíndrimos são legais. \n",
    "\n",
    "- A título de curisidade, 73 escrito em base binária é uma palíndromo, 1001001."
   ]
  },
  {
   "cell_type": "markdown",
   "metadata": {},
   "source": [
    "---"
   ]
  }
 ],
 "metadata": {
  "kernelspec": {
   "display_name": "Python 3",
   "language": "python",
   "name": "python3"
  },
  "language_info": {
   "codemirror_mode": {
    "name": "ipython",
    "version": 3
   },
   "file_extension": ".py",
   "mimetype": "text/x-python",
   "name": "python",
   "nbconvert_exporter": "python",
   "pygments_lexer": "ipython3",
   "version": "3.13.2"
  }
 },
 "nbformat": 4,
 "nbformat_minor": 2
}
