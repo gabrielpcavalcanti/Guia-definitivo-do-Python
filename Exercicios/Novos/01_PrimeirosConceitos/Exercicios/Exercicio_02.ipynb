{
 "cells": [
  {
   "cell_type": "markdown",
   "metadata": {},
   "source": [
    "# Exercício 02"
   ]
  },
  {
   "cell_type": "markdown",
   "metadata": {},
   "source": [
    "Vamos agora trabalhar com variáveis e tipos de dados."
   ]
  },
  {
   "cell_type": "markdown",
   "metadata": {},
   "source": [
    "**a) Crie quatro variáveis, uma do tipo int, outra do tipo float, a terceira do tipo String e a última do tipo boolean e mostre todas na tela.**"
   ]
  },
  {
   "cell_type": "markdown",
   "metadata": {},
   "source": [
    "Solução:"
   ]
  },
  {
   "cell_type": "code",
   "execution_count": null,
   "metadata": {},
   "outputs": [
    {
     "name": "stdout",
     "output_type": "stream",
     "text": [
      "10\n",
      "0.04\n",
      "Oreo\n",
      "True\n"
     ]
    }
   ],
   "source": [
    "number_of_pudins: int = 10\n",
    "tax_income: float = 0.04\n",
    "dogs_name: str = \"Oreo\"\n",
    "validation: bool = True\n",
    "\n",
    "print(number_of_pudins)\n",
    "print(tax_income)\n",
    "print(dogs_name)\n",
    "print(validation)\n"
   ]
  },
  {
   "cell_type": "markdown",
   "metadata": {},
   "source": [
    "Explicação:\n",
    "\n",
    "Declaramos 4 variáveis, como pedido, utilizando type annotations e utilizamos a função print para mostrar elas na tela."
   ]
  },
  {
   "cell_type": "markdown",
   "metadata": {},
   "source": [
    "Comentários:\n",
    "\n",
    "- Não poderia ter utilzado type annotation, é um programa muito simples, mas já é bom ir acustumando para programas mais complexos.\n",
    "\n",
    "- Escolher nome de variáveis não é simples. Já desde o inicio usarei nome de variáveis com significado em vez de usar var_01, number etc."
   ]
  },
  {
   "cell_type": "markdown",
   "metadata": {},
   "source": [
    "**b) Utilizando essas mesmas variáveis crie um f-string com um texto de sua escolha e mostre-o na tela.**"
   ]
  },
  {
   "cell_type": "markdown",
   "metadata": {},
   "source": [
    "Solução:"
   ]
  },
  {
   "cell_type": "code",
   "execution_count": 2,
   "metadata": {},
   "outputs": [
    {
     "name": "stdout",
     "output_type": "stream",
     "text": [
      "Eu adoro Pudins e meu cachorro Oreo também, então comprei 10. Não preciso da validação de ninguém para comer pudins, mas ela é True. Estou triste porque tenho que pagar 0.04 de imposto sobre os pudimns.\n"
     ]
    }
   ],
   "source": [
    "number_of_pudins: int = 10\n",
    "tax_income: float = 0.04\n",
    "dogs_name: str = \"Oreo\"\n",
    "validation: bool = True\n",
    "\n",
    "print(f'Eu adoro Pudins e meu cachorro {dogs_name} também, então comprei {number_of_pudins}. Não preciso da validação de ninguém para comer pudins, mas ela é {validation}. Estou triste porque tenho que pagar {tax_income} de imposto sobre os pudimns.')"
   ]
  },
  {
   "cell_type": "markdown",
   "metadata": {},
   "source": [
    "Explicação:\n",
    "\n",
    "Declaramos as mesmas variáveis anterioirmente e criei uma f-string padrão."
   ]
  },
  {
   "cell_type": "markdown",
   "metadata": {},
   "source": [
    "Comentários:\n",
    "\n",
    "- Não precisaria declarar as variáveis novamento no notebook, mas prefiro fazer assim para deixar mais claro.\n",
    "\n",
    "- Tentei criar uma texto engraçado, não sei se consegui haha."
   ]
  },
  {
   "cell_type": "markdown",
   "metadata": {},
   "source": [
    "---"
   ]
  }
 ],
 "metadata": {
  "kernelspec": {
   "display_name": "Python 3",
   "language": "python",
   "name": "python3"
  },
  "language_info": {
   "codemirror_mode": {
    "name": "ipython",
    "version": 3
   },
   "file_extension": ".py",
   "mimetype": "text/x-python",
   "name": "python",
   "nbconvert_exporter": "python",
   "pygments_lexer": "ipython3",
   "version": "3.13.2"
  }
 },
 "nbformat": 4,
 "nbformat_minor": 2
}
