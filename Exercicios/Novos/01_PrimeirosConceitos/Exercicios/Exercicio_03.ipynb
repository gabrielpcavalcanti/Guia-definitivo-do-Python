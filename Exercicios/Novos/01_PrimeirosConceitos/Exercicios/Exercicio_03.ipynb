{
 "cells": [
  {
   "cell_type": "markdown",
   "metadata": {},
   "source": [
    "# Exercício 03"
   ]
  },
  {
   "cell_type": "markdown",
   "metadata": {},
   "source": [
    "Vamos trabalhar com a função input, casting e operações matemáticas."
   ]
  },
  {
   "cell_type": "markdown",
   "metadata": {},
   "source": [
    "**a) Faça um programa que leia um número inteiro e o imprima.**"
   ]
  },
  {
   "cell_type": "markdown",
   "metadata": {},
   "source": [
    "Solução:"
   ]
  },
  {
   "cell_type": "code",
   "execution_count": 1,
   "metadata": {},
   "outputs": [
    {
     "name": "stdout",
     "output_type": "stream",
     "text": [
      "O número digitado foi: 42.\n"
     ]
    }
   ],
   "source": [
    "number_01: int = int(input(\"Digite um número: \"))\n",
    "\n",
    "print(f'O número digitado foi: {number_01}.')\n"
   ]
  },
  {
   "cell_type": "markdown",
   "metadata": {},
   "source": [
    "Explicação:\n",
    "\n",
    "Criei uma variável para armazenar a entrada de dados do usuário (por meio da função input) e transformei ela no tipo int. Utilizei a f-string para mostrar o número na tela."
   ]
  },
  {
   "cell_type": "markdown",
   "metadata": {},
   "source": [
    "Comentários:\n",
    "\n",
    "- Não precisava transformar a string em inteiro, já que está num texto e não iria fazer nenhuma operação, mas preferi fazer isso.\n",
    "\n",
    "- O uso de f-strings foi opcional também. Sempre bom exibir uma mensagem arrumada para o usuário, em vez de só mostrar na tela. Facilita o entendimento."
   ]
  },
  {
   "cell_type": "markdown",
   "metadata": {},
   "source": [
    "**b) Faça um programa que lê quatro notas de um aluno e mostre a média deles. Arredonde o resultado para duas casas decimais.**"
   ]
  },
  {
   "cell_type": "code",
   "execution_count": 2,
   "metadata": {},
   "outputs": [
    {
     "name": "stdout",
     "output_type": "stream",
     "text": [
      "A média das notas foi: 7.75.\n"
     ]
    }
   ],
   "source": [
    "grade_01: float = float(input(\"Digite a nota da primeira prova: \"))\n",
    "grade_02: float = float(input(\"Digite a nota da segunda prova: \"))\n",
    "grade_03: float = float(input(\"Digite a nota da terceira prova: \"))\n",
    "grade_04: float = float(input(\"Digite a nota da quarta prova: \"))\n",
    "\n",
    "average_grade: float = (grade_01 + grade_02 + grade_03 + grade_04) / 4\n",
    "\n",
    "print(f'A média das notas foi: {average_grade:.2f}.')\n"
   ]
  },
  {
   "cell_type": "markdown",
   "metadata": {},
   "source": [
    "Explicação:\n",
    "\n",
    "Crie as variáveis do mesmo tipo, float, já que são notas e podem ter números decimais. Calculai a média e armazenei em outra variável. Criei uma f-string que mostra a média e utilizei o :.2f para arrendodar o valor para duas casas decimais."
   ]
  },
  {
   "cell_type": "markdown",
   "metadata": {},
   "source": [
    "Comentários:\n",
    "\n",
    "- Esse é um tipo recorrente de problema na programação. Você criar, declara as variáveis do problema, faz alguma operação e depois mostra o resultado. Podemos fazer infinitos problemas como esse, em diferentes contextos, mas o algoritimo é o mesmo."
   ]
  },
  {
   "cell_type": "markdown",
   "metadata": {},
   "source": [
    "---"
   ]
  }
 ],
 "metadata": {
  "kernelspec": {
   "display_name": "Python 3",
   "language": "python",
   "name": "python3"
  },
  "language_info": {
   "codemirror_mode": {
    "name": "ipython",
    "version": 3
   },
   "file_extension": ".py",
   "mimetype": "text/x-python",
   "name": "python",
   "nbconvert_exporter": "python",
   "pygments_lexer": "ipython3",
   "version": "3.13.2"
  }
 },
 "nbformat": 4,
 "nbformat_minor": 2
}
