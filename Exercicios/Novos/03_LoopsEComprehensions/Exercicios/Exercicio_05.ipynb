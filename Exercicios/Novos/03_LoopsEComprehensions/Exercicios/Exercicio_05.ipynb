{
 "cells": [
  {
   "cell_type": "markdown",
   "id": "dae61d03",
   "metadata": {},
   "source": [
    "# Exercício 05"
   ]
  },
  {
   "cell_type": "markdown",
   "id": "9feea3c8",
   "metadata": {},
   "source": [
    "Alguns exercícios mais complexos com While."
   ]
  },
  {
   "cell_type": "markdown",
   "id": "de2c8029",
   "metadata": {},
   "source": [
    "**a) Ler uma sequência de números inteiros e determinar se eles são pares ou não. Deverá ser informado o número de dados lidos e número de valores pares. O processo termina quando for digitado o número 1000.**"
   ]
  },
  {
   "cell_type": "markdown",
   "id": "221b64d3",
   "metadata": {},
   "source": [
    "Solução:"
   ]
  },
  {
   "cell_type": "code",
   "execution_count": null,
   "id": "be278ed9",
   "metadata": {},
   "outputs": [
    {
     "name": "stdout",
     "output_type": "stream",
     "text": [
      "O números de dados lidos foram 10 e o números pares foram 5.\n"
     ]
    }
   ],
   "source": [
    "even_numbers: list[int] = []\n",
    "count: int = 0\n",
    "\n",
    "while True:\n",
    "\n",
    "    value: int = int(input(\"Digite um número inteiro: \"))\n",
    "\n",
    "    if value == 1000:\n",
    "        break\n",
    "\n",
    "    if value % 2 == 0:\n",
    "        even_numbers.append(value)\n",
    "        count += 1\n",
    "    else:\n",
    "        count += 1\n",
    "        continue\n",
    "\n",
    "print(f'O números de dados lidos foram {count} e o números pares foram {len(even_numbers)}.')\n"
   ]
  },
  {
   "cell_type": "markdown",
   "id": "2a91596e",
   "metadata": {},
   "source": [
    "Explicação:"
   ]
  },
  {
   "cell_type": "markdown",
   "id": "4377de6a",
   "metadata": {},
   "source": [
    "Comentários:\n",
    "\n",
    "-"
   ]
  },
  {
   "cell_type": "markdown",
   "id": "0ea606c4",
   "metadata": {},
   "source": [
    "**b) Escreva um programa completo que permita a qualquer aluno introduzir, pelo teclado, uma sequéncia arbitråria de notas (vålidas no intervalo de 10 a 20) e que mostre na tela, como resultado, a correspondente média aritmética. O número de notas com que o aluno pretenda efetuar o cálculo não sera fornecido ao programa, o qual terminará quando for introduzido um valor que näo seja vålido como nota de aprovaqäo.**"
   ]
  },
  {
   "cell_type": "markdown",
   "id": "432eb08b",
   "metadata": {},
   "source": [
    "Solução:"
   ]
  },
  {
   "cell_type": "code",
   "execution_count": null,
   "id": "6bec7eeb",
   "metadata": {},
   "outputs": [],
   "source": [
    "cpunt: int = 1\n",
    "sumation: int = 0\n",
    "mean: int = 0\n",
    "\n",
    "while True:\n",
    "\n",
    "    num:int = int(input(\"Digite um número: \"))\n",
    "    \n",
    "    if num >=10 and num <= 20:\n",
    "        sumation += num\n",
    "        media = sumation / count\n",
    "        count += 1\n",
    "        continue\n",
    "    else:\n",
    "        break\n",
    "\n",
    "print(\"A média das notas digitadas é {:.2f}\".format(mean))\n"
   ]
  },
  {
   "cell_type": "markdown",
   "id": "9e666eb4",
   "metadata": {},
   "source": [
    "Explicação:"
   ]
  },
  {
   "cell_type": "markdown",
   "id": "95720ef4",
   "metadata": {},
   "source": [
    "Comentários:\n",
    "\n",
    "-"
   ]
  },
  {
   "cell_type": "markdown",
   "id": "25eb9f97",
   "metadata": {},
   "source": [
    "**c) Faça um programa que some todos os números naturais abaixo de 1000 que säo múltiplos de 3 ou 5.**"
   ]
  },
  {
   "cell_type": "code",
   "execution_count": 6,
   "id": "6be5622b",
   "metadata": {},
   "outputs": [
    {
     "name": "stdout",
     "output_type": "stream",
     "text": [
      "233168\n"
     ]
    }
   ],
   "source": [
    "count: int = 1\n",
    "sumation: int = 0\n",
    "\n",
    "while count < 1000:\n",
    "    if count % 3 == 0 or count % 5 == 0:\n",
    "        sumation += count\n",
    "        count += 1\n",
    "        continue\n",
    "    else:\n",
    "        count += 1\n",
    "        continue\n",
    "\n",
    "print(sumation)"
   ]
  },
  {
   "cell_type": "markdown",
   "id": "3583379a",
   "metadata": {},
   "source": [
    "---"
   ]
  }
 ],
 "metadata": {
  "kernelspec": {
   "display_name": "Python 3",
   "language": "python",
   "name": "python3"
  },
  "language_info": {
   "codemirror_mode": {
    "name": "ipython",
    "version": 3
   },
   "file_extension": ".py",
   "mimetype": "text/x-python",
   "name": "python",
   "nbconvert_exporter": "python",
   "pygments_lexer": "ipython3",
   "version": "3.13.2"
  }
 },
 "nbformat": 4,
 "nbformat_minor": 5
}
