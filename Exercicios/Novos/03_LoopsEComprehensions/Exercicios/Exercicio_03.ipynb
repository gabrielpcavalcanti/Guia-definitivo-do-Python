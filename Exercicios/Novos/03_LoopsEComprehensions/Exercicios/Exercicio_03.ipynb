{
 "cells": [
  {
   "cell_type": "markdown",
   "id": "173fae97",
   "metadata": {},
   "source": [
    "# Exercício 03"
   ]
  },
  {
   "cell_type": "markdown",
   "id": "b7bdcc62",
   "metadata": {},
   "source": [
    "Vamos trabalhar com exercícios mais complexos com o loop for."
   ]
  },
  {
   "cell_type": "markdown",
   "id": "0b6d56c7",
   "metadata": {},
   "source": [
    "**a) Faça um programa que receba dois números inteiros e gere os números inteiros que estão no intervalo compreendido por eles.**"
   ]
  },
  {
   "cell_type": "markdown",
   "id": "e51215ab",
   "metadata": {},
   "source": [
    "Solução:"
   ]
  },
  {
   "cell_type": "code",
   "execution_count": 7,
   "id": "0b10195d",
   "metadata": {},
   "outputs": [
    {
     "name": "stdout",
     "output_type": "stream",
     "text": [
      "2 3 4 5 6 7 8 9 "
     ]
    }
   ],
   "source": [
    "num_01: int = int(input(\"Digite um número inteiro: \"))\n",
    "num_02: int = int(input(\"Digite um número inteiro: \"))\n",
    "\n",
    "for i in range(num_01 + 1, num_02):\n",
    "    print(i, end=' ')\n"
   ]
  },
  {
   "cell_type": "markdown",
   "id": "4fedd88e",
   "metadata": {},
   "source": [
    "Explicação:\n",
    "\n",
    "Dois números são declarados e então, dentro do loop, peço para imprimir o o intervalo entre eles. Como o número final é não incluso (intervalo aberto) não é preciso fazer nada, mas como o primeiro número é incluso, foi colocado o +1 para que ele não seja expresso no print."
   ]
  },
  {
   "cell_type": "markdown",
   "id": "7aea2a52",
   "metadata": {},
   "source": [
    "Comentários:\n",
    "\n",
    "- Simples e elegante."
   ]
  },
  {
   "cell_type": "markdown",
   "id": "3136cc29",
   "metadata": {},
   "source": [
    "**b) Desenvolva um gerador de tabuada, capaz de gerar a tabuada de qualquer número inteiro entre 1 a 10.**\n",
    "**O usuário deve informar de qual numero ele deseja ver a tabuada. A saída deve ser conforme o exemplo abaixo:**\n",
    "\n",
    "Tabuada de 5:\n",
    "\n",
    "5 X 1 = 5\n",
    "\n",
    "5 X 2 = 10\n",
    "\n",
    "...\n",
    "\n",
    "5 X 10 = 50"
   ]
  },
  {
   "cell_type": "markdown",
   "id": "9e5b811e",
   "metadata": {},
   "source": [
    "Solução:"
   ]
  },
  {
   "cell_type": "code",
   "execution_count": 16,
   "id": "437cd57a",
   "metadata": {},
   "outputs": [
    {
     "name": "stdout",
     "output_type": "stream",
     "text": [
      "Tabuada do 5:\n",
      "5 X 1 = 5\n",
      "5 X 2 = 10\n",
      "5 X 3 = 15\n",
      "5 X 4 = 20\n",
      "5 X 5 = 25\n",
      "5 X 6 = 30\n",
      "5 X 7 = 35\n",
      "5 X 8 = 40\n",
      "5 X 9 = 45\n",
      "5 X 10 = 50\n"
     ]
    }
   ],
   "source": [
    "num: int = int(input(\"Digite um número inteiro de 0 a 10: \"))\n",
    "\n",
    "print(f'Tabuada do {num}:')\n",
    "\n",
    "for i in range(1,11):\n",
    "    print(f'{num} X {i} = {num * i}')\n"
   ]
  },
  {
   "cell_type": "markdown",
   "id": "47d87072",
   "metadata": {},
   "source": [
    "Explicação:\n",
    "\n",
    "Utilizei as f-string para calcular a tabuada do número escolhido. O range vai de 1 até 10 (incluso)."
   ]
  },
  {
   "cell_type": "markdown",
   "id": "f6ba9e46",
   "metadata": {},
   "source": [
    "Comentários:\n",
    "\n",
    "- Tabuada são muito importantes para a vida, ajida demais na matemática e ter na ponta da lingua ajuda muito."
   ]
  },
  {
   "cell_type": "markdown",
   "id": "b9fc43f4",
   "metadata": {},
   "source": [
    "**c) Faça um algoritmo que leia um número positivo e imprima seus divisores.**"
   ]
  },
  {
   "cell_type": "code",
   "execution_count": 55,
   "id": "99d6fb8e",
   "metadata": {},
   "outputs": [
    {
     "name": "stdout",
     "output_type": "stream",
     "text": [
      "Divisores de 42:\n",
      "1 2 3 6 7 14 21 "
     ]
    }
   ],
   "source": [
    "num: int = int(input(\"Digite um número inteiro positivo: \"))\n",
    "\n",
    "print(f'Divisores de {num}:')\n",
    "\n",
    "for i in range(1, num):\n",
    "\n",
    "    if num % i == 0:\n",
    "        print(i, end=' ')\n"
   ]
  },
  {
   "cell_type": "markdown",
   "id": "8be0c857",
   "metadata": {},
   "source": [
    "Explicação:\n"
   ]
  },
  {
   "cell_type": "markdown",
   "id": "cc3a0324",
   "metadata": {},
   "source": [
    "Comentários:\n",
    "\n",
    "-"
   ]
  },
  {
   "cell_type": "markdown",
   "id": "d61cf5fd",
   "metadata": {},
   "source": [
    "**d) Faça um programa que peça 10 números inteiros de 0 a 10, mostre os números pares e os números impares.**"
   ]
  },
  {
   "cell_type": "code",
   "execution_count": 48,
   "id": "4ee96d0a",
   "metadata": {},
   "outputs": [
    {
     "name": "stdout",
     "output_type": "stream",
     "text": [
      "Números pares: 4 8 6 2 5 4 2 6 8 \n",
      "Números ímpares: 3 7 7 \n"
     ]
    }
   ],
   "source": [
    "num_even: str = ''\n",
    "num_odd: str = ''\n",
    "\n",
    "for _ in range(10):\n",
    "    num: int = int(input(\"Digite um número: \"))\n",
    "\n",
    "    if num % 2 == 0: \n",
    "        num_even += str(num)\n",
    "        \n",
    "    else:\n",
    "        num_odd += str(num)\n",
    "        \n",
    "print(f'Números pares:{num_even.replace('', ' ')}')\n",
    "print(f'Números ímpares:{num_odd.replace('', ' ')}')"
   ]
  },
  {
   "cell_type": "markdown",
   "id": "1fa47a81",
   "metadata": {},
   "source": [
    "Explicação:\n"
   ]
  },
  {
   "cell_type": "markdown",
   "id": "3df261e5",
   "metadata": {},
   "source": [
    "Comentários: \n",
    "\n",
    "-"
   ]
  },
  {
   "cell_type": "markdown",
   "id": "c164dc1a",
   "metadata": {},
   "source": [
    "---"
   ]
  }
 ],
 "metadata": {
  "kernelspec": {
   "display_name": "Python 3",
   "language": "python",
   "name": "python3"
  },
  "language_info": {
   "codemirror_mode": {
    "name": "ipython",
    "version": 3
   },
   "file_extension": ".py",
   "mimetype": "text/x-python",
   "name": "python",
   "nbconvert_exporter": "python",
   "pygments_lexer": "ipython3",
   "version": "3.13.2"
  }
 },
 "nbformat": 4,
 "nbformat_minor": 5
}
