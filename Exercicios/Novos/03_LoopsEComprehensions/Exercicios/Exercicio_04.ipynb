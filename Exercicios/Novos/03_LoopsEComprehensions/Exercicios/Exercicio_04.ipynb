{
 "cells": [
  {
   "cell_type": "markdown",
   "id": "31da48c9",
   "metadata": {},
   "source": [
    "# Exercício 04"
   ]
  },
  {
   "cell_type": "markdown",
   "id": "92a3513d",
   "metadata": {},
   "source": [
    "Vamos fazer alguns exercicios iniciais com o while."
   ]
  },
  {
   "cell_type": "markdown",
   "id": "710c7e71",
   "metadata": {},
   "source": [
    "**a) Faça um programa que peça uma nota, entre zero e dez. Mostre uma mensagem caso o valor seja inválido e continue pedindo até que o usuário informe um valor válido.**"
   ]
  },
  {
   "cell_type": "markdown",
   "id": "7cc96045",
   "metadata": {},
   "source": [
    "Solução:"
   ]
  },
  {
   "cell_type": "code",
   "execution_count": null,
   "id": "cb1f885b",
   "metadata": {},
   "outputs": [],
   "source": [
    "while True:\n",
    "\n",
    "    num: int = int(input(\"Digite um número de 0 a 10: \"))\n",
    "\n",
    "    if num >= 0 and num <= 10:\n",
    "        print(\"Valor válido!\")\n",
    "        break\n",
    "    else:\n",
    "        print(\"Valor iválido!\")\n",
    "        continue\n"
   ]
  },
  {
   "cell_type": "markdown",
   "id": "c870a2f9",
   "metadata": {},
   "source": [
    "Explicação:"
   ]
  },
  {
   "cell_type": "markdown",
   "id": "93b6a970",
   "metadata": {},
   "source": [
    "Comentários:\n",
    "\n",
    "-"
   ]
  },
  {
   "cell_type": "markdown",
   "id": "208360b9",
   "metadata": {},
   "source": [
    "**b) Faça um programa que leia um nome de usuário e a sua senha e não aceite a senha igual ao nome do usuário, mostrando uma mensagem de erro e voltando a pedir as informações.**"
   ]
  },
  {
   "cell_type": "markdown",
   "id": "c922fa61",
   "metadata": {},
   "source": [
    "Solução:"
   ]
  },
  {
   "cell_type": "code",
   "execution_count": null,
   "id": "c94529eb",
   "metadata": {},
   "outputs": [],
   "source": [
    "while True:\n",
    "\n",
    "    user_name: str = input(\"Digite o seu usuário: \")\n",
    "    password: str = input(\"Digite a sua senha: \")\n",
    "\n",
    "    if user_name == password:\n",
    "        print(\"Erro. Escolha um nome diferente ou uma senha difetente.\")\n",
    "        continue\n",
    "    else:\n",
    "        print(\"Usuário e senha aceitos.\")\n",
    "        break\n"
   ]
  },
  {
   "cell_type": "markdown",
   "id": "64fe7e00",
   "metadata": {},
   "source": [
    "Explicação:"
   ]
  },
  {
   "cell_type": "markdown",
   "id": "f93ccbf3",
   "metadata": {},
   "source": [
    "Comentários:\n",
    "\n",
    "-"
   ]
  },
  {
   "cell_type": "markdown",
   "id": "09777a73",
   "metadata": {},
   "source": [
    "**c) Faça um programa que determine e mostre os cinco primeiros múltiplos de 3, considerando números maiores que 0.**"
   ]
  },
  {
   "cell_type": "code",
   "execution_count": null,
   "id": "734414e5",
   "metadata": {},
   "outputs": [],
   "source": []
  },
  {
   "cell_type": "markdown",
   "id": "0d123eaa",
   "metadata": {},
   "source": [
    "---"
   ]
  }
 ],
 "metadata": {
  "kernelspec": {
   "display_name": "Python 3",
   "language": "python",
   "name": "python3"
  },
  "language_info": {
   "codemirror_mode": {
    "name": "ipython",
    "version": 3
   },
   "file_extension": ".py",
   "mimetype": "text/x-python",
   "name": "python",
   "nbconvert_exporter": "python",
   "pygments_lexer": "ipython3",
   "version": "3.13.2"
  }
 },
 "nbformat": 4,
 "nbformat_minor": 5
}
