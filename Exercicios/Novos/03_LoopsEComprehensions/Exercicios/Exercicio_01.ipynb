{
 "cells": [
  {
   "cell_type": "markdown",
   "id": "fb41510c",
   "metadata": {},
   "source": [
    "# Exercício 01"
   ]
  },
  {
   "cell_type": "markdown",
   "id": "4cf2f346",
   "metadata": {},
   "source": [
    "Vamos começar os loops for de uma maneira bem tranquila, como um aquecimento."
   ]
  },
  {
   "cell_type": "markdown",
   "id": "487ae6e3",
   "metadata": {},
   "source": [
    "**a) Imprima seu nome completo na tela numa única linha utilizando loops.**"
   ]
  },
  {
   "cell_type": "markdown",
   "id": "9daa1bca",
   "metadata": {},
   "source": [
    "Solução:"
   ]
  },
  {
   "cell_type": "code",
   "execution_count": 2,
   "id": "1a1426b4",
   "metadata": {},
   "outputs": [
    {
     "name": "stdout",
     "output_type": "stream",
     "text": [
      "Gabriel Cavalcanti"
     ]
    }
   ],
   "source": [
    "name: str = \"Gabriel Cavalcanti\"\n",
    "\n",
    "for letra in name:\n",
    "    print(letra, end='')"
   ]
  },
  {
   "cell_type": "markdown",
   "id": "e8af1ee5",
   "metadata": {},
   "source": [
    "Explicação:\n",
    "\n",
    "Para cada letra que está no iterador, ela é impressa, mas como o parâmetro end está ativo e ele está como uma String sem espaços, a próxima letra não vai para a próxima linha e sim para o lado da letra anterior. A iteração ocorre até acabar as letras da variável name."
   ]
  },
  {
   "cell_type": "markdown",
   "id": "6d46c985",
   "metadata": {},
   "source": [
    "Comentários:\n",
    "\n",
    "- É muito mais simples só imprimir o nome na tela, mas esse exercício só serve para se acustumar com a sintaxe. Verá que irá dificultar muito mais e o for fará sentido."
   ]
  },
  {
   "cell_type": "markdown",
   "id": "22d84f40",
   "metadata": {},
   "source": [
    "**b) Imprima os primeiros 10 números na tela, separados por um _.**"
   ]
  },
  {
   "cell_type": "markdown",
   "id": "518477f1",
   "metadata": {},
   "source": [
    "Solução:"
   ]
  },
  {
   "cell_type": "code",
   "execution_count": 6,
   "id": "961fcec2",
   "metadata": {},
   "outputs": [
    {
     "name": "stdout",
     "output_type": "stream",
     "text": [
      "0_1_2_3_4_5_6_7_8_9_10_"
     ]
    }
   ],
   "source": [
    "for num in range(11):\n",
    "    print(num, end='_', sep='')"
   ]
  },
  {
   "cell_type": "markdown",
   "id": "0858e89f",
   "metadata": {},
   "source": [
    "Explicação:\n",
    "\n",
    "Dessa vez é utilizada a função range. Como o parâmetro é 11, o intevalo vai de 0 a 10. Utilizamos os parâmetros end e sep para executar o que a questão queria."
   ]
  },
  {
   "cell_type": "markdown",
   "id": "e2c82291",
   "metadata": {},
   "source": [
    "Comentários:\n",
    "\n",
    "-"
   ]
  },
  {
   "cell_type": "markdown",
   "id": "e86803c6",
   "metadata": {},
   "source": [
    "**c) Crie uma contagem regressiva de 10 até 0 e imprima que o lançamento do foguete foi bem executado.**"
   ]
  },
  {
   "cell_type": "code",
   "execution_count": 10,
   "id": "284dd548",
   "metadata": {},
   "outputs": [
    {
     "name": "stdout",
     "output_type": "stream",
     "text": [
      "10\n",
      "9\n",
      "8\n",
      "7\n",
      "6\n",
      "5\n",
      "4\n",
      "3\n",
      "2\n",
      "1\n",
      "O lançamento foi um sucesso!!!\n"
     ]
    }
   ],
   "source": [
    "for time in range(10, 0, -1):\n",
    "    print(time)\n",
    "\n",
    "print(\"O lançamento foi um sucesso!!!\")"
   ]
  },
  {
   "cell_type": "markdown",
   "id": "e26d4173",
   "metadata": {},
   "source": [
    "**d) Imprima a palavra \"pudim\" em dez linhas, mas para cada linha a palavra se repete a quantidade de vezes da linha. Exemplo: primeira linha: \"pudim\", segunda linha: \"pudim pudim\" ...**"
   ]
  },
  {
   "cell_type": "code",
   "execution_count": 20,
   "id": "9847cd73",
   "metadata": {},
   "outputs": [
    {
     "name": "stdout",
     "output_type": "stream",
     "text": [
      "\n",
      "pudim \n",
      "pudim pudim \n",
      "pudim pudim pudim \n",
      "pudim pudim pudim pudim \n",
      "pudim pudim pudim pudim pudim \n",
      "pudim pudim pudim pudim pudim pudim \n",
      "pudim pudim pudim pudim pudim pudim pudim \n",
      "pudim pudim pudim pudim pudim pudim pudim pudim \n",
      "pudim pudim pudim pudim pudim pudim pudim pudim pudim \n",
      "pudim pudim pudim pudim pudim pudim pudim pudim pudim pudim \n"
     ]
    }
   ],
   "source": [
    "sobremesa: str = \"pudim \"\n",
    "\n",
    "for pudim in range(11):\n",
    "    print(f'{sobremesa * pudim}')\n"
   ]
  },
  {
   "cell_type": "markdown",
   "id": "53903bf4",
   "metadata": {},
   "source": [
    "Explicação:\n",
    "\n",
    "Para cada loop, a palavra \"pudim\" foi sendo escrita. A variável do for (pudim) vai aumentado de um em um, possibilitando que a palavra pudim possa ser escrita x vezes. "
   ]
  },
  {
   "cell_type": "markdown",
   "id": "b6db9d53",
   "metadata": {},
   "source": [
    "Comentários:\n",
    "\n",
    "- É legal brincar com isso. Vizualmente legal, mas um pouco inútil."
   ]
  },
  {
   "cell_type": "markdown",
   "id": "c6c78962",
   "metadata": {},
   "source": [
    "**e) Crie uma pirâmede de pudim.**"
   ]
  },
  {
   "cell_type": "code",
   "execution_count": 19,
   "id": "7ed7e266",
   "metadata": {},
   "outputs": [
    {
     "name": "stdout",
     "output_type": "stream",
     "text": [
      "                                                            \n",
      "                           pudim                            \n",
      "                        pudim pudim                         \n",
      "                     pudim pudim pudim                      \n",
      "                  pudim pudim pudim pudim                   \n",
      "               pudim pudim pudim pudim pudim                \n",
      "            pudim pudim pudim pudim pudim pudim             \n",
      "         pudim pudim pudim pudim pudim pudim pudim          \n",
      "      pudim pudim pudim pudim pudim pudim pudim pudim       \n",
      "   pudim pudim pudim pudim pudim pudim pudim pudim pudim    \n",
      "pudim pudim pudim pudim pudim pudim pudim pudim pudim pudim \n"
     ]
    }
   ],
   "source": [
    "sobremesa: str = \"pudim \"\n",
    "\n",
    "for pudim in range(11):\n",
    "    print(f'{sobremesa * pudim:^60}')"
   ]
  },
  {
   "cell_type": "markdown",
   "id": "fae07099",
   "metadata": {},
   "source": [
    "Explicação:\n",
    "\n",
    "Mesmo programa anterior, mas utilizei o poder das f-strings. O \"operador\" ^ permite que o texto fique centralizado. Coloquei uma margem suficinete para que todas as palavras combessem."
   ]
  },
  {
   "cell_type": "markdown",
   "id": "a4623cf4",
   "metadata": {},
   "source": [
    "Comentários:\n",
    "\n",
    "- Esse é mais inútil ainda, mas mais legal também."
   ]
  },
  {
   "cell_type": "markdown",
   "id": "12a256c5",
   "metadata": {},
   "source": [
    "---"
   ]
  }
 ],
 "metadata": {
  "kernelspec": {
   "display_name": "Python 3",
   "language": "python",
   "name": "python3"
  },
  "language_info": {
   "codemirror_mode": {
    "name": "ipython",
    "version": 3
   },
   "file_extension": ".py",
   "mimetype": "text/x-python",
   "name": "python",
   "nbconvert_exporter": "python",
   "pygments_lexer": "ipython3",
   "version": "3.13.2"
  }
 },
 "nbformat": 4,
 "nbformat_minor": 5
}
