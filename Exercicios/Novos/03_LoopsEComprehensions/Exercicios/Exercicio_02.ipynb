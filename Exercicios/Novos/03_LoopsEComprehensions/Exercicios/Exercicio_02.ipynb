{
 "cells": [
  {
   "cell_type": "markdown",
   "id": "a131e5e2",
   "metadata": {},
   "source": [
    "# Exercício 02"
   ]
  },
  {
   "cell_type": "markdown",
   "id": "f7702a55",
   "metadata": {},
   "source": [
    "Trataremos de exercícios simples aqui também, mas com partes mais úteis na programação."
   ]
  },
  {
   "cell_type": "markdown",
   "id": "2a965765",
   "metadata": {},
   "source": [
    "**a) Faça um programa que peça ao usuårio para digitar 10 valores e some-os.**"
   ]
  },
  {
   "cell_type": "markdown",
   "id": "f4189c9b",
   "metadata": {},
   "source": [
    "Solução:"
   ]
  },
  {
   "cell_type": "code",
   "execution_count": 8,
   "id": "56e15685",
   "metadata": {},
   "outputs": [
    {
     "name": "stdout",
     "output_type": "stream",
     "text": [
      "10.0\n"
     ]
    }
   ],
   "source": [
    "soma_num: float = 0\n",
    "\n",
    "for num in range(10):\n",
    "    num_user: float = float(input(\"Digite um número: \"))\n",
    "    soma_num += num_user\n",
    "\n",
    "print(soma_num)\n"
   ]
  },
  {
   "cell_type": "markdown",
   "id": "3cf1d74a",
   "metadata": {},
   "source": [
    "Explicação:\n",
    "\n",
    "Criamos uma variável que vai receber a soma dos números, ela começa em 0. Para cada loop é pedido a um número, ele vai sendo adicionado a variável soma_num. No final do loop, a soma_num contêm a soma de todos os números digitados."
   ]
  },
  {
   "cell_type": "markdown",
   "id": "aef6cdda",
   "metadata": {},
   "source": [
    "Comentários:\n",
    "\n",
    "- É bem prático o uso do operador +=, ele enxuga a notação e é extremamente utilizado na programação."
   ]
  },
  {
   "cell_type": "markdown",
   "id": "faa391b0",
   "metadata": {},
   "source": [
    "**b) Faça um programa que leia 10 inteiros e imprima sua média.**"
   ]
  },
  {
   "cell_type": "markdown",
   "id": "3b2ca73f",
   "metadata": {},
   "source": [
    "Solução:"
   ]
  },
  {
   "cell_type": "code",
   "execution_count": 9,
   "id": "55efdfa1",
   "metadata": {},
   "outputs": [
    {
     "name": "stdout",
     "output_type": "stream",
     "text": [
      "A média dos valores digitados é 10.0.\n"
     ]
    }
   ],
   "source": [
    "soma_num: int = 0\n",
    "\n",
    "for num in range(10):\n",
    "    num_user: int = int(input(\"Digite um número inteiro: \"))\n",
    "    soma_num += num_user\n",
    "\n",
    "print(f'A média dos valores digitados é {soma_num / 10}.')\n"
   ]
  },
  {
   "cell_type": "markdown",
   "id": "111a56a6",
   "metadata": {},
   "source": [
    "Explicação:\n",
    "\n",
    "Mesmo programa que o anterior. Em vez de tentar calcular a média pelo loop, apenas esperei ele terminar e calculei a média pela f-string."
   ]
  },
  {
   "cell_type": "markdown",
   "id": "98455ec6",
   "metadata": {},
   "source": [
    "Comentários:\n",
    "\n",
    "- Esses dois programas com listas ficariam mais simples, mas por enquanto não estamos utilizando elas. Veremos depois."
   ]
  },
  {
   "cell_type": "markdown",
   "id": "905ce3f0",
   "metadata": {},
   "source": [
    "**c) Faça um programa que leia um número inteiro positivo N e imprima todos os números naturais de 0 até N em ordem decrescente.**"
   ]
  },
  {
   "cell_type": "markdown",
   "id": "83f0fd0e",
   "metadata": {},
   "source": [
    "Solução:"
   ]
  },
  {
   "cell_type": "code",
   "execution_count": 22,
   "id": "9ba5709a",
   "metadata": {},
   "outputs": [
    {
     "name": "stdout",
     "output_type": "stream",
     "text": [
      "7 6 5 4 3 2 1 "
     ]
    }
   ],
   "source": [
    "num: int = int(input(\"Digite um número inteiro: \"))\n",
    "\n",
    "if num < 0:\n",
    "    num = -1 * num\n",
    "\n",
    "for i in range(num, 0, -1):\n",
    "    print(i, end=' ')\n"
   ]
  },
  {
   "cell_type": "markdown",
   "id": "b083d86e",
   "metadata": {},
   "source": [
    "Explicação:\n",
    "\n",
    "Declarei a variável, verifiquei se o número era positivo ou negativo, caso fosse negativo, mudava para positivo. Depois utilizei o for para imprimir os número de forma decrecente utilizando o step igual a -1."
   ]
  },
  {
   "cell_type": "markdown",
   "id": "df48ffb5",
   "metadata": {},
   "source": [
    "Comentários:\n",
    "\n",
    "- Python é tão elegante. Tem inúmeras outras formas de se resolver qualqure um desses problemas, mas de uma forma simples como essa é elegante demais."
   ]
  },
  {
   "cell_type": "markdown",
   "id": "c4a83e28",
   "metadata": {},
   "source": [
    "**d) Faça um programa que leia um número inteiro N e depois imprima os N primeiros números naturais impares.**"
   ]
  },
  {
   "cell_type": "code",
   "execution_count": 23,
   "id": "a06e2542",
   "metadata": {},
   "outputs": [
    {
     "name": "stdout",
     "output_type": "stream",
     "text": [
      "1 3 5 7 9 11 13 15 17 19 21 23 25 27 29 "
     ]
    }
   ],
   "source": [
    "num: int = int(input(\"Digite um número inteiro: \"))\n",
    "\n",
    "for i in range(num):\n",
    "    \n",
    "    if i % 2 != 0:\n",
    "        print(i, end=' ')\n"
   ]
  },
  {
   "cell_type": "markdown",
   "id": "36e1cbe6",
   "metadata": {},
   "source": [
    "Explicação:\n",
    "\n",
    "Dentro do loop pedi para verificar se o número era ímpar ou não, caso fosse, imprimia ele, caso não fosse, continuava o loop. "
   ]
  },
  {
   "cell_type": "markdown",
   "id": "e721cb57",
   "metadata": {},
   "source": [
    "Comentários:\n",
    "\n",
    "-"
   ]
  },
  {
   "cell_type": "markdown",
   "id": "c3ee62a0",
   "metadata": {},
   "source": [
    "---"
   ]
  }
 ],
 "metadata": {
  "kernelspec": {
   "display_name": "Python 3",
   "language": "python",
   "name": "python3"
  },
  "language_info": {
   "codemirror_mode": {
    "name": "ipython",
    "version": 3
   },
   "file_extension": ".py",
   "mimetype": "text/x-python",
   "name": "python",
   "nbconvert_exporter": "python",
   "pygments_lexer": "ipython3",
   "version": "3.13.2"
  }
 },
 "nbformat": 4,
 "nbformat_minor": 5
}
