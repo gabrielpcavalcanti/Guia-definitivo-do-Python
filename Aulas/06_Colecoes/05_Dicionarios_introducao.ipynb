{
 "cells": [
  {
   "cell_type": "markdown",
   "id": "3d0fdd5a",
   "metadata": {},
   "source": [
    "# Dicionários"
   ]
  },
  {
   "cell_type": "markdown",
   "id": "92255c26",
   "metadata": {},
   "source": []
  },
  {
   "cell_type": "markdown",
   "id": "876cd33c",
   "metadata": {},
   "source": [
    "| clear(self, /)\n",
    "| Remove todos os itens do dict.\n",
    "|\n",
    "| copy(self, /)\n",
    "| Retorna uma cópia superficial do dict.\n",
    "|\n",
    "| get(self, key, default=None, /)\n",
    "| Retorna o valor para key se key estiver no dicionário, senão default.\n",
    "|\n",
    "| items(self, /)\n",
    "| Retorna um objeto semelhante a um conjunto fornecendo uma visão dos itens do dict.\n",
    "|\n",
    "| keys(self, /)\n",
    "| Retorna um objeto semelhante a um conjunto fornecendo uma visão das chaves do dict.\n",
    "|\n",
    "| pop(self, key, default=<unrepresentable>, /)\n",
    "| D.pop(k[,d]) -> v, remove a chave especificada e retorna o valor correspondente.\n",
    "|\n",
    "| Se a chave não for encontrada, retorna o padrão se fornecido; caso contrário,\n",
    "| gera um KeyError.\n",
    "|\n",
    "| popitem(self, /)\n",
    "| Remove e retorna um par (chave, valor) como uma tupla 2.\n",
    "|\n",
    "| Os pares são retornados na ordem LIFO (último a entrar, primeiro a sair).\n",
    "| Gera KeyError se o dict estiver vazio.\n",
    "|\n",
    "| setdefault(self, key, default=None, /)\n",
    "| Insere key com um valor default se key não estiver no dicionário.\n",
    "|\n",
    "| Retorna o valor para key se key estiver no dicionário, senão default.\n",
    "|\n",
    "| update(...)\n",
    "| D.update([E, ]**F) -> None. Atualiza D do mapeamento/iterável E e F.\n",
    "| Se E estiver presente e tiver um método .keys(), então faz: for k in E.keys(): D[k] = E[k]\n",
    "| Se E estiver presente e não tiver um método .keys(), então faz: for k, v in E: D[k] = v\n",
    "| Em ambos os casos, isso é seguido por: for k in F: D[k] = F[k]\n",
    "|\n",
    "| values(self, /)\n",
    "| Retorna um objeto que fornece uma visão dos valores do dict.\n",
    "|\n",
    "| fromkeys(iterable, value=None, /)\n",
    "| Cria um novo dicionário com chaves de iterable e values ​​definidos como value."
   ]
  }
 ],
 "metadata": {
  "language_info": {
   "name": "python"
  }
 },
 "nbformat": 4,
 "nbformat_minor": 5
}
