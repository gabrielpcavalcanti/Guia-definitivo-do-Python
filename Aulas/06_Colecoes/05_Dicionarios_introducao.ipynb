{
 "cells": [
  {
   "cell_type": "markdown",
   "id": "3d0fdd5a",
   "metadata": {},
   "source": [
    "# Dicionários"
   ]
  },
  {
   "cell_type": "markdown",
   "id": "92255c26",
   "metadata": {},
   "source": [
    "Essa coleção é um pouco diferente das listas e truplas, ela é um pouco mais complexa. Em outras linguagens de programação é chamada de mapas.\n",
    "\n",
    "Cada elemento dos dicionários é composta de uma chave e valor. Eles são separados por : e para o Python reconhecer que é um dicionário, utilizamos as { }.\n",
    "\n",
    "É possível colocar qualquer tipo de dados tanto nas chaves quanto valores, é possível misturar tipo de dados, ou seja, num mesmo dicionário ter chaves do tipo String e do tipo int.\n",
    "\n",
    "O que não é possível é ter chaves iguais, elas são únicas. \n",
    "\n",
    "Dica: Truplas são interessantes para utilizar como chaves nos dicionários."
   ]
  },
  {
   "cell_type": "markdown",
   "id": "0125e1e1",
   "metadata": {},
   "source": [
    "## Criar um dicionário\n",
    "\n",
    "É possível criar um dicionário de três formas, por meio das { }, pela palavra reservada dict e pelo método .fromkeys( ) (será mostrado na aula de métodos)."
   ]
  },
  {
   "cell_type": "code",
   "execution_count": null,
   "id": "ea4d74e2",
   "metadata": {},
   "outputs": [],
   "source": [
    "inventory: dict[str, int] = {'Apple': 15, 'Chocolate': 10, 'rice': 4}\n",
    "code_countries: dict[str, str] = dict(br='Brazil', eua='United States', sp='Spain')"
   ]
  },
  {
   "cell_type": "markdown",
   "id": "386acfd4",
   "metadata": {},
   "source": [
    "## Deletando um dicionário"
   ]
  },
  {
   "cell_type": "code",
   "execution_count": 2,
   "id": "1c16510e",
   "metadata": {},
   "outputs": [
    {
     "name": "stdout",
     "output_type": "stream",
     "text": [
      "{'Apple': 15, 'Chocolate': 10, 'rice': 4}\n"
     ]
    },
    {
     "ename": "NameError",
     "evalue": "name 'inventory' is not defined",
     "output_type": "error",
     "traceback": [
      "\u001b[31m---------------------------------------------------------------------------\u001b[39m",
      "\u001b[31mNameError\u001b[39m                                 Traceback (most recent call last)",
      "\u001b[36mCell\u001b[39m\u001b[36m \u001b[39m\u001b[32mIn[2]\u001b[39m\u001b[32m, line 7\u001b[39m\n\u001b[32m      3\u001b[39m \u001b[38;5;28mprint\u001b[39m(inventory)\n\u001b[32m      5\u001b[39m \u001b[38;5;28;01mdel\u001b[39;00m inventory\n\u001b[32m----> \u001b[39m\u001b[32m7\u001b[39m \u001b[38;5;28mprint\u001b[39m(\u001b[43minventory\u001b[49m)\n",
      "\u001b[31mNameError\u001b[39m: name 'inventory' is not defined"
     ]
    }
   ],
   "source": [
    "inventory: dict[str, int] = {'Apple': 15, 'Chocolate': 10, 'rice': 4}\n",
    "\n",
    "print(inventory)\n",
    "\n",
    "del inventory\n",
    "\n",
    "print(inventory)"
   ]
  },
  {
   "cell_type": "markdown",
   "id": "f22adc67",
   "metadata": {},
   "source": [
    "## Casting \n",
    "\n",
    "Como quase todos os tipos de dados, é possível fazer casting. Os dicionários não são diferentes."
   ]
  },
  {
   "cell_type": "code",
   "execution_count": null,
   "id": "001aef74",
   "metadata": {},
   "outputs": [],
   "source": [
    "list_of_tuples: list[str, int] = [('a', 1), ('b', 2)]\n",
    "tuple_of_tuples: tuple[str, int] = (('x', 10), ('y', 20))\n",
    "set_of_tuples: set[str, int] = {('i', 100), ('j', 200)}\n",
    "zip_01: zip = zip([1, 2], ['um', 'dois'])\n",
    "enumerate_01: enumerate = enumerate(['a', 'b', 'c'])\n",
    "\n",
    "\n",
    "print(dict(list_of_tuples)) \n",
    "print(dict(tuple_of_tuples))  \n",
    "print(dict(set_of_tuples))      \n",
    "print(dict(zip_01))             \n",
    "print(dict(enumerate_01))       \n"
   ]
  },
  {
   "cell_type": "markdown",
   "id": "7efe94a1",
   "metadata": {},
   "source": [
    "## Acessando elementos\n",
    "\n",
    "Podemos acessar elementos do dicionários, mas invés de índices, são as chaves que são utilizadas."
   ]
  },
  {
   "cell_type": "code",
   "execution_count": 1,
   "id": "8ba96228",
   "metadata": {},
   "outputs": [
    {
     "name": "stdout",
     "output_type": "stream",
     "text": [
      "10\n"
     ]
    }
   ],
   "source": [
    "inventory: dict[str, int] = {'Apple': 15, 'Chocolate': 10, 'rice': 4}\n",
    "\n",
    "print(inventory['Chocolate'])"
   ]
  },
  {
   "cell_type": "markdown",
   "id": "5b03abc2",
   "metadata": {},
   "source": [
    "Caso não tenha a chave, dará KeyError"
   ]
  },
  {
   "cell_type": "code",
   "execution_count": null,
   "id": "dbc465fc",
   "metadata": {},
   "outputs": [],
   "source": [
    "inventory: dict[str, int] = {'Apple': 15, 'Chocolate': 10, 'rice': 4}\n",
    "\n",
    "print(inventory['Orange'])"
   ]
  },
  {
   "cell_type": "markdown",
   "id": "79f6373c",
   "metadata": {},
   "source": [
    "## Verificar se está incluso \n",
    "\n",
    "Igual a qualquer tipo de dado, utilizamos o termo in para fazer essa verificação."
   ]
  },
  {
   "cell_type": "code",
   "execution_count": null,
   "id": "0e7aa6d8",
   "metadata": {},
   "outputs": [],
   "source": [
    "dict_01: dict[str, int] = {'pri': 1, 'sec': 2, 'terc': 3}\n",
    "\n",
    "print('pri' in dict_01)\n",
    "print('prie' in dict_01)\n"
   ]
  },
  {
   "cell_type": "markdown",
   "id": "876cd33c",
   "metadata": {},
   "source": [
    "---"
   ]
  }
 ],
 "metadata": {
  "kernelspec": {
   "display_name": "Python 3",
   "language": "python",
   "name": "python3"
  },
  "language_info": {
   "codemirror_mode": {
    "name": "ipython",
    "version": 3
   },
   "file_extension": ".py",
   "mimetype": "text/x-python",
   "name": "python",
   "nbconvert_exporter": "python",
   "pygments_lexer": "ipython3",
   "version": "3.13.2"
  }
 },
 "nbformat": 4,
 "nbformat_minor": 5
}
