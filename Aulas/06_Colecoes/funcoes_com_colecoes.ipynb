{
 "cells": [
  {
   "cell_type": "markdown",
   "metadata": {},
   "source": [
    "# Funções com coleções"
   ]
  },
  {
   "cell_type": "markdown",
   "metadata": {},
   "source": [
    "Nessa aula será mostrar algumas funções muito úteis que podem ser aplicadas as coleções"
   ]
  },
  {
   "cell_type": "markdown",
   "metadata": {},
   "source": [
    "### len( )\n",
    "\n",
    "Retorna o número de itens em um tipo de dado."
   ]
  },
  {
   "cell_type": "code",
   "execution_count": null,
   "metadata": {},
   "outputs": [
    {
     "name": "stdout",
     "output_type": "stream",
     "text": [
      "9\n"
     ]
    }
   ],
   "source": [
    "numbers: list[int] = [1, 1, 2, 5, 6, 6, 7, 134, 12122]\n",
    "tuple_01: tuple[int] = (1, 2, 3, 4, 5)\n",
    "\n",
    "print(len(numbers))\n",
    "print(len(tuple_01))\n"
   ]
  },
  {
   "cell_type": "markdown",
   "metadata": {},
   "source": [
    "As funções abaixo só funcionam tipos numéricos,"
   ]
  },
  {
   "cell_type": "markdown",
   "metadata": {},
   "source": [
    "### max( )\n",
    "\n",
    "Com um único argumento iterável, retorna seu maior item."
   ]
  },
  {
   "cell_type": "code",
   "execution_count": null,
   "metadata": {},
   "outputs": [
    {
     "name": "stdout",
     "output_type": "stream",
     "text": [
      "12122\n"
     ]
    }
   ],
   "source": [
    "numbers: list[int] = [1, 1, 2, 5, 6, 6, 7, 134, 12122]\n",
    "tuple_01: tuple[int] = (1, 2, 3, 4, 5)\n",
    "\n",
    "print(max(numbers))\n",
    "print(max(tuple_01))\n"
   ]
  },
  {
   "cell_type": "markdown",
   "metadata": {},
   "source": [
    "### min( )\n",
    "\n",
    "Com um único argumento iterável, retorna seu menos item."
   ]
  },
  {
   "cell_type": "code",
   "execution_count": null,
   "metadata": {},
   "outputs": [
    {
     "name": "stdout",
     "output_type": "stream",
     "text": [
      "1\n"
     ]
    }
   ],
   "source": [
    "numbers: list[int] = [1, 1, 2, 5, 6, 6, 7, 134, 12122]\n",
    "tuple_01: tuple[int] = (1, 2, 3, 4, 5)\n",
    "\n",
    "print(min(numbers))\n",
    "print(min(tuple_01))\n"
   ]
  },
  {
   "cell_type": "markdown",
   "metadata": {},
   "source": [
    "### sum( )\n",
    "\n",
    "Retorna a soma dos valores de um iterável."
   ]
  },
  {
   "cell_type": "code",
   "execution_count": null,
   "metadata": {},
   "outputs": [
    {
     "name": "stdout",
     "output_type": "stream",
     "text": [
      "12284\n"
     ]
    }
   ],
   "source": [
    "numbers: list[int] = [1, 1, 2, 5, 6, 6, 7, 134, 12122]\n",
    "tuple_01: tuple[int] = (1, 2, 3, 4, 5)\n",
    "\n",
    "print(sum(numbers))\n",
    "print(sum(tuple_01))\n"
   ]
  },
  {
   "cell_type": "markdown",
   "metadata": {},
   "source": [
    "---"
   ]
  }
 ],
 "metadata": {
  "kernelspec": {
   "display_name": "Python 3",
   "language": "python",
   "name": "python3"
  },
  "language_info": {
   "codemirror_mode": {
    "name": "ipython",
    "version": 3
   },
   "file_extension": ".py",
   "mimetype": "text/x-python",
   "name": "python",
   "nbconvert_exporter": "python",
   "pygments_lexer": "ipython3",
   "version": "3.13.2"
  }
 },
 "nbformat": 4,
 "nbformat_minor": 2
}
