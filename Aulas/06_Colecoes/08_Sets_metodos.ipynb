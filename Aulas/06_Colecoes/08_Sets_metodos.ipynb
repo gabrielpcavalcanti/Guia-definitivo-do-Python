{
 "cells": [
  {
   "cell_type": "markdown",
   "id": "4005f7bb",
   "metadata": {},
   "source": [
    "# Método dos Sets"
   ]
  },
  {
   "cell_type": "markdown",
   "id": "b52db749",
   "metadata": {},
   "source": [
    "Os Sets possuem 17 métodos (excluindo dunder methods), alguns já conhecidos, outros novos e interessantes. "
   ]
  },
  {
   "cell_type": "markdown",
   "id": "7038b2dc",
   "metadata": {},
   "source": [
    "Os métodos são:"
   ]
  },
  {
   "cell_type": "code",
   "execution_count": null,
   "id": "8800aff2",
   "metadata": {},
   "outputs": [],
   "source": [
    "['__and__', '__class__', '__class_getitem__', '__contains__', '__delattr__', '__dir__', '__doc__', '__eq__', '__format__', '__ge__', '__getattribute__', '__getstate__', '__gt__', '__hash__', '__iand__', '__init__', '__init_subclass__', '__ior__', '__isub__', '__iter__', '__ixor__', '__le__', '__len__', '__lt__', '__ne__', '__new__', '__or__', '__rand__', '__reduce__', '__reduce_ex__', '__repr__', '__ror__', '__rsub__', '__rxor__', '__setattr__', '__sizeof__', '__str__', '__sub__', '__subclasshook__', '__xor__', 'add', 'clear', 'copy', 'difference', 'difference_update', 'discard', 'intersection', 'intersection_update', 'isdisjoint', 'issubset', 'issuperset', 'pop', 'remove', 'symmetric_difference', 'symmetric_difference_update', 'union', 'update']"
   ]
  },
  {
   "cell_type": "markdown",
   "id": "4f84b6b2",
   "metadata": {},
   "source": [
    "## Operações com conjuntos"
   ]
  },
  {
   "cell_type": "markdown",
   "id": "b2737e13",
   "metadata": {},
   "source": [
    "### .union( )\n",
    "\n",
    "Retorna um novo conjunto com elementos do conjunto e todos os outros. \"Soma\" os dois conjuntos, é a união de conjuntos. Não é possível utilizar o operador +."
   ]
  },
  {
   "cell_type": "code",
   "execution_count": 1,
   "id": "30fb915b",
   "metadata": {},
   "outputs": [
    {
     "name": "stdout",
     "output_type": "stream",
     "text": [
      "{1, 2, 3, 4, 5, 6, 7}\n"
     ]
    }
   ],
   "source": [
    "numbers_01: set = {1, 2, 3, 4}\n",
    "numbers_02: set = {4, 5, 6, 7}\n",
    "\n",
    "print(numbers_01.union(numbers_02))\n"
   ]
  },
  {
   "cell_type": "markdown",
   "id": "f74b3590",
   "metadata": {},
   "source": [
    "Perceba que ele não duplica valores. O 4 estava nos dois conjuntos e só aparece uma vez na união."
   ]
  },
  {
   "cell_type": "markdown",
   "id": "f468bc5c",
   "metadata": {},
   "source": [
    "### .intersection( )\n",
    "\n",
    "Retorna um novo conjunto com elementos comuns ao conjunto e a todos os outros. É a interseção dos conjuntos."
   ]
  },
  {
   "cell_type": "code",
   "execution_count": 3,
   "id": "a103549c",
   "metadata": {},
   "outputs": [
    {
     "name": "stdout",
     "output_type": "stream",
     "text": [
      "{1, 2, 3, 4}\n",
      "{4}\n"
     ]
    }
   ],
   "source": [
    "numbers_01: set = {1, 2, 3, 4}\n",
    "numbers_02: set = {4, 5, 6, 7}\n",
    "\n",
    "new_set: int = numbers_01.intersection(numbers_02)\n",
    "\n",
    "print(numbers_01)\n",
    "print(new_set)\n"
   ]
  },
  {
   "cell_type": "markdown",
   "id": "89025ada",
   "metadata": {},
   "source": [
    "### .intersection_update( )\n",
    "\n",
    "Atualiza o conjunto, mantendo apenas os elementos encontrados nele e todos os outros. Mantém apenas os elementos que estão em ambos os conjuntos"
   ]
  },
  {
   "cell_type": "code",
   "execution_count": null,
   "id": "760f1715",
   "metadata": {},
   "outputs": [
    {
     "name": "stdout",
     "output_type": "stream",
     "text": [
      "{'Beatriz', 'Ana', 'João', 'Carlos'}\n",
      "{'João', 'Carlos'}\n"
     ]
    }
   ],
   "source": [
    "frontend_devs: set[str] = {\"Ana\", \"Carlos\", \"Beatriz\", \"João\"}\n",
    "backend_devs: set[str] = {\"Carlos\", \"João\", \"Mariana\", \"Lucas\"}\n",
    "\n",
    "print(frontend_devs)\n",
    "\n",
    "frontend_devs.intersection_update(backend_devs)\n",
    "\n",
    "print(frontend_devs)  \n"
   ]
  },
  {
   "cell_type": "markdown",
   "id": "7edf1533",
   "metadata": {},
   "source": [
    "### .difference( )\n",
    "\n",
    "Retorna um novo conjunto com elementos no conjunto que não estão nos outros. É a diferença de conjuntos."
   ]
  },
  {
   "cell_type": "code",
   "execution_count": 11,
   "id": "94be3118",
   "metadata": {},
   "outputs": [
    {
     "name": "stdout",
     "output_type": "stream",
     "text": [
      "{1, 2, 3}\n",
      "{5, 6, 7}\n"
     ]
    }
   ],
   "source": [
    "numbers_01: set = {1, 2, 3, 4}\n",
    "numbers_02: set = {4, 5, 6, 7}\n",
    "\n",
    "print(numbers_01.difference(numbers_02))\n",
    "print(numbers_02.difference(numbers_01))\n"
   ]
  },
  {
   "cell_type": "markdown",
   "id": "bf8939da",
   "metadata": {},
   "source": [
    "### .difference_update( )\n",
    "\n",
    "Atualiza o conjunto, removendo elementos encontrados em outros."
   ]
  },
  {
   "cell_type": "code",
   "execution_count": 15,
   "id": "a94cdc05",
   "metadata": {},
   "outputs": [
    {
     "name": "stdout",
     "output_type": "stream",
     "text": [
      "{1, 2, 3}\n",
      "{4, 5, 6, 7}\n"
     ]
    }
   ],
   "source": [
    "numbers_01: set = {1, 2, 3, 4}\n",
    "numbers_02: set = {4, 5, 6, 7}\n",
    "\n",
    "numbers_01.difference_update(numbers_02)\n",
    "numbers_02.difference_update(numbers_01)\n",
    "\n",
    "print(numbers_01)\n",
    "print(numbers_02)\n"
   ]
  },
  {
   "cell_type": "markdown",
   "id": "98463a04",
   "metadata": {},
   "source": [
    "### .symmetric_difference( )\n",
    "\n",
    "Retorna um novo conjunto com elementos no conjunto ou em outro, mas não em ambos. Cria um novo conjunto com os nomes exclusivos de cada conjunto"
   ]
  },
  {
   "cell_type": "code",
   "execution_count": 16,
   "id": "6b9e74ea",
   "metadata": {},
   "outputs": [
    {
     "name": "stdout",
     "output_type": "stream",
     "text": [
      "{'Beatriz', 'Lucas', 'Mariana', 'Ana'}\n"
     ]
    }
   ],
   "source": [
    "curso_python: set[str] = {\"Ana\", \"Carlos\", \"Beatriz\", \"João\"}\n",
    "curso_java: set[str] = {\"Carlos\", \"João\", \"Mariana\", \"Lucas\"}\n",
    "\n",
    "diferentes: set[str] = curso_python.symmetric_difference(curso_java)\n",
    "\n",
    "print(diferentes)  \n"
   ]
  },
  {
   "cell_type": "markdown",
   "id": "35e618e5",
   "metadata": {},
   "source": [
    "### .symmetric_difference_update( )\n",
    "\n",
    "Atualiza o conjunto, mantendo apenas elementos encontrados em qualquer conjunto, mas não em ambos. Atualiza curso_python com a diferença simétrica entre ele e o outro conjunto."
   ]
  },
  {
   "cell_type": "code",
   "execution_count": 17,
   "id": "6b030ae5",
   "metadata": {},
   "outputs": [
    {
     "name": "stdout",
     "output_type": "stream",
     "text": [
      "{'Beatriz', 'Lucas', 'Mariana', 'Ana'}\n"
     ]
    }
   ],
   "source": [
    "curso_python: set[str] = {\"Ana\", \"Carlos\", \"Beatriz\", \"João\"}\n",
    "curso_java: set[str] = {\"Carlos\", \"João\", \"Mariana\", \"Lucas\"}\n",
    "\n",
    "curso_python.symmetric_difference_update(curso_java)\n",
    "\n",
    "\n",
    "print(curso_python) "
   ]
  },
  {
   "cell_type": "markdown",
   "id": "51e43f10",
   "metadata": {},
   "source": [
    "## Tebela resumo dos métodos vistos acima\n",
    "\n",
    "| Método                          | Retorna Novo Conjunto | Modifica o Conjunto (In-place) | O Que Faz                                                                              |\n",
    "|---------------------------------|------------------------|-------------------------------|----------------------------------------------------------------------------------------|\n",
    "| `union(other)`                  | Sim                   | Não                           | Retorna a união (todos os elementos de ambos os conjuntos)                            |\n",
    "| `intersection(other)`          | Sim                   | Não                           | Retorna a interseção (apenas elementos presentes em ambos)                            |\n",
    "| `intersection_update(other)`   | Não                   | Sim                           | Mantém no conjunto original apenas os elementos presentes também em `other`           |\n",
    "| `difference(other)`            | Sim                   | Não                           | Retorna a diferença (elementos só do conjunto original, que não estão em `other`)     |\n",
    "| `difference_update(other)`     | Não                   | Sim                           | Remove do conjunto original os elementos que estão também em `other`                  |\n",
    "| `symmetric_difference(other)`  | Sim                   | Não                           | Retorna os elementos exclusivos de cada conjunto (não comuns)                         |\n",
    "| `symmetric_difference_update(other)` | Não            | Sim                           | Atualiza o conjunto original com os elementos que estão em um dos conjuntos, mas não nos dois |"
   ]
  },
  {
   "cell_type": "markdown",
   "id": "ec691cb8",
   "metadata": {},
   "source": [
    "## Adicionar elementos em um conjunto"
   ]
  },
  {
   "cell_type": "markdown",
   "id": "89ca9aef",
   "metadata": {},
   "source": [
    "### .add( )\n",
    "\n",
    "Adiciona um elemento a um conjunto. Isso não tem efeito se o elemento já estiver presente."
   ]
  },
  {
   "cell_type": "code",
   "execution_count": 18,
   "id": "349a546f",
   "metadata": {},
   "outputs": [
    {
     "name": "stdout",
     "output_type": "stream",
     "text": [
      "{1, 2, 3, 4, 5}\n"
     ]
    }
   ],
   "source": [
    "numbers_01: set = {1, 2, 3, 4}\n",
    "\n",
    "numbers_01.add(5)\n",
    "\n",
    "print(numbers_01)\n"
   ]
  },
  {
   "cell_type": "markdown",
   "id": "dfc2c2fa",
   "metadata": {},
   "source": [
    "### .update( )\n",
    "\n",
    "Adiciona elementos de outros iteráveis ao conjunto."
   ]
  },
  {
   "cell_type": "code",
   "execution_count": 19,
   "id": "b65a4ef4",
   "metadata": {},
   "outputs": [
    {
     "name": "stdout",
     "output_type": "stream",
     "text": [
      "{'Java', 'Go', 'Rust', 'C++', 'C', 'Python'}\n"
     ]
    }
   ],
   "source": [
    "linguagens: set = {\"Python\", \"Java\"}\n",
    "novas_linguagens: set = {\"C\", \"C++\"}\n",
    "\n",
    "linguagens.update(novas_linguagens, {\"Go\", \"Rust\"})\n",
    "\n",
    "print(linguagens)  \n"
   ]
  },
  {
   "cell_type": "markdown",
   "id": "3fd42043",
   "metadata": {},
   "source": [
    "## Remove elementos em um conjunto"
   ]
  },
  {
   "cell_type": "markdown",
   "id": "6153cef7",
   "metadata": {},
   "source": [
    "### .pop( )\n",
    "\n",
    "Remove e retorna um elemento arbitrário do conjunto.\n",
    "\n",
    "Gera KeyError se o conjunto estiver vazio."
   ]
  },
  {
   "cell_type": "code",
   "execution_count": 20,
   "id": "9d24ffb4",
   "metadata": {},
   "outputs": [
    {
     "name": "stdout",
     "output_type": "stream",
     "text": [
      "gato\n",
      "{'pássaro', 'cachorro'}\n"
     ]
    }
   ],
   "source": [
    "animais: set = {\"gato\", \"cachorro\", \"pássaro\"}\n",
    "\n",
    "removido = animais.pop()\n",
    "\n",
    "print(removido)  \n",
    "print(animais)   \n"
   ]
  },
  {
   "cell_type": "code",
   "execution_count": 23,
   "id": "5b6dbe8f",
   "metadata": {},
   "outputs": [
    {
     "ename": "KeyError",
     "evalue": "'pop from an empty set'",
     "output_type": "error",
     "traceback": [
      "\u001b[31m---------------------------------------------------------------------------\u001b[39m",
      "\u001b[31mKeyError\u001b[39m                                  Traceback (most recent call last)",
      "\u001b[36mCell\u001b[39m\u001b[36m \u001b[39m\u001b[32mIn[23]\u001b[39m\u001b[32m, line 4\u001b[39m\n\u001b[32m      1\u001b[39m random_set: \u001b[38;5;28mset\u001b[39m = {\u001b[33m'\u001b[39m\u001b[33moi\u001b[39m\u001b[33m'\u001b[39m}\n\u001b[32m      3\u001b[39m random_set.pop()\n\u001b[32m----> \u001b[39m\u001b[32m4\u001b[39m \u001b[43mrandom_set\u001b[49m\u001b[43m.\u001b[49m\u001b[43mpop\u001b[49m\u001b[43m(\u001b[49m\u001b[43m)\u001b[49m\n",
      "\u001b[31mKeyError\u001b[39m: 'pop from an empty set'"
     ]
    }
   ],
   "source": [
    "random_set: set = {'oi'}\n",
    "\n",
    "random_set.pop()\n",
    "random_set.pop()\n"
   ]
  },
  {
   "cell_type": "markdown",
   "id": "21e545a3",
   "metadata": {},
   "source": [
    "### .remove( )\n",
    "\n",
    "Remove um elemento do conjunto. O elemento deve existir no conjunto.\n",
    "\n",
    "Gera KeyError se o elemento não estiver no conjunto."
   ]
  },
  {
   "cell_type": "code",
   "execution_count": 24,
   "id": "b0ce3857",
   "metadata": {},
   "outputs": [
    {
     "name": "stdout",
     "output_type": "stream",
     "text": [
      "{'azul', 'vermelho'}\n"
     ]
    }
   ],
   "source": [
    "cores: set = {\"vermelho\", \"verde\", \"azul\"}\n",
    "\n",
    "cores.remove(\"verde\")\n",
    "\n",
    "print(cores)  \n"
   ]
  },
  {
   "cell_type": "code",
   "execution_count": 25,
   "id": "9225e4b2",
   "metadata": {},
   "outputs": [
    {
     "ename": "KeyError",
     "evalue": "'amarelo'",
     "output_type": "error",
     "traceback": [
      "\u001b[31m---------------------------------------------------------------------------\u001b[39m",
      "\u001b[31mKeyError\u001b[39m                                  Traceback (most recent call last)",
      "\u001b[36mCell\u001b[39m\u001b[36m \u001b[39m\u001b[32mIn[25]\u001b[39m\u001b[32m, line 3\u001b[39m\n\u001b[32m      1\u001b[39m cores: \u001b[38;5;28mset\u001b[39m = {\u001b[33m\"\u001b[39m\u001b[33mvermelho\u001b[39m\u001b[33m\"\u001b[39m, \u001b[33m\"\u001b[39m\u001b[33mverde\u001b[39m\u001b[33m\"\u001b[39m, \u001b[33m\"\u001b[39m\u001b[33mazul\u001b[39m\u001b[33m\"\u001b[39m}\n\u001b[32m----> \u001b[39m\u001b[32m3\u001b[39m \u001b[43mcores\u001b[49m\u001b[43m.\u001b[49m\u001b[43mremove\u001b[49m\u001b[43m(\u001b[49m\u001b[33;43m\"\u001b[39;49m\u001b[33;43mamarelo\u001b[39;49m\u001b[33;43m\"\u001b[39;49m\u001b[43m)\u001b[49m\n",
      "\u001b[31mKeyError\u001b[39m: 'amarelo'"
     ]
    }
   ],
   "source": [
    "cores: set = {\"vermelho\", \"verde\", \"azul\"}\n",
    "\n",
    "cores.remove(\"amarelo\")\n"
   ]
  },
  {
   "cell_type": "markdown",
   "id": "2fa77743",
   "metadata": {},
   "source": [
    "### .dicard( )\n",
    "\n",
    "Remove o elemento do conjunto se ele existir.\n",
    "\n",
    "Não gera erro se o elemento não estiver no conjunto, diferente do remove."
   ]
  },
  {
   "cell_type": "code",
   "execution_count": 26,
   "id": "f309f34f",
   "metadata": {},
   "outputs": [
    {
     "name": "stdout",
     "output_type": "stream",
     "text": [
      "{1, 2, 4}\n"
     ]
    }
   ],
   "source": [
    "numeros: set = {1, 2, 3, 4}\n",
    "\n",
    "numeros.discard(3)\n",
    "numeros.discard(10)  \n",
    "\n",
    "print(numeros)  \n"
   ]
  },
  {
   "cell_type": "markdown",
   "id": "66c69ea9",
   "metadata": {},
   "source": [
    "### .clear( )\n",
    "\n",
    "Remove todos os elementos deste conjunto."
   ]
  },
  {
   "cell_type": "code",
   "execution_count": 27,
   "id": "cd7ba5e6",
   "metadata": {},
   "outputs": [
    {
     "name": "stdout",
     "output_type": "stream",
     "text": [
      "set()\n"
     ]
    }
   ],
   "source": [
    "frutas: set = {\"maçã\", \"banana\", \"laranja\"}\n",
    "\n",
    "frutas.clear()\n",
    "\n",
    "print(frutas)  \n"
   ]
  },
  {
   "cell_type": "markdown",
   "id": "7d9870d2",
   "metadata": {},
   "source": [
    "## Retornos booleanos"
   ]
  },
  {
   "cell_type": "markdown",
   "id": "906b225d",
   "metadata": {},
   "source": [
    "### .isdisjoint( )\n",
    "\n",
    "Retorna True se dois conjuntos não possuem elementos em comum (interseção nula)."
   ]
  },
  {
   "cell_type": "code",
   "execution_count": 28,
   "id": "092da030",
   "metadata": {},
   "outputs": [
    {
     "name": "stdout",
     "output_type": "stream",
     "text": [
      "True\n",
      "False\n"
     ]
    }
   ],
   "source": [
    "set_a = {1, 2, 3}\n",
    "set_b = {4, 5, 6}\n",
    "set_c = {2, 5}\n",
    "\n",
    "print(set_a.isdisjoint(set_b))  \n",
    "print(set_a.isdisjoint(set_c))  "
   ]
  },
  {
   "cell_type": "markdown",
   "id": "08802de9",
   "metadata": {},
   "source": [
    "### .issubset( )\n",
    "\n",
    "Retorna True se todos os elementos do conjunto estão contidos em other."
   ]
  },
  {
   "cell_type": "code",
   "execution_count": 29,
   "id": "8e2935aa",
   "metadata": {},
   "outputs": [
    {
     "name": "stdout",
     "output_type": "stream",
     "text": [
      "True\n",
      "False\n"
     ]
    }
   ],
   "source": [
    "set_a = {1, 2}\n",
    "set_b = {1, 2, 3, 4}\n",
    "\n",
    "print(set_a.issubset(set_b))  \n",
    "print(set_b.issubset(set_a))  "
   ]
  },
  {
   "cell_type": "markdown",
   "id": "0e9cebff",
   "metadata": {},
   "source": [
    "### .issuperset( )\n",
    "\n",
    "Retorna True se o conjunto atual contém todos os elementos de other."
   ]
  },
  {
   "cell_type": "code",
   "execution_count": 31,
   "id": "ab934b98",
   "metadata": {},
   "outputs": [
    {
     "name": "stdout",
     "output_type": "stream",
     "text": [
      "True\n",
      "False\n"
     ]
    }
   ],
   "source": [
    "set_a = {1, 2, 3, 4}\n",
    "set_b = {2, 3}\n",
    "\n",
    "print(set_a.issuperset(set_b)) \n",
    "print(set_b.issuperset(set_a))"
   ]
  },
  {
   "cell_type": "markdown",
   "id": "fdcdc3a2",
   "metadata": {},
   "source": [
    "## Copiar conjuntos"
   ]
  },
  {
   "cell_type": "markdown",
   "id": "ee8cc9a6",
   "metadata": {},
   "source": [
    "### .copy( )\n",
    "\n",
    "Retorna uma cópia superficial de um conjunto."
   ]
  },
  {
   "cell_type": "code",
   "execution_count": 38,
   "id": "7d21d80e",
   "metadata": {},
   "outputs": [
    {
     "name": "stdout",
     "output_type": "stream",
     "text": [
      "Original set: {'orange', 'banana', 'apple'}\n",
      "Copied set: {'pineapple', 'orange', 'banana', 'apple'}\n"
     ]
    }
   ],
   "source": [
    "fruits_set: set = {\"apple\", \"banana\", \"orange\"}\n",
    "\n",
    "fruits_copy: set = fruits_set.copy()\n",
    "\n",
    "fruits_copy.add(\"pineapple\")\n",
    "\n",
    "print(f\"Original set: {fruits_set}\")\n",
    "print(f\"Copied set: {fruits_copy}\")\n"
   ]
  },
  {
   "cell_type": "markdown",
   "id": "d63f8c39",
   "metadata": {},
   "source": [
    "---"
   ]
  }
 ],
 "metadata": {
  "kernelspec": {
   "display_name": "Python 3",
   "language": "python",
   "name": "python3"
  },
  "language_info": {
   "codemirror_mode": {
    "name": "ipython",
    "version": 3
   },
   "file_extension": ".py",
   "mimetype": "text/x-python",
   "name": "python",
   "nbconvert_exporter": "python",
   "pygments_lexer": "ipython3",
   "version": "3.13.2"
  }
 },
 "nbformat": 4,
 "nbformat_minor": 5
}
