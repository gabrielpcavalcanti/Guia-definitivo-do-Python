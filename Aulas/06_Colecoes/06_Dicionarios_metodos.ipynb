{
 "cells": [
  {
   "cell_type": "markdown",
   "id": "3935817c",
   "metadata": {},
   "source": [
    "# Métodos dos dicionários"
   ]
  },
  {
   "cell_type": "markdown",
   "id": "ce597dd3",
   "metadata": {},
   "source": [
    "Os dicionários possuem 11 métodos (excluindo dunder methods), o mesmo número que das listas. Alguns deles são iguais, outros não. \n",
    "\n"
   ]
  },
  {
   "cell_type": "markdown",
   "id": "cc2cd87f",
   "metadata": {},
   "source": [
    "Os métodos são :"
   ]
  },
  {
   "cell_type": "code",
   "execution_count": null,
   "id": "0049e6ae",
   "metadata": {},
   "outputs": [],
   "source": [
    "['__class__', '__class_getitem__', '__contains__', '__delattr__', '__delitem__', '__dir__', '__doc__', '__eq__', '__format__', '__ge__', '__getattribute__', '__getitem__', '__getstate__', '__gt__', '__hash__', '__init__', '__init_subclass__', '__ior__', '__iter__', '__le__', '__len__', '__lt__', '__ne__', '__new__', '__or__', '__reduce__', '__reduce_ex__', '__repr__', '__reversed__', '__ror__', '__setattr__', '__setitem__', '__sizeof__', '__str__', '__subclasshook__', 'clear', 'copy', 'fromkeys', 'get', 'items', 'keys', 'pop', 'popitem', 'setdefault', 'update', 'values']"
   ]
  },
  {
   "cell_type": "markdown",
   "id": "0a57ad42",
   "metadata": {},
   "source": [
    "## Acessando os termos do dicionário"
   ]
  },
  {
   "cell_type": "markdown",
   "id": "d6bd6bbe",
   "metadata": {},
   "source": [
    "### .keys( )\n",
    "\n",
    "Retorna um objeto semelhante a um conjunto fornecendo uma visão das chaves do dict. Retorna um iterável que pode ser utilizado depois."
   ]
  },
  {
   "cell_type": "code",
   "execution_count": 1,
   "id": "1002a02a",
   "metadata": {},
   "outputs": [
    {
     "name": "stdout",
     "output_type": "stream",
     "text": [
      "dict_keys(['city', 'temperature_celsius', 'condition', 'humidity_percent'])\n"
     ]
    }
   ],
   "source": [
    "weather_today: dict[str, int] = {'city': 'Rio de Janeiro', 'temperature_celsius': 29.5, 'condition': 'Sunny','humidity_percent': 65}\n",
    "\n",
    "print(weather_today.keys())\n"
   ]
  },
  {
   "cell_type": "markdown",
   "id": "4f70de0f",
   "metadata": {},
   "source": [
    "### .values( )\n",
    "\n",
    "Retorna um objeto que fornece uma visão dos valores do dict. Igual ao método keys, só que com os valores."
   ]
  },
  {
   "cell_type": "code",
   "execution_count": 2,
   "id": "589b489a",
   "metadata": {},
   "outputs": [
    {
     "name": "stdout",
     "output_type": "stream",
     "text": [
      "dict_values(['Rio de Janeiro', 29.5, 'Sunny', 65])\n"
     ]
    }
   ],
   "source": [
    "weather_today: dict[str, int] = {'city': 'Rio de Janeiro', 'temperature_celsius': 29.5, 'condition': 'Sunny','humidity_percent': 65}\n",
    "\n",
    "print(weather_today.values())\n"
   ]
  },
  {
   "cell_type": "markdown",
   "id": "43041e06",
   "metadata": {},
   "source": [
    "### .items( )\n",
    "Retorna um objeto semelhante a um conjunto fornecendo uma visão dos itens do dict. Retorna uma lista com truplas contendo as chaves e valores. É um iterável também."
   ]
  },
  {
   "cell_type": "code",
   "execution_count": 3,
   "id": "00624dc0",
   "metadata": {},
   "outputs": [
    {
     "name": "stdout",
     "output_type": "stream",
     "text": [
      "dict_items([('city', 'Rio de Janeiro'), ('temperature_celsius', 29.5), ('condition', 'Sunny'), ('humidity_percent', 65)])\n"
     ]
    }
   ],
   "source": [
    "weather_today: dict[str, int] = {'city': 'Rio de Janeiro', 'temperature_celsius': 29.5, 'condition': 'Sunny','humidity_percent': 65}\n",
    "\n",
    "print(weather_today.items())"
   ]
  },
  {
   "cell_type": "markdown",
   "id": "6ff3d1b4",
   "metadata": {},
   "source": [
    "## Adcionando e atualizando elementos em um dicionários"
   ]
  },
  {
   "cell_type": "markdown",
   "id": "92109498",
   "metadata": {},
   "source": [
    "### .update( )\n",
    "\n",
    "Adciona um par chave e valor novo ou substitui um já existente."
   ]
  },
  {
   "cell_type": "code",
   "execution_count": 4,
   "id": "1f45a316",
   "metadata": {},
   "outputs": [
    {
     "name": "stdout",
     "output_type": "stream",
     "text": [
      "{'title': 'The Pythonic Way', 'author': 'Ana Coder', 'year': 2023, 'pages': 284}\n"
     ]
    }
   ],
   "source": [
    "book_info: dict = {'title': 'The Pythonic Way', 'author': 'Ana Coder', 'year': 2023}\n",
    "\n",
    "book_info.update({'pages': 284})\n",
    "\n",
    "print(book_info)\n"
   ]
  },
  {
   "cell_type": "code",
   "execution_count": 5,
   "id": "d53b3dca",
   "metadata": {},
   "outputs": [
    {
     "name": "stdout",
     "output_type": "stream",
     "text": [
      "{'title': 'The Pythonic Way', 'author': 'Ana Coder', 'year': 2019}\n"
     ]
    }
   ],
   "source": [
    "book_info: dict = {'title': 'The Pythonic Way', 'author': 'Ana Coder', 'year': 2023}\n",
    "\n",
    "book_info.update({'year': 2019})\n",
    "\n",
    "print(book_info)"
   ]
  },
  {
   "cell_type": "markdown",
   "id": "53f44dd6",
   "metadata": {},
   "source": [
    "## Removendo termos do dicionários"
   ]
  },
  {
   "cell_type": "markdown",
   "id": "104dca9c",
   "metadata": {},
   "source": [
    "### .pop( )\n",
    "\n",
    "remove a chave especificada e retorna o valor correspondente. Identico as listas, mas retorna o valor, não a chave.\n",
    "\n",
    "Se a chave não for encontrada, retorna o padrão se fornecido; caso contrário, gera um KeyError."
   ]
  },
  {
   "cell_type": "code",
   "execution_count": 6,
   "id": "2c6bcb7c",
   "metadata": {},
   "outputs": [
    {
     "name": "stdout",
     "output_type": "stream",
     "text": [
      "{'username': 'dev_master42', 'followers': 2500}\n"
     ]
    }
   ],
   "source": [
    "user_profile: dict = {'username': 'dev_master42', 'email': 'master42@email.com', 'followers': 2500}\n",
    "\n",
    "user_profile.pop('email')\n",
    "\n",
    "print(user_profile)"
   ]
  },
  {
   "cell_type": "code",
   "execution_count": 7,
   "id": "2b07379a",
   "metadata": {},
   "outputs": [
    {
     "name": "stdout",
     "output_type": "stream",
     "text": [
      "master42@email.com\n"
     ]
    }
   ],
   "source": [
    "user_profile: dict = {'username': 'dev_master42', 'email': 'master42@email.com', 'followers': 2500}\n",
    "\n",
    "followers: str = user_profile.pop('email')\n",
    "\n",
    "print(followers)"
   ]
  },
  {
   "cell_type": "code",
   "execution_count": 8,
   "id": "090c4dcb",
   "metadata": {},
   "outputs": [
    {
     "ename": "KeyError",
     "evalue": "'verified'",
     "output_type": "error",
     "traceback": [
      "\u001b[31m---------------------------------------------------------------------------\u001b[39m",
      "\u001b[31mKeyError\u001b[39m                                  Traceback (most recent call last)",
      "\u001b[36mCell\u001b[39m\u001b[36m \u001b[39m\u001b[32mIn[8]\u001b[39m\u001b[32m, line 3\u001b[39m\n\u001b[32m      1\u001b[39m user_profile: \u001b[38;5;28mdict\u001b[39m = {\u001b[33m'\u001b[39m\u001b[33musername\u001b[39m\u001b[33m'\u001b[39m: \u001b[33m'\u001b[39m\u001b[33mdev_master42\u001b[39m\u001b[33m'\u001b[39m, \u001b[33m'\u001b[39m\u001b[33memail\u001b[39m\u001b[33m'\u001b[39m: \u001b[33m'\u001b[39m\u001b[33mmaster42@email.com\u001b[39m\u001b[33m'\u001b[39m, \u001b[33m'\u001b[39m\u001b[33mfollowers\u001b[39m\u001b[33m'\u001b[39m: \u001b[32m2500\u001b[39m}\n\u001b[32m----> \u001b[39m\u001b[32m3\u001b[39m \u001b[43muser_profile\u001b[49m\u001b[43m.\u001b[49m\u001b[43mpop\u001b[49m\u001b[43m(\u001b[49m\u001b[33;43m'\u001b[39;49m\u001b[33;43mverified\u001b[39;49m\u001b[33;43m'\u001b[39;49m\u001b[43m)\u001b[49m\n\u001b[32m      5\u001b[39m \u001b[38;5;28mprint\u001b[39m(user_profile)\n",
      "\u001b[31mKeyError\u001b[39m: 'verified'"
     ]
    }
   ],
   "source": [
    "user_profile: dict = {'username': 'dev_master42', 'email': 'master42@email.com', 'followers': 2500}\n",
    "\n",
    "user_profile.pop('verified')\n",
    "\n",
    "print(user_profile)"
   ]
  },
  {
   "cell_type": "markdown",
   "id": "a9472114",
   "metadata": {},
   "source": [
    "### .popitem( )\n",
    "\n",
    "Remove e retorna um par (chave, valor) como uma tupla 2.\n",
    "\n",
    "Os pares são retornados na ordem LIFO (último a entrar, primeiro a sair).\n",
    "\n",
    "Gera KeyError se o dict estiver vazio."
   ]
  },
  {
   "cell_type": "code",
   "execution_count": 9,
   "id": "3e3ba2e4",
   "metadata": {},
   "outputs": [
    {
     "name": "stdout",
     "output_type": "stream",
     "text": [
      "{'username': 'dev_master42', 'email': 'master42@email.com'}\n"
     ]
    }
   ],
   "source": [
    "user_profile: dict = {'username': 'dev_master42', 'email': 'master42@email.com', 'followers': 2500}\n",
    "\n",
    "user_profile.popitem()\n",
    "\n",
    "print(user_profile)"
   ]
  },
  {
   "cell_type": "markdown",
   "id": "b8336c10",
   "metadata": {},
   "source": [
    "### .clear( )\n",
    "\n",
    "Remove todos os itens do dicionário."
   ]
  },
  {
   "cell_type": "code",
   "execution_count": 10,
   "id": "c78d9c7c",
   "metadata": {},
   "outputs": [
    {
     "name": "stdout",
     "output_type": "stream",
     "text": [
      "{}\n"
     ]
    }
   ],
   "source": [
    "user_profile: dict = {'username': 'dev_master42', 'email': 'master42@email.com', 'followers': 2500}\n",
    "\n",
    "user_profile.clear()\n",
    "\n",
    "print(user_profile)\n"
   ]
  },
  {
   "cell_type": "markdown",
   "id": "adba5e0d",
   "metadata": {},
   "source": [
    "## Definindo valores Deafault"
   ]
  },
  {
   "cell_type": "markdown",
   "id": "f5c674a6",
   "metadata": {},
   "source": [
    "### .setdefault( )\n",
    "\n",
    "Insere key com um valor default se key não estiver no dicionário. Retorna o valor para key se key estiver no dicionário, senão default."
   ]
  },
  {
   "cell_type": "code",
   "execution_count": 11,
   "id": "85c23e3b",
   "metadata": {},
   "outputs": [
    {
     "name": "stdout",
     "output_type": "stream",
     "text": [
      "{'name': 'Alice', 'age': 25, 'city': 'São Paulo'}\n"
     ]
    }
   ],
   "source": [
    "person: dict = {\"name\": \"Alice\", \"age\": 25}\n",
    "\n",
    "person.setdefault(\"city\", \"São Paulo\")\n",
    "person.setdefault(\"name\", \"Maria\")\n",
    "\n",
    "print(person)\n"
   ]
  },
  {
   "cell_type": "markdown",
   "id": "208188ce",
   "metadata": {},
   "source": [
    "## Acessar dados"
   ]
  },
  {
   "cell_type": "markdown",
   "id": "73ec8c33",
   "metadata": {},
   "source": [
    "### .get( )\n",
    "\n",
    "Retorna o valor para key se key estiver no dicionário, senão default. É melhor do que usar a maneira que está na aula passada: \n",
    "print(inventory['Chocolate']), por exemplo.\n"
   ]
  },
  {
   "cell_type": "code",
   "execution_count": 12,
   "id": "0c24ddd7",
   "metadata": {},
   "outputs": [
    {
     "name": "stdout",
     "output_type": "stream",
     "text": [
      "10\n"
     ]
    }
   ],
   "source": [
    "inventory: dict[str, int] = {'Apple': 15, 'Chocolate': 10, 'rice': 4}\n",
    "\n",
    "print(inventory.get('Chocolate'))"
   ]
  },
  {
   "cell_type": "markdown",
   "id": "cb387e23",
   "metadata": {},
   "source": [
    "## Criando dicionários"
   ]
  },
  {
   "cell_type": "markdown",
   "id": "c43c7178",
   "metadata": {},
   "source": [
    "### .fromkeys( )\n",
    "\n",
    "Cria um novo dicionário com chaves de iterable e values ​​definidos como value. Última forma de criar dicionários, as outras duas estão na aula passada."
   ]
  },
  {
   "cell_type": "code",
   "execution_count": 13,
   "id": "4307a58f",
   "metadata": {},
   "outputs": [
    {
     "name": "stdout",
     "output_type": "stream",
     "text": [
      "{'name': None, 'age': None, 'email': None}\n"
     ]
    }
   ],
   "source": [
    "keys: list[str] = ['name', 'age', 'email']\n",
    "\n",
    "\n",
    "default_dict: dict = dict.fromkeys(keys)\n",
    "\n",
    "print(default_dict)\n"
   ]
  },
  {
   "cell_type": "code",
   "execution_count": 14,
   "id": "1719c606",
   "metadata": {},
   "outputs": [
    {
     "name": "stdout",
     "output_type": "stream",
     "text": [
      "{'apple': 1.99, 'banana': 1.99, 'orange': 1.99}\n"
     ]
    }
   ],
   "source": [
    "keys: list[str] = ['apple', 'banana', 'orange']\n",
    "default_price: float = 1.99\n",
    "\n",
    "fruit_prices: dict = dict.fromkeys(keys, default_price)\n",
    "\n",
    "print(fruit_prices)\n"
   ]
  },
  {
   "cell_type": "markdown",
   "id": "717e835b",
   "metadata": {},
   "source": [
    "## Copiando dicionários"
   ]
  },
  {
   "cell_type": "markdown",
   "id": "b8c4fdb5",
   "metadata": {},
   "source": [
    "### .copy( )\n",
    "\n",
    " Retorna uma cópia superficial do dict. Idêntico ao método da lista."
   ]
  },
  {
   "cell_type": "code",
   "execution_count": 15,
   "id": "6c245df2",
   "metadata": {},
   "outputs": [
    {
     "name": "stdout",
     "output_type": "stream",
     "text": [
      "{'user': 'Bob', 'hobbies': ['music', 'sports', 'chess']}\n",
      "{'user': 'Bob', 'hobbies': ['music', 'sports', 'chess']}\n"
     ]
    }
   ],
   "source": [
    "original: dict = {'user': 'Bob', 'hobbies': ['music', 'sports']}\n",
    "\n",
    "copy: dict = original.copy()\n",
    "\n",
    "copy['hobbies'].append('chess')\n",
    "\n",
    "print(original)\n",
    "print(copy)\n"
   ]
  },
  {
   "cell_type": "markdown",
   "id": "ef8b46b3",
   "metadata": {},
   "source": [
    "---"
   ]
  }
 ],
 "metadata": {
  "kernelspec": {
   "display_name": "Python 3",
   "language": "python",
   "name": "python3"
  },
  "language_info": {
   "codemirror_mode": {
    "name": "ipython",
    "version": 3
   },
   "file_extension": ".py",
   "mimetype": "text/x-python",
   "name": "python",
   "nbconvert_exporter": "python",
   "pygments_lexer": "ipython3",
   "version": "3.13.2"
  }
 },
 "nbformat": 4,
 "nbformat_minor": 5
}
