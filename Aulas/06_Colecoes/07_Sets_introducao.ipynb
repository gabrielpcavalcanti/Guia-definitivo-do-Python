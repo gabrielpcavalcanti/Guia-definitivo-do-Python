{
 "cells": [
  {
   "cell_type": "markdown",
   "id": "bd397d20",
   "metadata": {},
   "source": [
    "# Sets"
   ]
  },
  {
   "cell_type": "markdown",
   "id": "36fdabd4",
   "metadata": {},
   "source": [
    "É a representação do Python para a teoria dos Conjuntos da matemática. Praticamente todas os operações que se pode fazer num conjunto estão presentes nos métodos dos Sets.\n",
    "\n",
    "Os Sets não apresentam valores duplicados, ordenados, são mutáveis, aceitam qualquer tipo de dados. \n",
    "\n",
    "Eles criam uma ordenação própria e não são acessados por índice.\n",
    "\n",
    "São úteis para armazenar elementos que a ordenação, itens duplicados e que não precisem de chave/valor. \n",
    "\n",
    "São criados por { }, mas apenas elas, não precisa dos : para separar chave e valor."
   ]
  },
  {
   "cell_type": "markdown",
   "id": "be932eff",
   "metadata": {},
   "source": [
    "## Criar um Set\n",
    "\n",
    "Utilizamos as { }, como dito."
   ]
  },
  {
   "cell_type": "code",
   "execution_count": null,
   "id": "c1f163d7",
   "metadata": {},
   "outputs": [],
   "source": [
    "favorite_languages: set = {'Python', 'C++', 'SQL', 'Ruby'}\n",
    "kitchen_fruits: set = {'apple', 'banana', 'orange', 'grape'}"
   ]
  },
  {
   "cell_type": "markdown",
   "id": "1c40c6ee",
   "metadata": {},
   "source": [
    "## Casting\n",
    "\n",
    "Como em qualquer outro tipo de dados, é possível fazer casting com Sets também."
   ]
  },
  {
   "cell_type": "code",
   "execution_count": null,
   "id": "30e32b92",
   "metadata": {},
   "outputs": [],
   "source": [
    "word: str = \"banana\"\n",
    "fruits: list[str] = ['apple', 'banana', 'apple', 'orange']\n",
    "numbers: tuple[int] = (1, 2, 2, 3)\n",
    "number_range: range = range(5)\n",
    "dictionary: dict[str, int] = {'a': 1, 'b': 2, 'c': 3}\n",
    "\n",
    "print(set(word))\n",
    "print(set(fruits))\n",
    "print(set(numbers))\n",
    "print(set(number_range))\n",
    "print(set(dictionary)) \n"
   ]
  },
  {
   "cell_type": "markdown",
   "id": "0ace5a8a",
   "metadata": {},
   "source": [
    "## Desempacotando Sets\n",
    "\n",
    "funciona da mesma forma precisa que a quantidade de variáveis seja a mesma da quantidade de elementos do Set."
   ]
  },
  {
   "cell_type": "code",
   "execution_count": 2,
   "id": "627eb6fc",
   "metadata": {},
   "outputs": [
    {
     "name": "stdout",
     "output_type": "stream",
     "text": [
      "orange\n",
      "apple\n",
      "banana\n",
      "grape\n"
     ]
    }
   ],
   "source": [
    "kitchen_fruits: set = {'apple', 'banana', 'orange', 'grape'}\n",
    "\n",
    "fruit_01, fruit_02, fruit_03, fruit_04 = kitchen_fruits\n",
    "\n",
    "print(fruit_01)\n",
    "print(fruit_02)\n",
    "print(fruit_03)\n",
    "print(fruit_04)\n"
   ]
  },
  {
   "cell_type": "markdown",
   "id": "934daf50",
   "metadata": {},
   "source": [
    "## Verificar se está incluso\n",
    "\n",
    "Como diversas outras coleções, também uitlizamos o in."
   ]
  },
  {
   "cell_type": "code",
   "execution_count": 1,
   "id": "3ad7e9c1",
   "metadata": {},
   "outputs": [
    {
     "name": "stdout",
     "output_type": "stream",
     "text": [
      "True\n",
      "False\n"
     ]
    }
   ],
   "source": [
    "numbers: set = {1, 2, 3, 4, 5}\n",
    "\n",
    "print(3 in numbers)\n",
    "print(6 in numbers)\n"
   ]
  },
  {
   "cell_type": "markdown",
   "id": "55709272",
   "metadata": {},
   "source": [
    "---"
   ]
  }
 ],
 "metadata": {
  "kernelspec": {
   "display_name": "Python 3",
   "language": "python",
   "name": "python3"
  },
  "language_info": {
   "codemirror_mode": {
    "name": "ipython",
    "version": 3
   },
   "file_extension": ".py",
   "mimetype": "text/x-python",
   "name": "python",
   "nbconvert_exporter": "python",
   "pygments_lexer": "ipython3",
   "version": "3.13.2"
  }
 },
 "nbformat": 4,
 "nbformat_minor": 5
}
