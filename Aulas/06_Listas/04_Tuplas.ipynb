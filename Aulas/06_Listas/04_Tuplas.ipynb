{
 "cells": [
  {
   "cell_type": "markdown",
   "id": "85adafd4",
   "metadata": {},
   "source": [
    "# Tuplas\n",
    "\n"
   ]
  }
 ],
 "metadata": {
  "language_info": {
   "name": "python"
  }
 },
 "nbformat": 4,
 "nbformat_minor": 5
}
