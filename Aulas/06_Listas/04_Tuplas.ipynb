{
 "cells": [
  {
   "cell_type": "markdown",
   "id": "85adafd4",
   "metadata": {},
   "source": [
    "# Tuplas\n",
    "\n",
    "Truplas é um tipo de dado bem parecido com as listas, mas possui duas diferenças concideráveis. Primeiro, para identificar elas, utilizamos as vírgulas e elas são imutáveis, mas podemos subscreve-las.\n",
    "\n",
    "Normalmente se diz que se cria trupas utilizando os ( ), isso não é verdade. Elas são representadas por ( ), mas o que define são as vírgulas.\n",
    "\n",
    "Ser imutável significa que não podemos incluir nem retirar valores dentro de uma truplas, mas podemos sobrescreve-las e criar truplas novas a partir de outras truplas.\n",
    "\n",
    "Pode se perguntar, por que utilizar as truplas em vez de listas. Temos alguns motivos:\n",
    "\n",
    "- Deve, e utilizaremos truplas quando não é preciso modificar os dados contidos em uma coleção, por exemplo, uma coleção dos meses, coordenadas, letras etc.\n",
    "\n",
    "- São mais rápidas que as listas e\n",
    "\n",
    "- Permite uma maior segurança ao código."
   ]
  },
  {
   "cell_type": "markdown",
   "id": "3217776c",
   "metadata": {},
   "source": [
    "## Criando truplas\n",
    "\n",
    "Podemos criar as truplas utilizando os parênteses ou não. Sempte utilizarei os parênteses, fica mais claro que é uma trupla."
   ]
  },
  {
   "cell_type": "code",
   "execution_count": 1,
   "id": "94aed13c",
   "metadata": {},
   "outputs": [],
   "source": [
    "tuple_01: tuple[int] = (1, 2, 3, 4, 5)\n",
    "tuple_02: tuple[str] = ('a', 'b', 'c')\n",
    "tuple_03: tuple[int] = 1, 2, 3, 4, 5"
   ]
  },
  {
   "cell_type": "markdown",
   "id": "3566191c",
   "metadata": {},
   "source": [
    "Tenha cuidado a criar um trupla com um único elemento, não basta apenas colocar os parênteses, precisa colocar um vírugula depois."
   ]
  },
  {
   "cell_type": "code",
   "execution_count": 2,
   "id": "a9b12cf0",
   "metadata": {},
   "outputs": [],
   "source": [
    "tuple_04: tuple[int] = (4)  # Int\n",
    "tuple_05: tuple[int] = (4,)  # Tuple\n",
    "tuple_06: tuple[int] = 4,  # Tuple"
   ]
  },
  {
   "cell_type": "markdown",
   "id": "36202344",
   "metadata": {},
   "source": [
    "## Deletar a trupla\n",
    "\n",
    "Basta usar o comando del + nome da trupla."
   ]
  },
  {
   "cell_type": "code",
   "execution_count": 3,
   "id": "6830cdba",
   "metadata": {},
   "outputs": [
    {
     "name": "stdout",
     "output_type": "stream",
     "text": [
      "(1, 2, 3, 4)\n"
     ]
    },
    {
     "ename": "NameError",
     "evalue": "name 'trupla' is not defined",
     "output_type": "error",
     "traceback": [
      "\u001b[31m---------------------------------------------------------------------------\u001b[39m",
      "\u001b[31mNameError\u001b[39m                                 Traceback (most recent call last)",
      "\u001b[36mCell\u001b[39m\u001b[36m \u001b[39m\u001b[32mIn[3]\u001b[39m\u001b[32m, line 7\u001b[39m\n\u001b[32m      3\u001b[39m \u001b[38;5;28mprint\u001b[39m(trupla)\n\u001b[32m      5\u001b[39m \u001b[38;5;28;01mdel\u001b[39;00m trupla\n\u001b[32m----> \u001b[39m\u001b[32m7\u001b[39m \u001b[38;5;28mprint\u001b[39m(\u001b[43mtrupla\u001b[49m)\n",
      "\u001b[31mNameError\u001b[39m: name 'trupla' is not defined"
     ]
    }
   ],
   "source": [
    "trupla: tuple[int] = (1, 2, 3, 4)\n",
    "\n",
    "print(trupla)\n",
    "\n",
    "del trupla\n",
    "\n",
    "print(trupla)"
   ]
  },
  {
   "cell_type": "markdown",
   "id": "4321acec",
   "metadata": {},
   "source": [
    "## Slicing \n",
    "\n",
    "Assim como as listas e Strings, podemos fazer Slicing com truplas."
   ]
  },
  {
   "cell_type": "code",
   "execution_count": 4,
   "id": "6a4eed68",
   "metadata": {},
   "outputs": [
    {
     "name": "stdout",
     "output_type": "stream",
     "text": [
      "3\n",
      "(1, 2, 3, 4, 5)\n",
      "(1, 2, 3, 4)\n",
      "(3, 4)\n"
     ]
    }
   ],
   "source": [
    "tuple_01: tuple[int] = (1, 2, 3, 4, 5)\n",
    "\n",
    "print(tuple_01[2])\n",
    "print(tuple_01[:])\n",
    "print(tuple_01[:4])\n",
    "print(tuple_01[2:4])\n"
   ]
  },
  {
   "cell_type": "markdown",
   "id": "a3262a68",
   "metadata": {},
   "source": [
    "## Casting\n",
    "\n",
    "Podemos fazer casting com alguns tipo de dados dados."
   ]
  },
  {
   "cell_type": "code",
   "execution_count": 5,
   "id": "c6abfe24",
   "metadata": {},
   "outputs": [
    {
     "name": "stdout",
     "output_type": "stream",
     "text": [
      "('t', 'e', 's', 't', 'e')\n",
      "(1, 2, 3)\n",
      "('a', 'b')\n",
      "(10, 20, 30)\n",
      "(0, 1, 2, 3, 4)\n",
      "((0, 'x'), (1, 'y'))\n",
      "((1, 'a'), (2, 'b'))\n"
     ]
    }
   ],
   "source": [
    "string_01: str = \"teste\"\n",
    "list_01: list[str] = [1, 2, 3]\n",
    "dict_01: dict[str, int] = {'a': 1, 'b': 2}\n",
    "set_01: set[int] = {10, 20, 30}\n",
    "range_01: range = range(5)\n",
    "enumerate_01: enumerate = enumerate(['x', 'y'])\n",
    "zip_01: zip = zip([1, 2], ['a', 'b'])\n",
    "\n",
    "# Casting to tuple\n",
    "print(tuple(string_01))     \n",
    "print(tuple(list_01))       \n",
    "print(tuple(dict_01))       \n",
    "print(tuple(set_01))        \n",
    "print(tuple(range_01))      \n",
    "print(tuple(enumerate_01))  \n",
    "print(tuple(zip_01))       "
   ]
  },
  {
   "cell_type": "markdown",
   "id": "c822df7a",
   "metadata": {},
   "source": [
    "## Desempacotando truplas\n",
    "\n",
    "Funciona da mesma forma que as listas. Tem que ter o mesmo número de variáveis para elementos da truplas"
   ]
  },
  {
   "cell_type": "code",
   "execution_count": 6,
   "id": "511d0f47",
   "metadata": {},
   "outputs": [
    {
     "name": "stdout",
     "output_type": "stream",
     "text": [
      "2\n",
      "4\n",
      "2025\n"
     ]
    }
   ],
   "source": [
    "birth_date: tuple[int] = (2, 4, 2025)\n",
    "\n",
    "day, month, year = birth_date\n",
    "\n",
    "print(day)\n",
    "print(month)\n",
    "print(year)\n"
   ]
  },
  {
   "cell_type": "markdown",
   "id": "7ad67404",
   "metadata": {},
   "source": [
    "## Cocatenar listas\n",
    "\n",
    "Como falamos, as truplas são imutáveis, mas podemos cocatenar e sobrescreve-las."
   ]
  },
  {
   "cell_type": "code",
   "execution_count": 7,
   "id": "149370e5",
   "metadata": {},
   "outputs": [
    {
     "name": "stdout",
     "output_type": "stream",
     "text": [
      "(1, 2, 3, 4, 5)\n",
      "(1, 2, 3, 4, 5, 'a', 'b', 'c')\n",
      "(1, 2, 3, 4, 5, 1, 2, 3, 4, 5)\n"
     ]
    }
   ],
   "source": [
    "tuple_01: tuple[int] = (1, 2, 3, 4, 5)\n",
    "tuple_02: tuple[str] = ('a', 'b', 'c')\n",
    "tuple_03: tuple[int] = 1, 2, 3, 4, 5\n",
    "\n",
    "print(tuple_01)\n",
    "\n",
    "tuple_04 = tuple_01 + tuple_02\n",
    "tuple_01 = tuple_01 + tuple_03\n",
    "\n",
    "print(tuple_04)\n",
    "print(tuple_01)\n"
   ]
  },
  {
   "cell_type": "markdown",
   "id": "3dbb7c73",
   "metadata": {},
   "source": [
    "## Verificar se está incluso\n",
    "\n",
    "Meso processo que das listas, utilizamos o operador in."
   ]
  },
  {
   "cell_type": "code",
   "execution_count": 8,
   "id": "3b4e0a04",
   "metadata": {},
   "outputs": [
    {
     "name": "stdout",
     "output_type": "stream",
     "text": [
      "True\n",
      "False\n"
     ]
    }
   ],
   "source": [
    "tuple_01: tuple[int] = (1, 2, 3, 4, 5)\n",
    "\n",
    "print(1 in tuple_01)\n",
    "print('a' in tuple_01)\n"
   ]
  },
  {
   "cell_type": "markdown",
   "id": "4ebc7212",
   "metadata": {},
   "source": [
    "## Métodos com truplas\n",
    "\n",
    "Diferente das listas, as truplas somente contém dois métodos, ambos a lista possui."
   ]
  },
  {
   "cell_type": "markdown",
   "id": "2499de24",
   "metadata": {},
   "source": [
    "### .count( )\n",
    "\n",
    "Retorna o número de ocorrências do valor."
   ]
  },
  {
   "cell_type": "code",
   "execution_count": 9,
   "id": "f8203d91",
   "metadata": {},
   "outputs": [
    {
     "name": "stdout",
     "output_type": "stream",
     "text": [
      "As ocorrências do núemro 1 são: 5\n",
      "As ocorrências do núemro 8 são: 3\n",
      "As ocorrências do núemro 10 são: 0\n"
     ]
    }
   ],
   "source": [
    "numbers: tuple[int] = (1, 2, 1, 1, 1, 1, 4, 5, 6, 7, 8, 8, 8)\n",
    "\n",
    "print(f'As ocorrências do núemro 1 são: {numbers.count(1)}')\n",
    "print(f'As ocorrências do núemro 8 são: {numbers.count(8)}')\n",
    "print(f'As ocorrências do núemro 10 são: {numbers.count(10)}')"
   ]
  },
  {
   "cell_type": "markdown",
   "id": "6241808e",
   "metadata": {},
   "source": [
    "### .index( )\n",
    "\n",
    "Retorna o primeiro índice do valor.\n",
    "\n",
    "Levanta ValueError se o valor não estiver presente."
   ]
  },
  {
   "cell_type": "code",
   "execution_count": 10,
   "id": "c1f76d94",
   "metadata": {},
   "outputs": [
    {
     "name": "stdout",
     "output_type": "stream",
     "text": [
      "6\n"
     ]
    }
   ],
   "source": [
    "numbers: tuple[int] = (1, 2, 1, 1, 1, 1, 4, 5, 6, 7, 8, 8, 8)\n",
    "\n",
    "print(numbers.index(4))"
   ]
  },
  {
   "cell_type": "code",
   "execution_count": 11,
   "id": "f91c860c",
   "metadata": {},
   "outputs": [
    {
     "ename": "ValueError",
     "evalue": "tuple.index(x): x not in tuple",
     "output_type": "error",
     "traceback": [
      "\u001b[31m---------------------------------------------------------------------------\u001b[39m",
      "\u001b[31mValueError\u001b[39m                                Traceback (most recent call last)",
      "\u001b[36mCell\u001b[39m\u001b[36m \u001b[39m\u001b[32mIn[11]\u001b[39m\u001b[32m, line 3\u001b[39m\n\u001b[32m      1\u001b[39m numbers: \u001b[38;5;28mtuple\u001b[39m[\u001b[38;5;28mint\u001b[39m] = (\u001b[32m1\u001b[39m, \u001b[32m2\u001b[39m, \u001b[32m1\u001b[39m, \u001b[32m1\u001b[39m, \u001b[32m1\u001b[39m, \u001b[32m1\u001b[39m, \u001b[32m4\u001b[39m, \u001b[32m5\u001b[39m, \u001b[32m6\u001b[39m, \u001b[32m7\u001b[39m, \u001b[32m8\u001b[39m, \u001b[32m8\u001b[39m, \u001b[32m8\u001b[39m)\n\u001b[32m----> \u001b[39m\u001b[32m3\u001b[39m \u001b[38;5;28mprint\u001b[39m(\u001b[43mnumbers\u001b[49m\u001b[43m.\u001b[49m\u001b[43mindex\u001b[49m\u001b[43m(\u001b[49m\u001b[32;43m10\u001b[39;49m\u001b[43m)\u001b[49m)\n",
      "\u001b[31mValueError\u001b[39m: tuple.index(x): x not in tuple"
     ]
    }
   ],
   "source": [
    "numbers: tuple[int] = (1, 2, 1, 1, 1, 1, 4, 5, 6, 7, 8, 8, 8)\n",
    "\n",
    "print(numbers.index(10))"
   ]
  },
  {
   "cell_type": "markdown",
   "id": "079f54e6",
   "metadata": {},
   "source": [
    "---"
   ]
  }
 ],
 "metadata": {
  "kernelspec": {
   "display_name": "Python 3",
   "language": "python",
   "name": "python3"
  },
  "language_info": {
   "codemirror_mode": {
    "name": "ipython",
    "version": 3
   },
   "file_extension": ".py",
   "mimetype": "text/x-python",
   "name": "python",
   "nbconvert_exporter": "python",
   "pygments_lexer": "ipython3",
   "version": "3.13.2"
  }
 },
 "nbformat": 4,
 "nbformat_minor": 5
}
