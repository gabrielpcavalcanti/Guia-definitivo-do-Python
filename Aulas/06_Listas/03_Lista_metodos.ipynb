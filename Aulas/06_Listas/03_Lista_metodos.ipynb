{
 "cells": [
  {
   "cell_type": "markdown",
   "metadata": {},
   "source": [
    "# Métodos das listas"
   ]
  },
  {
   "cell_type": "markdown",
   "metadata": {},
   "source": [
    "Assim como as Strings, as listas também possuem métodos que facilitam o trabalho de quem está escrevendo o código. São menos métodos comparados as Strings e também são acessados com a notação ponto."
   ]
  },
  {
   "cell_type": "markdown",
   "metadata": {},
   "source": [
    "Os métodos são:"
   ]
  },
  {
   "cell_type": "code",
   "execution_count": null,
   "metadata": {},
   "outputs": [],
   "source": [
    "['__add__', '__class__', '__class_getitem__', '__contains__', '__delattr__', '__delitem__', '__dir__', '__doc__', '__eq__', '__format__', '__ge__', '__getattribute__', '__getitem__', '__getstate__', '__gt__', '__hash__', '__iadd__', '__imul__', '__init__', '__init_subclass__', '__iter__', '__le__', '__len__', '__lt__', '__mul__', '__ne__', '__new__', '__reduce__', '__reduce_ex__', '__repr__', '__reversed__', '__rmul__', '__setattr__', '__setitem__', '__sizeof__', '__str__', '__subclasshook__', 'append', 'clear', 'copy', 'count', 'extend', 'index', 'insert', 'pop', 'remove', 'reverse', 'sort']"
   ]
  },
  {
   "cell_type": "markdown",
   "metadata": {},
   "source": [
    "## Adionando elementos a lista"
   ]
  },
  {
   "cell_type": "markdown",
   "metadata": {},
   "source": [
    "### .append( )\n",
    "\n",
    "Acrescenta o objeto ao final da lista. Apenas um valor por vez e é adcionado no final da lista"
   ]
  },
  {
   "cell_type": "code",
   "execution_count": 1,
   "metadata": {},
   "outputs": [
    {
     "name": "stdout",
     "output_type": "stream",
     "text": [
      "[1, 2, 3, 4, 5]\n"
     ]
    }
   ],
   "source": [
    "list_numbers: list[int] = [1, 2, 3, 4]\n",
    "\n",
    "list_numbers.append(5)\n",
    "\n",
    "print(list_numbers)\n"
   ]
  },
  {
   "cell_type": "markdown",
   "metadata": {},
   "source": [
    "### .insert( )\n",
    "\n",
    "Insere o objeto antes do índice. Adciona o valor na lista informando o índice. Não substitui o valor original, o mesmo é deslocado a direita."
   ]
  },
  {
   "cell_type": "code",
   "execution_count": 2,
   "metadata": {},
   "outputs": [
    {
     "name": "stdout",
     "output_type": "stream",
     "text": [
      "['a', 'b', 'c', 'd', 'e']\n"
     ]
    }
   ],
   "source": [
    "alphabet: list[str] = ['a', 'b', 'c', 'd']\n",
    "\n",
    "alphabet.insert(4, 'e')\n",
    "\n",
    "print(alphabet)\n"
   ]
  },
  {
   "cell_type": "markdown",
   "metadata": {},
   "source": [
    "### .extend( )\n",
    "\n",
    "Estende a lista acrescentando elementos do iterável. Ele não vai acrescentar o iteraval, mas os elementos do iterável. Sempre insere no final da lista."
   ]
  },
  {
   "cell_type": "code",
   "execution_count": 3,
   "metadata": {},
   "outputs": [
    {
     "name": "stdout",
     "output_type": "stream",
     "text": [
      "['blue', 'red', 'green', 'orange', 'yellow', 'r', 'a', 'n', 'd', 'o', 'm']\n"
     ]
    }
   ],
   "source": [
    "colors: list[str] = ['blue', 'red', 'green']\n",
    "other_colors: list[str] = ['orange', 'yellow']\n",
    "random_string: str = \"random\"\n",
    "\n",
    "colors.extend(other_colors)\n",
    "colors.extend(random_string)\n",
    "\n",
    "print(colors)\n"
   ]
  },
  {
   "cell_type": "markdown",
   "metadata": {},
   "source": [
    "Caso queria acrescentar uma lista dentro da lista, fazemos o seguinte:"
   ]
  },
  {
   "cell_type": "code",
   "execution_count": 4,
   "metadata": {},
   "outputs": [
    {
     "name": "stdout",
     "output_type": "stream",
     "text": [
      "['blue', 'red', 'green', ['orange', 'yellow']]\n"
     ]
    }
   ],
   "source": [
    "colors: list[str] = ['blue', 'red', 'green']\n",
    "other_colors: list[str] = ['orange', 'yellow']\n",
    "\n",
    "colors.extend([other_colors])\n",
    "\n",
    "print(colors)\n"
   ]
  },
  {
   "cell_type": "markdown",
   "metadata": {},
   "source": [
    "## Removendo elementos da lista"
   ]
  },
  {
   "cell_type": "markdown",
   "metadata": {},
   "source": [
    "### .pop( )\n",
    "\n",
    "Remove e retorna o item no índice (último padrão). Pode colocar o índece que quer remover, os elementos serão deslocados à esquerda.\n",
    "\n",
    "Raises IndexError if list is empty or index is out of range."
   ]
  },
  {
   "cell_type": "code",
   "execution_count": 5,
   "metadata": {},
   "outputs": [
    {
     "name": "stdout",
     "output_type": "stream",
     "text": [
      "['a', 'e', 'i', 'o']\n"
     ]
    }
   ],
   "source": [
    "vowels: list[str] = ['a', 'e', 'i', 'o', 'u']\n",
    "\n",
    "vowels.pop()\n",
    "\n",
    "print(vowels)\n"
   ]
  },
  {
   "cell_type": "code",
   "execution_count": 6,
   "metadata": {},
   "outputs": [
    {
     "name": "stdout",
     "output_type": "stream",
     "text": [
      "u\n"
     ]
    }
   ],
   "source": [
    "vowels: list[str] = ['a', 'e', 'i', 'o', 'u']\n",
    "\n",
    "last_vowel: str = vowels.pop()\n",
    "\n",
    "print(last_vowel)"
   ]
  },
  {
   "cell_type": "code",
   "execution_count": 7,
   "metadata": {},
   "outputs": [
    {
     "ename": "IndexError",
     "evalue": "pop index out of range",
     "output_type": "error",
     "traceback": [
      "\u001b[31m---------------------------------------------------------------------------\u001b[39m",
      "\u001b[31mIndexError\u001b[39m                                Traceback (most recent call last)",
      "\u001b[36mCell\u001b[39m\u001b[36m \u001b[39m\u001b[32mIn[7]\u001b[39m\u001b[32m, line 3\u001b[39m\n\u001b[32m      1\u001b[39m vowels: \u001b[38;5;28mlist\u001b[39m[\u001b[38;5;28mstr\u001b[39m] = [\u001b[33m'\u001b[39m\u001b[33ma\u001b[39m\u001b[33m'\u001b[39m, \u001b[33m'\u001b[39m\u001b[33me\u001b[39m\u001b[33m'\u001b[39m, \u001b[33m'\u001b[39m\u001b[33mi\u001b[39m\u001b[33m'\u001b[39m, \u001b[33m'\u001b[39m\u001b[33mo\u001b[39m\u001b[33m'\u001b[39m, \u001b[33m'\u001b[39m\u001b[33mu\u001b[39m\u001b[33m'\u001b[39m]\n\u001b[32m----> \u001b[39m\u001b[32m3\u001b[39m \u001b[43mvowels\u001b[49m\u001b[43m.\u001b[49m\u001b[43mpop\u001b[49m\u001b[43m(\u001b[49m\u001b[32;43m10\u001b[39;49m\u001b[43m)\u001b[49m\n\u001b[32m      5\u001b[39m \u001b[38;5;28mprint\u001b[39m(vowels)\n",
      "\u001b[31mIndexError\u001b[39m: pop index out of range"
     ]
    }
   ],
   "source": [
    "vowels: list[str] = ['a', 'e', 'i', 'o', 'u']\n",
    "\n",
    "vowels.pop(10)\n",
    "\n",
    "print(vowels)"
   ]
  },
  {
   "cell_type": "code",
   "execution_count": 8,
   "metadata": {},
   "outputs": [
    {
     "name": "stdout",
     "output_type": "stream",
     "text": [
      "['a', 'e', 'o', 'u']\n",
      "a\n"
     ]
    }
   ],
   "source": [
    "vowels: list[str] = ['a', 'e', 'i', 'o', 'u']\n",
    "\n",
    "vowels.pop(2)\n",
    "\n",
    "print(vowels)\n",
    "\n",
    "a_vowel: str = vowels.pop(0)\n",
    "\n",
    "print(a_vowel)"
   ]
  },
  {
   "cell_type": "markdown",
   "metadata": {},
   "source": [
    "### .remove( )\n",
    "\n",
    "Remove a primeira ocorrência do valor. \n",
    "\n",
    "Levanta ValueError se o valor não estiver presente."
   ]
  },
  {
   "cell_type": "code",
   "execution_count": 9,
   "metadata": {},
   "outputs": [
    {
     "name": "stdout",
     "output_type": "stream",
     "text": [
      "['Alice', 'Carla', 'Diego', 'Elisa']\n"
     ]
    },
    {
     "ename": "ValueError",
     "evalue": "list.remove(x): x not in list",
     "output_type": "error",
     "traceback": [
      "\u001b[31m---------------------------------------------------------------------------\u001b[39m",
      "\u001b[31mValueError\u001b[39m                                Traceback (most recent call last)",
      "\u001b[36mCell\u001b[39m\u001b[36m \u001b[39m\u001b[32mIn[9]\u001b[39m\u001b[32m, line 7\u001b[39m\n\u001b[32m      3\u001b[39m names.remove(\u001b[33m\"\u001b[39m\u001b[33mBruno\u001b[39m\u001b[33m\"\u001b[39m)\n\u001b[32m      5\u001b[39m \u001b[38;5;28mprint\u001b[39m(names)\n\u001b[32m----> \u001b[39m\u001b[32m7\u001b[39m \u001b[43mnames\u001b[49m\u001b[43m.\u001b[49m\u001b[43mremove\u001b[49m\u001b[43m(\u001b[49m\u001b[33;43m\"\u001b[39;49m\u001b[33;43mAbby\u001b[39;49m\u001b[33;43m\"\u001b[39;49m\u001b[43m)\u001b[49m\n",
      "\u001b[31mValueError\u001b[39m: list.remove(x): x not in list"
     ]
    }
   ],
   "source": [
    "names: list[str] = ['Alice', 'Bruno', 'Carla', 'Diego', 'Elisa']\n",
    "\n",
    "names.remove(\"Bruno\")\n",
    "\n",
    "print(names)\n",
    "\n",
    "names.remove(\"Abby\")\n"
   ]
  },
  {
   "cell_type": "markdown",
   "metadata": {},
   "source": [
    "### .clear()\n",
    "\n",
    "Remove todos os itens da lista."
   ]
  },
  {
   "cell_type": "code",
   "execution_count": 10,
   "metadata": {},
   "outputs": [
    {
     "name": "stdout",
     "output_type": "stream",
     "text": [
      "[]\n"
     ]
    }
   ],
   "source": [
    "random_numbers: list[int] = [434, 4309, 1, 12143, 76]\n",
    "\n",
    "random_numbers.clear()\n",
    "\n",
    "print(random_numbers)\n"
   ]
  },
  {
   "cell_type": "markdown",
   "metadata": {},
   "source": [
    "## Métodos facilitadores das listas\n",
    "\n",
    "São métodos que outras linguagens de programação não possui e que facilitam a vida. Não é so o Python que tem, mas é otimo que tenha.\n"
   ]
  },
  {
   "cell_type": "markdown",
   "metadata": {},
   "source": [
    "### .sort( )\n",
    "\n",
    "Classifica a lista em ordem crescente e retorna None. Números são em ordem crescente; String, em ordem alfabética, sem considerar maiúsculas e minúsculas. Se conciderar, ele organiza primeiro as maiúsculas em ordem alfabética, depois as minúsculas.\n",
    "\n",
    "A ordenação é in-place (ou seja, a própria lista é modificada) e estável (ou seja, a ordem de dois elementos iguais é mantida).\n",
    "\n",
    "Se for fornecida o parâmetro key, aplique-a uma vez a cada item da lista e classifique-os, de forma ascendente ou descendente, de acordo com os valores da função.\n",
    " \n",
    "O parâmetro reverse pode ser definido para classificar em ordem decrescente.\n",
    "\n"
   ]
  },
  {
   "cell_type": "code",
   "execution_count": 11,
   "metadata": {},
   "outputs": [
    {
     "name": "stdout",
     "output_type": "stream",
     "text": [
      "[1, 2, 5, 5, 6, 9]\n"
     ]
    }
   ],
   "source": [
    "numbers: list[int] = [5, 2, 9, 1, 5, 6]\n",
    "\n",
    "numbers.sort()\n",
    "\n",
    "print(numbers)  \n"
   ]
  },
  {
   "cell_type": "code",
   "execution_count": 12,
   "metadata": {},
   "outputs": [
    {
     "name": "stdout",
     "output_type": "stream",
     "text": [
      "[1.41, 2.71, 3.14, 4.67]\n"
     ]
    }
   ],
   "source": [
    "floats: list[float] = [3.14, 2.71, 1.41, 4.67]\n",
    "\n",
    "sorted_floats = floats.sort()\n",
    "\n",
    "print(floats)  \n"
   ]
  },
  {
   "cell_type": "code",
   "execution_count": 13,
   "metadata": {},
   "outputs": [
    {
     "name": "stdout",
     "output_type": "stream",
     "text": [
      "['Alice', 'Carla', 'bruno', 'diego']\n"
     ]
    }
   ],
   "source": [
    "names: list[str] = ['Alice', 'bruno', 'Carla', 'diego']\n",
    "\n",
    "names.sort()\n",
    "\n",
    "print(names) \n"
   ]
  },
  {
   "cell_type": "code",
   "execution_count": 14,
   "metadata": {},
   "outputs": [
    {
     "name": "stdout",
     "output_type": "stream",
     "text": [
      "['kiwi', 'apple', 'banana', 'blueberry']\n"
     ]
    }
   ],
   "source": [
    "words: list[str] = ['banana', 'kiwi', 'apple', 'blueberry']\n",
    "\n",
    "words.sort(key=len)\n",
    "\n",
    "print(words)\n"
   ]
  },
  {
   "cell_type": "code",
   "execution_count": 15,
   "metadata": {},
   "outputs": [
    {
     "name": "stdout",
     "output_type": "stream",
     "text": [
      "[50, 30, 20, 10]\n"
     ]
    }
   ],
   "source": [
    "scores: list[int] = [10, 50, 30, 20]\n",
    "\n",
    "scores.sort(reverse=True)\n",
    "\n",
    "print(scores)  \n"
   ]
  },
  {
   "cell_type": "code",
   "execution_count": 16,
   "metadata": {},
   "outputs": [
    {
     "name": "stdout",
     "output_type": "stream",
     "text": [
      "['pineapple', 'grape', 'pear', 'fig']\n"
     ]
    }
   ],
   "source": [
    "fruits: list[str] = ['fig', 'pineapple', 'pear', 'grape']\n",
    "\n",
    "fruits.sort(key=len, reverse=True)\n",
    "\n",
    "print(fruits)\n"
   ]
  },
  {
   "cell_type": "markdown",
   "metadata": {},
   "source": [
    "### .reverse( )\n",
    "\n",
    "reverte a lista. O mesmo de fazer [::-1]."
   ]
  },
  {
   "cell_type": "code",
   "execution_count": 17,
   "metadata": {},
   "outputs": [
    {
     "name": "stdout",
     "output_type": "stream",
     "text": [
      "[5, 4, 3, 2, 1]\n"
     ]
    }
   ],
   "source": [
    "numbers: list[int] = [1, 2, 3, 4, 5]\n",
    "\n",
    "numbers.reverse()\n",
    "\n",
    "print(numbers)\n"
   ]
  },
  {
   "cell_type": "code",
   "execution_count": 18,
   "metadata": {},
   "outputs": [
    {
     "name": "stdout",
     "output_type": "stream",
     "text": [
      "[5, 4, 3, 2, 1]\n"
     ]
    }
   ],
   "source": [
    "numbers: list[int] = [1, 2, 3, 4, 5]\n",
    "\n",
    "print(numbers[::-1])"
   ]
  },
  {
   "cell_type": "markdown",
   "metadata": {},
   "source": [
    "### .count( )\n",
    "\n",
    "Retorna o número de ocorrências do valor."
   ]
  },
  {
   "cell_type": "code",
   "execution_count": 19,
   "metadata": {},
   "outputs": [
    {
     "name": "stdout",
     "output_type": "stream",
     "text": [
      "As ocorrências do núemro 1 são:  5\n",
      "As ocorrências do núemro 8 são:  3\n",
      "As ocorrências do núemro 10 são:  0\n"
     ]
    }
   ],
   "source": [
    "numbers: list[int] = [1, 2, 1, 1, 1, 1, 4, 5, 6, 7, 8, 8, 8]\n",
    "\n",
    "print(f'As ocorrências do núemro 1 são:  {numbers.count(1)}')\n",
    "print(f'As ocorrências do núemro 8 são:  {numbers.count(8)}')\n",
    "print(f'As ocorrências do núemro 10 são:  {numbers.count(10)}')\n"
   ]
  },
  {
   "cell_type": "markdown",
   "metadata": {},
   "source": [
    "### .index( )\n",
    "\n",
    "Retorna o primeiro índice do valor.\n",
    "\n",
    "Levanta ValueError se o valor não estiver presente."
   ]
  },
  {
   "cell_type": "code",
   "execution_count": 20,
   "metadata": {},
   "outputs": [
    {
     "name": "stdout",
     "output_type": "stream",
     "text": [
      "6\n"
     ]
    }
   ],
   "source": [
    "numbers: list[int] = [1, 2, 1, 1, 1, 1, 4, 5, 6, 7, 8, 8, 8]\n",
    "\n",
    "print(numbers.index(4))"
   ]
  },
  {
   "cell_type": "code",
   "execution_count": 21,
   "metadata": {},
   "outputs": [
    {
     "ename": "ValueError",
     "evalue": "10 is not in list",
     "output_type": "error",
     "traceback": [
      "\u001b[31m---------------------------------------------------------------------------\u001b[39m",
      "\u001b[31mValueError\u001b[39m                                Traceback (most recent call last)",
      "\u001b[36mCell\u001b[39m\u001b[36m \u001b[39m\u001b[32mIn[21]\u001b[39m\u001b[32m, line 3\u001b[39m\n\u001b[32m      1\u001b[39m numbers: \u001b[38;5;28mlist\u001b[39m[\u001b[38;5;28mint\u001b[39m] = [\u001b[32m1\u001b[39m, \u001b[32m2\u001b[39m, \u001b[32m1\u001b[39m, \u001b[32m1\u001b[39m, \u001b[32m1\u001b[39m, \u001b[32m1\u001b[39m, \u001b[32m4\u001b[39m, \u001b[32m5\u001b[39m, \u001b[32m6\u001b[39m, \u001b[32m7\u001b[39m, \u001b[32m8\u001b[39m, \u001b[32m8\u001b[39m, \u001b[32m8\u001b[39m]\n\u001b[32m----> \u001b[39m\u001b[32m3\u001b[39m \u001b[38;5;28mprint\u001b[39m(\u001b[43mnumbers\u001b[49m\u001b[43m.\u001b[49m\u001b[43mindex\u001b[49m\u001b[43m(\u001b[49m\u001b[32;43m10\u001b[39;49m\u001b[43m)\u001b[49m)\n",
      "\u001b[31mValueError\u001b[39m: 10 is not in list"
     ]
    }
   ],
   "source": [
    "numbers: list[int] = [1, 2, 1, 1, 1, 1, 4, 5, 6, 7, 8, 8, 8]\n",
    "\n",
    "print(numbers.index(10))"
   ]
  },
  {
   "cell_type": "markdown",
   "metadata": {},
   "source": [
    "Podemos passar o início e o fim do intevalo para procurar o índice"
   ]
  },
  {
   "cell_type": "code",
   "execution_count": 22,
   "metadata": {},
   "outputs": [
    {
     "name": "stdout",
     "output_type": "stream",
     "text": [
      "0\n",
      "3\n"
     ]
    }
   ],
   "source": [
    "numbers: list[int] = [1, 2, 1, 1, 1, 1, 4, 5, 6, 7, 8, 8, 8]\n",
    "\n",
    "\n",
    "print(numbers.index(1, 0))\n",
    "print(numbers.index(1, 3, 10))\n"
   ]
  },
  {
   "cell_type": "markdown",
   "metadata": {},
   "source": [
    "### .copy( )\n",
    "\n",
    "Retorna uma cópia superficial da lista."
   ]
  },
  {
   "cell_type": "code",
   "execution_count": 23,
   "metadata": {},
   "outputs": [
    {
     "name": "stdout",
     "output_type": "stream",
     "text": [
      "[1, 2, 1, 1, 1, 1, 4, 5, 6, 7, 8, 8, 8]\n",
      "[1, 2, 1, 1, 1, 1, 4, 5, 6, 7, 8, 8, 8, 'oi']\n"
     ]
    }
   ],
   "source": [
    "numbers: list[int] = [1, 2, 1, 1, 1, 1, 4, 5, 6, 7, 8, 8, 8]\n",
    "\n",
    "number_02 = numbers.copy()\n",
    "\n",
    "print(number_02)\n",
    "\n",
    "number_02.append('oi')\n",
    "\n",
    "print(number_02)"
   ]
  },
  {
   "cell_type": "markdown",
   "metadata": {},
   "source": [
    "---"
   ]
  }
 ],
 "metadata": {
  "kernelspec": {
   "display_name": "Python 3",
   "language": "python",
   "name": "python3"
  },
  "language_info": {
   "codemirror_mode": {
    "name": "ipython",
    "version": 3
   },
   "file_extension": ".py",
   "mimetype": "text/x-python",
   "name": "python",
   "nbconvert_exporter": "python",
   "pygments_lexer": "ipython3",
   "version": "3.13.2"
  }
 },
 "nbformat": 4,
 "nbformat_minor": 2
}
