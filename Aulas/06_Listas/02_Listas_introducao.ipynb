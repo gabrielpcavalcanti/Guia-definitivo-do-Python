{
 "cells": [
  {
   "cell_type": "markdown",
   "metadata": {},
   "source": [
    "# Listas"
   ]
  },
  {
   "cell_type": "markdown",
   "metadata": {},
   "source": [
    "Listas é um dos tipos de dados mais versáteis e interessantes de se trabalhar no Python. Ela pode não ser a melhor na questão de velocidade (outras bibliotecas criam algorítimos melhores), mas tirando esse pequeno fato, entender bem como funciona e seus métodos vai trazer a você uma flexibilidade gigante na hora de escrever código. \n",
    "\n",
    "Elas são dinâmicas/mutáveis, ou seja, não possuiem tamanho, é possível acrecentar, retirar, mudar qualquer elemento de uma lista e não possui tipo fixo, podemos colocar qualqur outro tipo de dado, inclusive outras listas dentro de uma lista ou dados repetidos. Para organozação é melhor colocar um tipo só, mas o Python não o limita. \n",
    "\n",
    "Em outras linguagems de programação as listas são chamadas de vetores ou matrizes. Elas realmente lembram essas estruturas matemáticas, mesmo que não seja.'"
   ]
  },
  {
   "cell_type": "markdown",
   "metadata": {},
   "source": [
    "## Criar uma lista\n",
    "\n",
    "Para o Python identificar que o objeto ou a variável é um lista, utilizamos os colchetes [ ]. Dentro deles se coloca os valores separedos com vírgulas. "
   ]
  },
  {
   "cell_type": "code",
   "execution_count": 1,
   "metadata": {},
   "outputs": [],
   "source": [
    "vowels: list[str] = ['a', 'e', 'i', 'o', 'u']\n",
    "interger_numbers: list[int] = [1, 2, 3, 4, 10, 10, 15, 45]\n",
    "logic: list[bool] = [True, False]\n",
    "aleatory_numbers: list[int | float] = [2, 42, 3.5, 10_000, 3.14]\n",
    "any_list: list[any] = [1, 1, 1, 3.67, True, [4, 5], 'apple']"
   ]
  },
  {
   "cell_type": "markdown",
   "metadata": {},
   "source": [
    "## Casting\n",
    "\n",
    "É possível fazer o casting com listas tmb, não são todos os dados."
   ]
  },
  {
   "cell_type": "code",
   "execution_count": 2,
   "metadata": {},
   "outputs": [
    {
     "name": "stdout",
     "output_type": "stream",
     "text": [
      "['t', 'e', 's', 't', 'e']\n",
      "[1, 2, 3]\n",
      "['a', 'b']\n",
      "[10, 20, 30]\n",
      "[0, 1, 2, 3, 4]\n"
     ]
    }
   ],
   "source": [
    "string_01: str = \"teste\"\n",
    "tupla: tuple = (1, 2, 3)\n",
    "dict_01: dict = {'a': 1, 'b': 2}\n",
    "conjunto: set = {10, 20, 30}\n",
    "range: range = range(5)\n",
    "\n",
    "print(list(string_01))\n",
    "print(list(tupla))\n",
    "print(list(dict_01))\n",
    "print(list(conjunto))\n",
    "print(list(range))\n"
   ]
  },
  {
   "cell_type": "markdown",
   "metadata": {},
   "source": [
    "## Slicing\n",
    "\n",
    "Podemos fazer os slicing de listas da mesma forma que fazemos com as Strings. Aqui cada elemento tem um índice, começando o 0."
   ]
  },
  {
   "cell_type": "code",
   "execution_count": 3,
   "metadata": {},
   "outputs": [
    {
     "name": "stdout",
     "output_type": "stream",
     "text": [
      "i\n",
      "u\n",
      "[1, 3.67, True]\n",
      "['u', 'o', 'i', 'e', 'a']\n",
      "5\n",
      "[True, [4, 5]]\n"
     ]
    }
   ],
   "source": [
    "vowels: list[str] = ['a', 'e', 'i', 'o', 'u']\n",
    "any_list: list[any] = [1 , 3.67, True, [4, 5], 'apple']\n",
    "\n",
    "print(vowels[2])\n",
    "print(vowels[-1])\n",
    "print(any_list[0:3])\n",
    "print(vowels[::-1])\n",
    "print(any_list[3][1])\n",
    "print(any_list[2:4])\n"
   ]
  },
  {
   "cell_type": "markdown",
   "metadata": {},
   "source": [
    "## Mudar valores de uma lista\n",
    "\n",
    "Podemos mudar elementos de uma lista simplesmente acessando o seu elemento e atribuindo outro valor de qualquer tipo que seja."
   ]
  },
  {
   "cell_type": "code",
   "execution_count": 4,
   "metadata": {},
   "outputs": [
    {
     "name": "stdout",
     "output_type": "stream",
     "text": [
      "[1, 2, 3, 'toquei', 5]\n"
     ]
    }
   ],
   "source": [
    "list_01: list[int] = [1, 2, 3, 4, 5]\n",
    "\n",
    "list_01[3] = 'toquei'\n",
    "\n",
    "print(list_01)"
   ]
  },
  {
   "cell_type": "markdown",
   "metadata": {},
   "source": [
    "## Desempacotando listas\n",
    "\n",
    "Podemos desempacotar, ou seja, atribuir variáveis a cada valor da lista. A quantida de variáveis tem que ser a mesma da lista."
   ]
  },
  {
   "cell_type": "code",
   "execution_count": 5,
   "metadata": {},
   "outputs": [
    {
     "name": "stdout",
     "output_type": "stream",
     "text": [
      "Gabriel\n",
      "Sofia\n",
      "Larissa\n"
     ]
    }
   ],
   "source": [
    "names: list[str] = ['Gabriel', 'Sofia', 'Larissa']\n",
    "\n",
    "name_01, name_02, name_03 = names\n",
    "\n",
    "print(name_01)\n",
    "print(name_02)\n",
    "print(name_03)\n"
   ]
  },
  {
   "cell_type": "markdown",
   "metadata": {},
   "source": [
    "## Operações com listas\n",
    "\n",
    "É possível \"somar\" e \"multiplicar listas utilizando os operadores + e *, respectivamente. Não recomendo que faça isso, existem métodos que fazem o mesmo e que tornam a forma principal no Python."
   ]
  },
  {
   "cell_type": "code",
   "execution_count": 6,
   "metadata": {},
   "outputs": [
    {
     "name": "stdout",
     "output_type": "stream",
     "text": [
      "['oi ', 'tudo ', 'bem']\n",
      "['oi ', 'tudo ', 'bem', 'oi ', 'tudo ', 'bem', 'oi ', 'tudo ', 'bem', 'oi ', 'tudo ', 'bem']\n"
     ]
    }
   ],
   "source": [
    "list_01: list[str] = ['oi ', 'tudo ']\n",
    "list_02: list[str] = ['bem']\n",
    "\n",
    "list_03 = list_01 + list_02\n",
    "\n",
    "print(list_03)\n",
    "\n",
    "print(list_03 * 4)\n"
   ]
  },
  {
   "cell_type": "markdown",
   "metadata": {},
   "source": [
    "---"
   ]
  }
 ],
 "metadata": {
  "kernelspec": {
   "display_name": "Python 3",
   "language": "python",
   "name": "python3"
  },
  "language_info": {
   "codemirror_mode": {
    "name": "ipython",
    "version": 3
   },
   "file_extension": ".py",
   "mimetype": "text/x-python",
   "name": "python",
   "nbconvert_exporter": "python",
   "pygments_lexer": "ipython3",
   "version": "3.13.2"
  }
 },
 "nbformat": 4,
 "nbformat_minor": 2
}
