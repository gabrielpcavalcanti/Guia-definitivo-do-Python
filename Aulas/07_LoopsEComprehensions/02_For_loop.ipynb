{
 "cells": [
  {
   "cell_type": "markdown",
   "id": "3f245d1f",
   "metadata": {},
   "source": [
    "# Loop for"
   ]
  },
  {
   "cell_type": "markdown",
   "id": "b94a2a6e",
   "metadata": {},
   "source": [
    "O for funciona com o que chamamos de iteravel, isto é, um objeto que é possível repetir ações com ele. Já foram citados alguns iteráveis e hoje terá mais um - range( ).\n",
    "\n",
    "O for funciona da seguinte maneira: definimos uma variável temporária que irá iterar sobre um iteravel e em seguida um bloco de comando que pode executar qualquer coisa enquanto a variavel estiver iterando. Assim que todos os elementos do iteravel acabarem, o programa vai para a proxima linha (fora do loop) e continua o programa."
   ]
  },
  {
   "cell_type": "markdown",
   "id": "43152c50",
   "metadata": {},
   "source": [
    "## Iterando com Strings\n",
    "\n",
    "É o único iterável que poderia ser falado antes de ver as coleções (preferi deixar tudo junto). O for irá funcionar até todas os caractéres da Strings forem utilizados. Não necessáriamente algum caracter da String tem que ser utilizado no bloco de comando, mas sem fazer isso, não faz sentido utilizar Strings como iterador."
   ]
  },
  {
   "cell_type": "code",
   "execution_count": 6,
   "id": "1ae75109",
   "metadata": {},
   "outputs": [
    {
     "name": "stdout",
     "output_type": "stream",
     "text": [
      "G-a-b-r-i-e-l-"
     ]
    }
   ],
   "source": [
    "name: str = \"Gabriel\"\n",
    "\n",
    "for letra in name:\n",
    "    print(letra, end='-', sep='')"
   ]
  },
  {
   "cell_type": "markdown",
   "id": "812be105",
   "metadata": {},
   "source": [
    "a variável letra vai receber, a cada vez, uma letra da variável nome (que é o interavel, neste caso) e imprimi-lo. Quando o bloco de comando acabar, a variável letra pegarar a proxima letra de nome e imprimirar novamente até que todas as letras de nome estiverem sido \"cobertas\". \n",
    "\n",
    "Obs: Podemos definir qualquer nome para a variável. É comum utilizar a letra i para essa função, mas se quiser ser mais específico utilize o nome adequado. Sempre será utilizada um núme no singular que remeta o conteúdo do iterável."
   ]
  },
  {
   "cell_type": "code",
   "execution_count": 7,
   "id": "d8184ee8",
   "metadata": {},
   "outputs": [
    {
     "name": "stdout",
     "output_type": "stream",
     "text": [
      "Oi\n",
      "Oi\n",
      "Oi\n",
      "Oi\n",
      "Oi\n",
      "Oi\n",
      "Oi\n"
     ]
    }
   ],
   "source": [
    "name: str = \"Gabriel\"\n",
    "\n",
    "for letra in name:\n",
    "    print(\"Oi\")"
   ]
  },
  {
   "cell_type": "markdown",
   "id": "ddf4dc3d",
   "metadata": {},
   "source": [
    "É um programa bem simples, mas perceba que so degundo programa a String só foi utilizada como iterador, nada teve haver com o bloco de comando."
   ]
  },
  {
   "cell_type": "markdown",
   "id": "5194f715",
   "metadata": {},
   "source": [
    "## Função range( )"
   ]
  },
  {
   "cell_type": "markdown",
   "id": "0340156a",
   "metadata": {},
   "source": [
    "Retorna um objeto que produz uma sequência de inteiros. É um iterador que é utilizado em conjunto com os loops. Ele possui três parâmetros principais, o start, stop e step. \n",
    "\n",
    "Se o só start for incuso, ele iniciará no 0 e terminará no número indicado - 1.\n",
    "\n",
    "Se o start e stop forem inclusos, começara no número do start e terminára no número do stop - 1.\n",
    "\n",
    "Se o step foi incluso, mesma padrão, mas agora com o pulo entre as interiros definidos.\n",
    "\n",
    "O processo é identico ao Slicing de Strings e coleções que permitem slicing.\n"
   ]
  },
  {
   "cell_type": "code",
   "execution_count": 14,
   "id": "db6edd7e",
   "metadata": {},
   "outputs": [
    {
     "name": "stdout",
     "output_type": "stream",
     "text": [
      "0 1 2 3 4 5 6 7 8 9 10 "
     ]
    }
   ],
   "source": [
    "for i in range(11):\n",
    "    print(i, end=' ')"
   ]
  },
  {
   "cell_type": "code",
   "execution_count": 16,
   "id": "cd330e25",
   "metadata": {},
   "outputs": [
    {
     "name": "stdout",
     "output_type": "stream",
     "text": [
      "10 11 12 13 14 15 16 17 18 19 "
     ]
    }
   ],
   "source": [
    "for i in range(10, 20):\n",
    "    print(i, end=' ')"
   ]
  },
  {
   "cell_type": "code",
   "execution_count": 18,
   "id": "ce42212b",
   "metadata": {},
   "outputs": [
    {
     "name": "stdout",
     "output_type": "stream",
     "text": [
      "0 2 4 6 8 10 12 14 16 18 20 "
     ]
    }
   ],
   "source": [
    "for i in range(0, 22, 2):\n",
    "    print(i, end=' ')"
   ]
  },
  {
   "cell_type": "code",
   "execution_count": 20,
   "id": "4ec18471",
   "metadata": {},
   "outputs": [
    {
     "name": "stdout",
     "output_type": "stream",
     "text": [
      "15 12 9 6 3 "
     ]
    }
   ],
   "source": [
    "for i in range(15, 0, -3):\n",
    "    print(i, end=' ')"
   ]
  },
  {
   "cell_type": "markdown",
   "id": "d51df56a",
   "metadata": {},
   "source": [
    "---"
   ]
  }
 ],
 "metadata": {
  "kernelspec": {
   "display_name": "Python 3",
   "language": "python",
   "name": "python3"
  },
  "language_info": {
   "codemirror_mode": {
    "name": "ipython",
    "version": 3
   },
   "file_extension": ".py",
   "mimetype": "text/x-python",
   "name": "python",
   "nbconvert_exporter": "python",
   "pygments_lexer": "ipython3",
   "version": "3.13.2"
  }
 },
 "nbformat": 4,
 "nbformat_minor": 5
}
