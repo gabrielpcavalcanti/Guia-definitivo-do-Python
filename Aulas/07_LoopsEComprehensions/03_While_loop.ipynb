{
 "cells": [
  {
   "cell_type": "markdown",
   "id": "946bcbcc",
   "metadata": {},
   "source": [
    "# loop while "
   ]
  },
  {
   "cell_type": "markdown",
   "id": "5ecaf460",
   "metadata": {},
   "source": [
    "É o segundo tipo de loop do Python. Funciona um pouco diferente do for. Ele não itera sobre um iterável, mas sim continua rodando o bloco de comando até que uma certa condição se torne falsa. Caso a condição nunca se torne falsa, o loop será infinito. Dependendo do caso, isso pode ser um problema ou não."
   ]
  },
  {
   "cell_type": "code",
   "execution_count": 4,
   "id": "0fa40227",
   "metadata": {},
   "outputs": [
    {
     "name": "stdout",
     "output_type": "stream",
     "text": [
      "oi oi oi oi oi oi oi oi oi oi oi "
     ]
    }
   ],
   "source": [
    "num = 0\n",
    "\n",
    "while num <= 10:\n",
    "\n",
    "    print(\"oi\", end=' ')\n",
    "    num += 1"
   ]
  },
  {
   "cell_type": "code",
   "execution_count": null,
   "id": "43791fbf",
   "metadata": {},
   "outputs": [],
   "source": [
    "while True:\n",
    "\n",
    "    print(\"Oi\", end=' ')"
   ]
  },
  {
   "cell_type": "markdown",
   "id": "064bf218",
   "metadata": {},
   "source": [
    "## Break e continue\n",
    "\n",
    "É preciso que haja uma maneira de parar o programa durante um loop infinito ou que ele continue após uma condição seja comprida. Para isso que serve o break e o continue. São palavras reservadas do Python que fazem essa função."
   ]
  },
  {
   "cell_type": "code",
   "execution_count": 7,
   "id": "30ef4d75",
   "metadata": {},
   "outputs": [
    {
     "name": "stdout",
     "output_type": "stream",
     "text": [
      "O valor é válido e vale: 5\n",
      "\n"
     ]
    }
   ],
   "source": [
    "while True:\n",
    "    nota =int(input(\"Digite uma nota de 0 a 10: \"))\n",
    "\n",
    "    if nota < 0 or nota > 10:\n",
    "        continue\n",
    "    else:\n",
    "        print(\"O valor é válido e vale:\", nota)\n",
    "        break\n",
    "\n",
    "print()\n"
   ]
  },
  {
   "cell_type": "markdown",
   "id": "2ea3dab7",
   "metadata": {},
   "source": [
    "---"
   ]
  }
 ],
 "metadata": {
  "kernelspec": {
   "display_name": "Python 3",
   "language": "python",
   "name": "python3"
  },
  "language_info": {
   "codemirror_mode": {
    "name": "ipython",
    "version": 3
   },
   "file_extension": ".py",
   "mimetype": "text/x-python",
   "name": "python",
   "nbconvert_exporter": "python",
   "pygments_lexer": "ipython3",
   "version": "3.13.2"
  }
 },
 "nbformat": 4,
 "nbformat_minor": 5
}
