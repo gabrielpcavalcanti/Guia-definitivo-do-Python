{
 "cells": [
  {
   "cell_type": "markdown",
   "id": "a1270b1a",
   "metadata": {},
   "source": [
    "## Zip e enumerate"
   ]
  }
 ],
 "metadata": {
  "language_info": {
   "name": "python"
  }
 },
 "nbformat": 4,
 "nbformat_minor": 5
}
