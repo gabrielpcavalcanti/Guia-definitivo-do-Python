{
 "cells": [
  {
   "cell_type": "markdown",
   "id": "93926017",
   "metadata": {},
   "source": [
    "# Iterando com map and filter\n",
    "\n",
    "map e filter são duas funções muito úteis que podem ser utilizadas com iteraveis. O que acorre em muitos cursos de Python na internet é colocar essas funções como um tópico avançado, o mesmo com comprehensions. prefiro tratar isso esses assuntos agora porque são muito poderosas e é a forma Pythtônica. \n",
    "\n",
    "Aprender agora será muito útil. Melhor do que aprender a fazer de uma forma pior, se acustumar com ela e depois aprender map, filter, enumerate, zip e comprehendions e ter que se reacostumar. "
   ]
  },
  {
   "cell_type": "markdown",
   "id": "60252709",
   "metadata": {
    "vscode": {
     "languageId": "plaintext"
    }
   },
   "source": [
    "## expressões lambda\n",
    "\n",
    "Antes de começar a aprender map e filter é preciso entender como funciona as expressões lambdas. Elas serão melhor explicadas depois das funções, mas será explicada de forma prática aqui.\n",
    "\n",
    "Expressões lambdas são funções sem nome. O uso dela como uma função própia não é muito útil e quase não se usa, mas elas servem para coletar dados em argumentos específicos dentro de funções. É isso que será utilizada dentro do map e do filter.\n",
    "\n",
    "A sintaxe das expressões lambda é mostrado a baixo.\n"
   ]
  },
  {
   "cell_type": "code",
   "execution_count": 1,
   "id": "4a42889e",
   "metadata": {},
   "outputs": [],
   "source": [
    "words: list[str] = [\"banana\", \"apple\", \"kiwi\", \"blueberry\"]\n",
    "sorted_words: list[str] = sorted(words, key=lambda word: len(word))"
   ]
  },
  {
   "cell_type": "markdown",
   "id": "a9bd78d1",
   "metadata": {},
   "source": [
    "Dentro do parâmetro key da função sorted o lambda é utilizado. Nele temos a palavra \"lambda\", uma variável com nome qualquer (melhor que seja clara), word. Depois dos :, o que é quero que o lambda retorne com o uso da variável word, no caso, o tamanho da String."
   ]
  },
  {
   "cell_type": "markdown",
   "id": "5dcd2602",
   "metadata": {},
   "source": [
    "## map( )\n",
    "\n",
    "map é uma função do Python que facilita nossa vida de uma forma bem interessante. Cria um objeto contendo todos os valores retornados de uma função ou de uma expressão lambda e que pode ser utilizado apenas uma vez, antes do conteúdo presente seja deletado, ajundando no gerenciamento de memória. \n",
    "\n",
    "O único \"defeito\" é que só é possível utilizar o map para funções e lambdas que contenham um parâmetro. \n",
    "\n",
    "A função Map recebe dois argumentos: uma função ou lambda e um iterável. O iterável será o parâmetro da função ou do lambda. O map vai criar um objeto que pode ser transformado em qualquer outro tipo de dado, mas geralmente utilizamos listas ou truplas. Se não for transformado, ele cria um map object."
   ]
  },
  {
   "cell_type": "code",
   "execution_count": 2,
   "id": "83a3135a",
   "metadata": {},
   "outputs": [
    {
     "name": "stdout",
     "output_type": "stream",
     "text": [
      "[1, 4, 9, 16, 25, 36, 49, 64, 81, 100]\n"
     ]
    }
   ],
   "source": [
    "numbers: list[int] = [1, 2, 3, 4, 5, 6, 7, 8, 9, 10]\n",
    "\n",
    "square_numbers: list[int] = list(map(lambda num: num ** 2, numbers))\n",
    "\n",
    "print(square_numbers)\n"
   ]
  },
  {
   "cell_type": "markdown",
   "id": "6450545a",
   "metadata": {},
   "source": [
    "Cada número da lista funciona como parâmetro dentro da função. O map percorre todos os valores e retorna um objeto que será transformado por uma lista."
   ]
  },
  {
   "cell_type": "markdown",
   "id": "28a4048d",
   "metadata": {},
   "source": [
    "É para ter cuidado para não deletar o conteúdo do map, ele vai deletar automaticamente, então tem que saber a hora de utililzar o conteúdo dele."
   ]
  },
  {
   "cell_type": "code",
   "execution_count": 9,
   "id": "a4abcf3c",
   "metadata": {},
   "outputs": [
    {
     "name": "stdout",
     "output_type": "stream",
     "text": [
      "[1, 8, 27, 64, 125, 216, 343, 512, 729, 1000]\n",
      "[]\n"
     ]
    }
   ],
   "source": [
    "numbers: list[int] = [1, 2, 3, 4, 5, 6, 7, 8, 9, 10]\n",
    "\n",
    "cube_numbers = map(lambda num: num ** 3, numbers)\n",
    "\n",
    "print(list(cube_numbers))\n",
    "print(list(cube_numbers))\n"
   ]
  },
  {
   "cell_type": "markdown",
   "id": "f376cea9",
   "metadata": {},
   "source": [
    "Caso dentro da variável já seja utilizado o casting para transformar em uma lista, o conteúdo não é perdido."
   ]
  },
  {
   "cell_type": "code",
   "execution_count": 10,
   "id": "6c40f504",
   "metadata": {},
   "outputs": [
    {
     "name": "stdout",
     "output_type": "stream",
     "text": [
      "[1, 8, 27, 64, 125, 216, 343, 512, 729, 1000]\n",
      "[1, 8, 27, 64, 125, 216, 343, 512, 729, 1000]\n"
     ]
    }
   ],
   "source": [
    "numbers: list[int] = [1, 2, 3, 4, 5, 6, 7, 8, 9, 10]\n",
    "\n",
    "cube_numbers: list[int] = list(map(lambda num: num ** 3, numbers))\n",
    "\n",
    "print(cube_numbers)\n",
    "print(cube_numbers)\n"
   ]
  },
  {
   "cell_type": "markdown",
   "id": "1f65ab44",
   "metadata": {},
   "source": [
    "## Filter( )\n",
    "\n",
    "O filter server para filtrar dados de uma coleção. Criamos uma condição (será o filtro) e a função criará um objeto contendo todos os valores que passaram pelo filtro.\n",
    "Tem uma \"cara\" muito similar com o map, ambos possuem dois argumentos, funcionam apenas com funções de um parâmetro, e seu conteúdo é deletado após uma utilização."
   ]
  },
  {
   "cell_type": "code",
   "execution_count": 12,
   "id": "5f8ad977",
   "metadata": {},
   "outputs": [
    {
     "name": "stdout",
     "output_type": "stream",
     "text": [
      "[27, 64, 125, 216, 343, 512, 729, 1000]\n",
      "[1, 8]\n"
     ]
    }
   ],
   "source": [
    "numbers: list[int] = [1, 8, 27, 64, 125, 216, 343, 512, 729, 1000]\n",
    "\n",
    "valores_maiores_que_10: list[int] = list(filter(lambda valor: valor > 10, numbers))\n",
    "valores_menores_que_10: list[int] = list(filter(lambda valor: valor < 10, numbers))\n",
    "\n",
    "print(valores_maiores_que_10)\n",
    "print(valores_menores_que_10)"
   ]
  },
  {
   "cell_type": "markdown",
   "id": "9b68cb4f",
   "metadata": {},
   "source": [
    "Tem uma aplicação bastante interessante com o filter. Em vez de utilizamos um parâmetro, podemos utilizar o None com o objetivo de fiiltrar dados nulos dentro de uma lista.\n"
   ]
  },
  {
   "cell_type": "code",
   "execution_count": 13,
   "id": "86f1adfa",
   "metadata": {},
   "outputs": [
    {
     "name": "stdout",
     "output_type": "stream",
     "text": [
      "['oi', 'tudo bem', 'como vai', 'arroz']\n"
     ]
    }
   ],
   "source": [
    "lista = ['oi', 'tudo bem', '', 'como vai', '', '', 'arroz']\n",
    "\n",
    "lista_update = list(filter(None, lista))\n",
    "\n",
    "print(lista_update)"
   ]
  },
  {
   "cell_type": "markdown",
   "id": "fb686126",
   "metadata": {},
   "source": [
    "---"
   ]
  }
 ],
 "metadata": {
  "kernelspec": {
   "display_name": "Python 3",
   "language": "python",
   "name": "python3"
  },
  "language_info": {
   "codemirror_mode": {
    "name": "ipython",
    "version": 3
   },
   "file_extension": ".py",
   "mimetype": "text/x-python",
   "name": "python",
   "nbconvert_exporter": "python",
   "pygments_lexer": "ipython3",
   "version": "3.13.2"
  }
 },
 "nbformat": 4,
 "nbformat_minor": 5
}
