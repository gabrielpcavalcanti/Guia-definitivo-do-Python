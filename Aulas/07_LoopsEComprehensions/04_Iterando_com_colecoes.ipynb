{
 "cells": [
  {
   "cell_type": "markdown",
   "id": "245d92eb",
   "metadata": {},
   "source": [
    "# Iterando com coleções"
   ]
  },
  {
   "cell_type": "markdown",
   "id": "13b4c73e",
   "metadata": {},
   "source": [
    "Os loops começam a ficar ainda mais interessantes quando adicinamos as coleções (listas, truplas, dicionários e sets). Elas também são iteráveis, mas muito mais simples de entender como funciona dentro de um loop.\n",
    "\n",
    "Até agora você só aprender a criar e utilizar os métodos que cada um das coleções possuem. Quando combinado com os loops, as possibilidades aumentam muito e facilitam o tranalho dentro da programação.\n",
    "\n",
    "Vá para a aula 04_Bons_habitos_no_python que lá tem várias dicas de como utilizar melhor o uso dos loops com as coleções."
   ]
  },
  {
   "cell_type": "markdown",
   "id": "c17fa747",
   "metadata": {},
   "source": [
    "## Iterações com listas\n",
    "\n",
    "O objetivo é fazer iterações em cima de uma lista. Esse processo facilita muitas operações e é até um pouco vicioso, ou seja, muitos dos problemas que poderiam ser resolvidos de outra forma, você só resolve dessa maneira.\n",
    "\n",
    "Trabalhar com listas é muito simples e rápido de implementar. Bibliotecas externas podem fazer coleções que sejam mais eficiêntes e rápidas, mas as lista do Python extremamente úteis."
   ]
  },
  {
   "cell_type": "markdown",
   "id": "34ae252e",
   "metadata": {},
   "source": [
    "### Iterando sobre uma lista\n",
    "\n",
    "A maneira mais simples de utilizar as listas dentro de um loop é simplismente colocar ela na posição de iterável e para cada vez que o loop começa um elemento da lista será utilizado dentro do bloco de comando. Isso acontece até que todos os elementos da lista sejam percorridos."
   ]
  },
  {
   "cell_type": "code",
   "execution_count": null,
   "id": "08a9e163",
   "metadata": {},
   "outputs": [
    {
     "name": "stdout",
     "output_type": "stream",
     "text": [
      "[1, 4, 9, 16, 25, 36, 49, 64, 81, 100]\n"
     ]
    }
   ],
   "source": [
    "lista_num: list[int] = [1, 2, 3, 4, 5, 6, 7, 8, 9, 10]\n",
    "new_list: list = []\n",
    "\n",
    "for num in lista_num:\n",
    "    \n",
    "    new_list.append(num ** 2)\n",
    "\n",
    "print(new_list)\n"
   ]
  },
  {
   "cell_type": "markdown",
   "id": "23c88794",
   "metadata": {},
   "source": [
    "### Utilizando índice da lista\n",
    "\n",
    "Algumas vezes é preciso utilizar o índice da lista para algum processo dentro do loop. A melhor maneira de acessar o índice de uma lista no Python é pela função enumerate( ). Falar melhor dela em outra aula, mas já vá se acustumando com ela.\n",
    "\n",
    "Ela retorna tanto o valor quando o índice da lista que está sendo iterada. É muito útil."
   ]
  },
  {
   "cell_type": "code",
   "execution_count": 6,
   "id": "18bf838d",
   "metadata": {},
   "outputs": [
    {
     "name": "stdout",
     "output_type": "stream",
     "text": [
      "0: Apple\n",
      "1: Banana\n",
      "2: Grapes\n",
      "3: Orange\n",
      "4: Bluebarry\n"
     ]
    }
   ],
   "source": [
    "fruits: list[str] = ['apple', 'banana', 'grapes', 'orange', 'bluebarry']\n",
    "\n",
    "for index, value in enumerate(fruits):\n",
    "\n",
    "    print(f'{index}: {value.title()}')\n"
   ]
  },
  {
   "cell_type": "markdown",
   "id": "2997700e",
   "metadata": {},
   "source": [
    "## Iterações com truplas e sets\n",
    "\n",
    "Funciona da mesma forma que as listas."
   ]
  },
  {
   "cell_type": "markdown",
   "id": "280cd913",
   "metadata": {},
   "source": [
    "## Iteração com dicionários\n",
    "\n",
    "Dicionários são um tipo de dados mais complexo que listas e truplas, são um pouco mais complicados de manipular, mas nada de mais. Para cada situação tem uma maneira melhor de abordar o problema.\n",
    "\n",
    "Por padrão, os dicionários iteram com as chaves, então não precisa identificar isso no iterador."
   ]
  },
  {
   "cell_type": "code",
   "execution_count": 7,
   "id": "c10ecf55",
   "metadata": {},
   "outputs": [
    {
     "name": "stdout",
     "output_type": "stream",
     "text": [
      "name\n",
      "city\n",
      "profession\n"
     ]
    }
   ],
   "source": [
    "person_info: dict[str, str] = {\n",
    "    'name': 'Alice',\n",
    "    'city': 'New York',\n",
    "    'profession': 'Engineer'\n",
    "}\n",
    "\n",
    "for information in person_info:\n",
    "\n",
    "    print(information)\n"
   ]
  },
  {
   "cell_type": "markdown",
   "id": "4e218465",
   "metadata": {},
   "source": [
    "Se quiser os valores e não as chaves, utilize o método values( )."
   ]
  },
  {
   "cell_type": "code",
   "execution_count": 8,
   "id": "c68a0c1f",
   "metadata": {},
   "outputs": [
    {
     "name": "stdout",
     "output_type": "stream",
     "text": [
      "Alice\n",
      "New York\n",
      "Engineer\n"
     ]
    }
   ],
   "source": [
    "person_info: dict[str, str] = {\n",
    "    'name': 'Alice',\n",
    "    'city': 'New York',\n",
    "    'profession': 'Engineer'\n",
    "}\n",
    "\n",
    "for information in person_info.values():\n",
    "\n",
    "    print(information)"
   ]
  },
  {
   "cell_type": "markdown",
   "id": "cd4d9d99",
   "metadata": {},
   "source": [
    "É possível utilizar um método semelhante a função enumerate que é o items( ). Ele \"coleta\" tanto o o valor da chave quando do valor."
   ]
  },
  {
   "cell_type": "code",
   "execution_count": 11,
   "id": "9c811a72",
   "metadata": {},
   "outputs": [
    {
     "name": "stdout",
     "output_type": "stream",
     "text": [
      "a: 3\n",
      "b: 6\n",
      "c: 9\n"
     ]
    }
   ],
   "source": [
    "dictionary: dict[str, int] = {\"a\": 1, \"b\": 2, \"c\": 3}\n",
    "\n",
    "for key, value in dictionary.items():\n",
    "    \n",
    "    print(f'{key}: {value * 3}')"
   ]
  },
  {
   "cell_type": "markdown",
   "id": "3d8041cf",
   "metadata": {},
   "source": [
    "---"
   ]
  }
 ],
 "metadata": {
  "kernelspec": {
   "display_name": "Python 3",
   "language": "python",
   "name": "python3"
  },
  "language_info": {
   "codemirror_mode": {
    "name": "ipython",
    "version": 3
   },
   "file_extension": ".py",
   "mimetype": "text/x-python",
   "name": "python",
   "nbconvert_exporter": "python",
   "pygments_lexer": "ipython3",
   "version": "3.13.2"
  }
 },
 "nbformat": 4,
 "nbformat_minor": 5
}
