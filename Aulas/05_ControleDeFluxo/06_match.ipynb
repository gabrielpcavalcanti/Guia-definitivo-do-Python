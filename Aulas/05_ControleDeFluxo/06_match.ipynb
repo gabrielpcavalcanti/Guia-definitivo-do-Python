{
 "cells": [
  {
   "cell_type": "markdown",
   "metadata": {},
   "source": [
    "# Match"
   ]
  },
  {
   "cell_type": "markdown",
   "metadata": {},
   "source": [
    "É uma estrutura condicional mais recente na linguagem Python, apenas a partir da versão 3.10 que ela foi implementada.\n",
    "\n",
    "É um tipo de estrutura condicional idêntica ao Switch (caso tenha ouvido falar), que existe em outras linguagens de programação como C e no Java. Aqui no Python é chamada\n",
    "de Match. \n",
    "\n",
    "Funciona da seguinte forma, vc tem uma variável que pode receber diversos valores e quer ver o que acontece caso o valor seja igual a um ou \n",
    "igual a outro, por meio de casos."
   ]
  },
  {
   "cell_type": "code",
   "execution_count": 1,
   "metadata": {},
   "outputs": [
    {
     "name": "stdout",
     "output_type": "stream",
     "text": [
      "Gryffindor.\n"
     ]
    }
   ],
   "source": [
    "name = input(\"What's your name? \")\n",
    "\n",
    "match name:\n",
    "\n",
    "    case \"Harry\" | \"Hermione\" | \"Ron\": \n",
    "        print(\"Gryffindor.\")\n",
    "\n",
    "    case \"Draco\":\n",
    "        print(\"Slytherin.\")\n",
    "\n",
    "    case _:\n",
    "        print(\"Who?\")\n"
   ]
  },
  {
   "cell_type": "markdown",
   "metadata": {},
   "source": [
    "\n",
    "\n",
    "No programa acima, a variável name pode recebe um nome e esse nome está em três diferentes casos, exemplificado pela palavra reservada case. Perceba que funciona com a mesma lógica do if else, somente outra forma de escrever.\n"
   ]
  },
  {
   "cell_type": "markdown",
   "metadata": {},
   "source": [
    "---"
   ]
  }
 ],
 "metadata": {
  "kernelspec": {
   "display_name": "Python 3",
   "language": "python",
   "name": "python3"
  },
  "language_info": {
   "codemirror_mode": {
    "name": "ipython",
    "version": 3
   },
   "file_extension": ".py",
   "mimetype": "text/x-python",
   "name": "python",
   "nbconvert_exporter": "python",
   "pygments_lexer": "ipython3",
   "version": "3.13.2"
  }
 },
 "nbformat": 4,
 "nbformat_minor": 2
}
