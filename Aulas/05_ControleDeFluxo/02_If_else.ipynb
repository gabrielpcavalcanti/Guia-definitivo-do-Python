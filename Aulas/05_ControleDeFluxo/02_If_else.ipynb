{
 "cells": [
  {
   "cell_type": "markdown",
   "metadata": {},
   "source": [
    "# if-else "
   ]
  },
  {
   "cell_type": "markdown",
   "metadata": {},
   "source": [
    "São as duas primeiras estruturas condicionais, praticamente toda linguaguem de programação possui (a sintaxe muda, mas o princípio é o mesmo). \n",
    "\n",
    "## if\n",
    "\n",
    "O if funciona da seguinte forma, caso uma condição seja satisfeita, execute o bloco de comando, caso não seja, siga em frente.\n",
    "\n",
    "utilizamos os operadores e variáveis para fazer uma condição. Cada uma delas tem um valor de verdade: ou é True ou é False. Se for verdadeiro, executa, se não, a instrução do bloco de comando do if é ignorado. \n",
    "\n",
    "Na próxima aula você verá os operadores relacionais e lógicos, ambos retornam um valor booleano. \n",
    "\n",
    "Esse valor de verdade pode mudar durante a execução do programa, por exemplo: a varivável muda de valor e agora a condição vira verdeira, o código é execultado ou vice-versa.\n",
    "\n",
    "Como funciona o comando: Coloca a palavra reservada if. Em seguida coloca a condição e os :."
   ]
  },
  {
   "cell_type": "code",
   "execution_count": 1,
   "metadata": {},
   "outputs": [
    {
     "name": "stdout",
     "output_type": "stream",
     "text": [
      "Você é maior de idade.\n",
      "Fim do programa.\n"
     ]
    }
   ],
   "source": [
    "age: int = 18\n",
    "\n",
    "if age >= 18:\n",
    "    print(\"Você é maior de idade.\")\n",
    "\n",
    "print(\"Fim do programa.\")"
   ]
  },
  {
   "cell_type": "markdown",
   "metadata": {},
   "source": [
    "Perceba que o comando print abaixo do if está com a identação, formando um bloco de comando. O outro não está, então será executado independente da condição ser satisfeita ou não."
   ]
  },
  {
   "cell_type": "markdown",
   "metadata": {},
   "source": [
    "## else\n",
    "\n",
    "O comando else é opicional toda vez que um comando if existe. Ele é utilizado caso a condição do if seja falsa e queremos que um outro bloco de comando seja executado logo após.\n",
    "\n",
    "O comamdo else sempre será o ultimo comando condicional e ele nunca tem um condição associada, somente o else. Além disso, o else não é obrigatótio, ou seja, caso nenhum dos testes passem e não queria que faça nada com o resultado obtido ou ainda que esses dados sejam inválidos, não coloque o comando else."
   ]
  },
  {
   "cell_type": "code",
   "execution_count": 2,
   "metadata": {},
   "outputs": [
    {
     "name": "stdout",
     "output_type": "stream",
     "text": [
      "Você tem menos de 18 anos de idade.\n",
      "Fim do programa.\n"
     ]
    }
   ],
   "source": [
    "age: int = 15\n",
    "\n",
    "if age >= 18:\n",
    "    print(\"Você é maior de idade.\")\n",
    "else:\n",
    "    print(\"Você tem menos de 18 anos de idade.\")\n",
    "\n",
    "print(\"Fim do programa.\")\n"
   ]
  },
  {
   "cell_type": "markdown",
   "metadata": {},
   "source": [
    "Perceba que tanto o if quanto o else estão no mesmo nível de identação, significa que o else pertence aquele comando if. Isso tem que ser levado em conta quando tivermos mais comandos anihados.\n",
    "\n",
    "Já para adiantar, como padrão aqui, não teremos estruturas aninhadas do mesmo tipo e vitaremos o else ao máximo."
   ]
  },
  {
   "cell_type": "markdown",
   "metadata": {},
   "source": [
    "---"
   ]
  }
 ],
 "metadata": {
  "kernelspec": {
   "display_name": "Python 3",
   "language": "python",
   "name": "python3"
  },
  "language_info": {
   "codemirror_mode": {
    "name": "ipython",
    "version": 3
   },
   "file_extension": ".py",
   "mimetype": "text/x-python",
   "name": "python",
   "nbconvert_exporter": "python",
   "pygments_lexer": "ipython3",
   "version": "3.13.2"
  }
 },
 "nbformat": 4,
 "nbformat_minor": 2
}
