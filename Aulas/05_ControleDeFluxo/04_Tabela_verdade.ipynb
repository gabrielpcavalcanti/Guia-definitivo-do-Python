{
 "cells": [
  {
   "cell_type": "markdown",
   "metadata": {},
   "source": [
    "# Tabela-verdade"
   ]
  },
  {
   "cell_type": "markdown",
   "metadata": {},
   "source": [
    "É importante saber o resultado da tabela-verdade possíveis no Python e a negação de estruturas."
   ]
  },
  {
   "cell_type": "markdown",
   "metadata": {},
   "source": [
    "### Operadores Lógicos\n",
    "| A     |B   | A and B | A or B | not A |\n",
    "|--------|---------|----------|---------|--------|\n",
    "| `True` | `True`  | `True`   | `True`  | `False` |\n",
    "| `True` | `False` | `False`  | `True`  | `False` |\n",
    "| `False`| `True`  | `False`  | `True`  | `True`  |\n",
    "| `False`| `False` | `False`  | `False` | `True`  |\n",
    "\n",
    "### Negações dos Operadores\n",
    "| A     | B     | not (A and B) | not (A or B) | not (not A) |\n",
    "|--------|---------|----------------|----------------|---------------|\n",
    "| `True` | `True`  | `False`        | `False`        | `True`        |\n",
    "| `True` | `False` | `True`         | `False`        | `True`        |\n",
    "| `False`| `True`  | `True`         | `False`        | `False`       |\n",
    "| `False`| `False` | `True`         | `True`         | `False`       |\n",
    "\n",
    "#### Observações\n",
    "- O operador `and` retorna `True` se **ambos** os valores forem verdadeiros.\n",
    "- O operador `or` retorna `True` se **pelo menos um** dos valores for verdadeiro.\n",
    "- O operador `not` inverte o valor lógico (transforma `True` em `False` e vice-versa).\n",
    "- As negações dos operadores podem ser obtidas com o uso de `not` na expressão.\n",
    "\n",
    "\n"
   ]
  },
  {
   "cell_type": "markdown",
   "metadata": {},
   "source": [
    "---"
   ]
  }
 ],
 "metadata": {
  "language_info": {
   "name": "python"
  }
 },
 "nbformat": 4,
 "nbformat_minor": 2
}
