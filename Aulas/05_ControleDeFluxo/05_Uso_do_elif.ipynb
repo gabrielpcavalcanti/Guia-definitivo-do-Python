{
 "cells": [
  {
   "cell_type": "markdown",
   "metadata": {},
   "source": [
    "# Uso do elif"
   ]
  },
  {
   "cell_type": "markdown",
   "metadata": {},
   "source": [
    "O elif é um comando que pode ser colocado entre o if e o else dentro de uma mesma identação. Traduzido para \"se não se\", ou seja, caso o if seja falso, veja a condição do elif, se for falsa vai para o outro elif (Se existir) e caso nenhum for verdade, vai para o else (caso exista, também).\n",
    "\n",
    "A condição elif é uma junção das duas outras. Ela serve para colocar várias condições antes de ter uma final, no caso o else. Podemos colocar vários if`s, mas não fica bem escrito e organizado, então evitaremos.\n",
    "\n",
    "Só utilize o elif se a condição ainda estiver de acordo com o if original, caso contrário, o programa pode interromper a verificação de condições e não funcionar adquadamente."
   ]
  },
  {
   "cell_type": "code",
   "execution_count": null,
   "metadata": {},
   "outputs": [
    {
     "name": "stdout",
     "output_type": "stream",
     "text": [
      "Idoso.\n"
     ]
    }
   ],
   "source": [
    "idade: int = 65\n",
    "\n",
    "if idade >= 18 and idade <= 60:\n",
    "    print(\"maior de idade\")\n",
    "\n",
    "elif idade > 0 and idade < 18 :\n",
    "    print(\"menor de idade\")\n",
    "\n",
    "elif idade > 60:\n",
    "    print(\"Idoso.\")\n",
    "\n",
    "else:\n",
    "    print(\"idade inválida\")\n",
    "    "
   ]
  },
  {
   "cell_type": "markdown",
   "metadata": {},
   "source": [
    "---"
   ]
  }
 ],
 "metadata": {
  "kernelspec": {
   "display_name": "Python 3",
   "language": "python",
   "name": "python3"
  },
  "language_info": {
   "codemirror_mode": {
    "name": "ipython",
    "version": 3
   },
   "file_extension": ".py",
   "mimetype": "text/x-python",
   "name": "python",
   "nbconvert_exporter": "python",
   "pygments_lexer": "ipython3",
   "version": "3.13.2"
  }
 },
 "nbformat": 4,
 "nbformat_minor": 2
}
