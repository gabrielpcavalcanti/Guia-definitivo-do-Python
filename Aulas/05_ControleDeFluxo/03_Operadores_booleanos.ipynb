{
 "cells": [
  {
   "cell_type": "markdown",
   "metadata": {},
   "source": [
    "# Operadoes Booleanos\n",
    "\n",
    "São operadores que retornam um valor verdadeiro ou falso. No Python, eles podem ser de comparação, lógicos, de identidade e pertinência. \n",
    "\n",
    "Eles serão extremamente úteis quando utilizados com operadores condicionais, já que dependendo do valor lógico, certo bloco de comando será executado ou não."
   ]
  },
  {
   "cell_type": "markdown",
   "metadata": {},
   "source": [
    "### **1. Operadores de Comparação**\n",
    "\n",
    "| Operador | Nome      | Exemplo  | Resultado |\n",
    "| -------- | --------- | -------- | --------- |\n",
    "| `==`     | Igualdade | `5 == 5` | `True`    |\n",
    "| `!=`     | Diferente | `5 != 3` | `True`    |\n",
    "| `>`      | Maior que | `10 > 2` | `True`    |\n",
    "| `<`      | Menor que | `5 < 3`  | `False`   |\n",
    "| `>=`      | Maior ou igual que | `15 >= 15` | `True`    |\n",
    "| `<=`      | Menor ou igual que | `40 <= 30`  | `False`   |\n",
    "\n",
    "\n",
    "\n",
    "### **2. Operadores Lógicos**\n",
    "\n",
    "| Operador | Nome      | Exemplo          | Resultado |\n",
    "| -------- | --------- | ---------------- | --------- |\n",
    "| `and`    | E lógico  | `True and False` | `False`   |\n",
    "| `or`     | Ou lógico | `True or False`  | `True`    |\n",
    "| `not`    | Negção    | `not True`       | `False`   |\n",
    "\n",
    "\n",
    "### **3. Operadores de Identidade**\n",
    "\n",
    "| Operador | Nome                 | Exemplo      | Resultado         |\n",
    "| -------- | -------------------- | ------------ | ----------------- |\n",
    "| `is`     | É o mesmo objeto     | `a is b`     | `True` ou `False` |\n",
    "| `is not` | Não é o mesmo objeto | `a is not b` | `True` ou `False` |\n",
    "\n",
    "\n",
    "### **4. Operadores de Pertinência**\n",
    "\n",
    "| Operador | Nome       | Exemplo              | Resultado |\n",
    "| -------- | ---------- | -------------------- | --------- |\n",
    "| `in`     | Contém     | `\"a\" in \"apple\"`     | `True`    |\n",
    "| `not in` | Não contém | `\"z\" not in \"apple\"` | `True`    |"
   ]
  },
  {
   "cell_type": "markdown",
   "metadata": {},
   "source": [
    "---"
   ]
  }
 ],
 "metadata": {
  "language_info": {
   "name": "python"
  }
 },
 "nbformat": 4,
 "nbformat_minor": 2
}
