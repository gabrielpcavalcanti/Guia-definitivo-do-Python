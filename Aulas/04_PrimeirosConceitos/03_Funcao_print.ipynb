{
 "cells": [
  {
   "cell_type": "markdown",
   "metadata": {},
   "source": [
    "# Função print( )"
   ]
  },
  {
   "cell_type": "markdown",
   "metadata": {},
   "source": [
    "Acabamos de quebrar a maldição, trazendo sorte para a nossa jornada e apredendemos nosso primeiro comando em Python, a função interna print( ).\n",
    "\n",
    "Só para deixar registrado, mas como vimos a função print() exibe mensagens no console (saída padrão). Ela pode imprimir textos, números, variáveis, listas, dicionários e até resultados de operações.\n",
    "\n",
    "Por incrível que pareça a função print( ) apresenta diversas pequenas configurações que podem ser feitas e passam despercebidos da maioria dos programadores. \n",
    "\n",
    "Vamos ver algumas delas.\n",
    "\n",
    "Obs: Crie um novo arquivo .py ou use o jupyter notebook para fazer testes e exercícios.\n",
    "\n",
    "Se utilizarmos a função interna help( ), podemos ver o que função print( ) faz."
   ]
  },
  {
   "cell_type": "code",
   "execution_count": 1,
   "metadata": {},
   "outputs": [
    {
     "name": "stdout",
     "output_type": "stream",
     "text": [
      "Help on built-in function print in module builtins:\n",
      "\n",
      "print(*args, sep=' ', end='\\n', file=None, flush=False)\n",
      "    Prints the values to a stream, or to sys.stdout by default.\n",
      "\n",
      "    sep\n",
      "      string inserted between values, default a space.\n",
      "    end\n",
      "      string appended after the last value, default a newline.\n",
      "    file\n",
      "      a file-like object (stream); defaults to the current sys.stdout.\n",
      "    flush\n",
      "      whether to forcibly flush the stream.\n",
      "\n"
     ]
    }
   ],
   "source": [
    "help(print)"
   ]
  },
  {
   "cell_type": "markdown",
   "metadata": {},
   "source": [
    "Podemos ver no código que temos alguns parâmetros opcionais dentro da função print( ) (toda vez que tiver um nome seguido de = dentro de uma função, esse parâmetro é opcional).\n",
    "\n",
    "Se quisermos mudar o padrão do parâmetro é só especificar ele dentro da função e colocar o que quisermos (desde que seja possível). Por exemplo: podemos utilizar o separador como sendo - ou # ou %, mas não podemos mudar o tipo, como colocar True.\n",
    "\n",
    "Dica: Sempre brinque com os parâmetetros das funções. Quando mais você testa, mais você aprende.\n",
    "\n",
    "Os dois mais importantes são o sep e o end. "
   ]
  },
  {
   "cell_type": "markdown",
   "metadata": {},
   "source": [
    "O parâmetro sep define o separador entre os argumentos passados para print().Por padrão, ele usa um espaço (\" \")."
   ]
  },
  {
   "cell_type": "code",
   "execution_count": 2,
   "metadata": {},
   "outputs": [
    {
     "name": "stdout",
     "output_type": "stream",
     "text": [
      "oi,-tudo bem\n"
     ]
    }
   ],
   "source": [
    "print(\"oi,\", \"tudo bem\", sep='-')"
   ]
  },
  {
   "cell_type": "markdown",
   "metadata": {},
   "source": [
    "O parâmetro end define o que será colocado no final da impressão. Por padrão, ele usa uma quebra de linha (\"\\n\")."
   ]
  },
  {
   "cell_type": "code",
   "execution_count": 3,
   "metadata": {},
   "outputs": [
    {
     "name": "stdout",
     "output_type": "stream",
     "text": [
      "oi, tudo bem\n"
     ]
    }
   ],
   "source": [
    "print(\"oi,\", end=' ')\n",
    "print(\"tudo bem\")"
   ]
  },
  {
   "cell_type": "markdown",
   "metadata": {},
   "source": [
    "Até agora só utilizamos Strings, mas dentro da função print( ) também podemos colocar números, variáveis, retorno de funções etc. Como vimos no inicío do arquivo."
   ]
  },
  {
   "cell_type": "code",
   "execution_count": 4,
   "metadata": {},
   "outputs": [
    {
     "name": "stdout",
     "output_type": "stream",
     "text": [
      "5\n"
     ]
    }
   ],
   "source": [
    "print(5)"
   ]
  },
  {
   "cell_type": "code",
   "execution_count": 5,
   "metadata": {},
   "outputs": [
    {
     "name": "stdout",
     "output_type": "stream",
     "text": [
      "['Gabriel', 'Ana', 'Sofia', 'Lucas']\n"
     ]
    }
   ],
   "source": [
    "nomes: list[str] = [\"Gabriel\", \"Ana\", \"Sofia\", \"Lucas\"]\n",
    "\n",
    "print(nomes)"
   ]
  },
  {
   "cell_type": "markdown",
   "metadata": {},
   "source": [
    "Obs: Se ficou com alguma dúvida em algum termo não explicado, não se preocupe, elas serão sanadas com o decorrer do curso."
   ]
  },
  {
   "cell_type": "markdown",
   "metadata": {},
   "source": [
    "---"
   ]
  }
 ],
 "metadata": {
  "kernelspec": {
   "display_name": "Python 3",
   "language": "python",
   "name": "python3"
  },
  "language_info": {
   "codemirror_mode": {
    "name": "ipython",
    "version": 3
   },
   "file_extension": ".py",
   "mimetype": "text/x-python",
   "name": "python",
   "nbconvert_exporter": "python",
   "pygments_lexer": "ipython3",
   "version": "3.13.2"
  }
 },
 "nbformat": 4,
 "nbformat_minor": 2
}
