{
 "cells": [
  {
   "cell_type": "markdown",
   "metadata": {},
   "source": [
    "# Função input( )"
   ]
  },
  {
   "cell_type": "markdown",
   "metadata": {},
   "source": [
    "Após ver diversos conceitos novos da porgramação (variáveis, tipos de dados, operações matemáticas), vamos aprender uma nova função no Python que nos possibilita\n",
    "a entrada de dados pelo usuário. \n",
    "\n",
    "É uma das funções mais utilizadas no Python. O objetivo dela é permitir que o usuário escreve algo no teclado e apareça na tela ou armazena numa variável. Essa função aumenta o nosso leque de possíbilidades dentro da programação.\n",
    "\n",
    "É bom salientar que ao usuário poder entrar com novos dados no programa pode gerar diversos tipos de erros que veremos depois. \n",
    "\n",
    "Obs: É possível ter estudado essa função antes, mas é bom que tenha alguns conveitos prévios antes para poder entender melhor."
   ]
  },
  {
   "cell_type": "markdown",
   "metadata": {},
   "source": [
    "Vamos ver o que o help( ) diz sobre o input( )."
   ]
  },
  {
   "cell_type": "code",
   "execution_count": 8,
   "metadata": {},
   "outputs": [
    {
     "name": "stdout",
     "output_type": "stream",
     "text": [
      "Help on method raw_input in module ipykernel.kernelbase:\n",
      "\n",
      "raw_input(prompt='') method of ipykernel.ipkernel.IPythonKernel instance\n",
      "    Forward raw_input to frontends\n",
      "\n",
      "    Raises\n",
      "    ------\n",
      "    StdinNotImplementedError if active frontend doesn't support stdin.\n",
      "\n"
     ]
    }
   ],
   "source": [
    "help(input)"
   ]
  },
  {
   "cell_type": "markdown",
   "metadata": {},
   "source": [
    "Normalmente inserimos uma String dentro do input para o usuário saber o que deve ser digitado. Isso evita erros e confunsões. Mas não é preciso."
   ]
  },
  {
   "cell_type": "code",
   "execution_count": null,
   "metadata": {},
   "outputs": [],
   "source": [
    "input()\n",
    "input(\"Type anything you want: \");  # Esse ponto e vírgula não pertence ao código Python. Está ai por causa o Jupter."
   ]
  },
  {
   "cell_type": "markdown",
   "metadata": {},
   "source": [
    "Perceba que isso não é muito útil e que para o programa entenda que já deu um comando é preciso clicar na tecla \"Enter\".\n",
    "\n",
    "O que é interessante é colocar o comando input dentro de uma variável, para que poder receber o valor e utiliza-lo depois."
   ]
  },
  {
   "cell_type": "code",
   "execution_count": 5,
   "metadata": {},
   "outputs": [
    {
     "name": "stdout",
     "output_type": "stream",
     "text": [
      "Your name is Sofia and you are 28 years old.\n"
     ]
    }
   ],
   "source": [
    "name: str = input(\"Digit your name: \")\n",
    "age: str = input(\"Digit your age: \")\n",
    "\n",
    "print(f'Your name is {name} and you are {age} years old.')"
   ]
  },
  {
   "cell_type": "markdown",
   "metadata": {},
   "source": [
    "Podemos ter a saida que quiser, mas todas serão Strings. A menos que especifiquemos o tipo de variável. Isso é chamado se cast, ou seja, transformar um tipo em outro. Lembre: nem sempre é possível fazer isso. \n",
    "\n",
    "Sempre faça o castings na função input para variar os tipos de dados."
   ]
  },
  {
   "cell_type": "code",
   "execution_count": null,
   "metadata": {},
   "outputs": [
    {
     "name": "stdout",
     "output_type": "stream",
     "text": [
      "3.0\n"
     ]
    }
   ],
   "source": [
    "var_01: int = int(input(\"Digite algo: \"))\n",
    "var_02: float = float(input(\"Digite algo: \"))\n",
    "var_03: str = input(\"Digite algo: \")\n",
    "\n",
    "print(var_01 + var_02)"
   ]
  },
  {
   "cell_type": "markdown",
   "metadata": {},
   "source": [
    "---"
   ]
  }
 ],
 "metadata": {
  "kernelspec": {
   "display_name": "Python 3",
   "language": "python",
   "name": "python3"
  },
  "language_info": {
   "codemirror_mode": {
    "name": "ipython",
    "version": 3
   },
   "file_extension": ".py",
   "mimetype": "text/x-python",
   "name": "python",
   "nbconvert_exporter": "python",
   "pygments_lexer": "ipython3",
   "version": "3.13.2"
  }
 },
 "nbformat": 4,
 "nbformat_minor": 2
}
