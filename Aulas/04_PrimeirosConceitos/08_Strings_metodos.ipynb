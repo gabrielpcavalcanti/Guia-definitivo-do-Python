{
 "cells": [
  {
   "cell_type": "markdown",
   "metadata": {},
   "source": [
    "# Métodos das Strings"
   ]
  },
  {
   "cell_type": "markdown",
   "metadata": {},
   "source": [
    "Métodos são funções dentro de classes. A maioria, se não todos, os elementos que vimos até agora são classes no Python. \n",
    "\n",
    "Para acessar os métodos, utilizamos a notação ponto. Após o objeto de determinada classe, colocamos o símbolo de ponto e assim abre acesso a diversas funcionalidade que a classe possui. \n",
    "\n",
    "Já fizemos com o .format( ) e vamos ver todos os outros tipos agora. Para vizualizar os métodos existentes, utilizaoms o dir( )."
   ]
  },
  {
   "cell_type": "code",
   "execution_count": 1,
   "metadata": {},
   "outputs": [
    {
     "name": "stdout",
     "output_type": "stream",
     "text": [
      "['__add__', '__class__', '__contains__', '__delattr__', '__dir__', '__doc__', '__eq__', '__format__', '__ge__', '__getattribute__', '__getitem__', '__getnewargs__', '__getstate__', '__gt__', '__hash__', '__init__', '__init_subclass__', '__iter__', '__le__', '__len__', '__lt__', '__mod__', '__mul__', '__ne__', '__new__', '__reduce__', '__reduce_ex__', '__repr__', '__rmod__', '__rmul__', '__setattr__', '__sizeof__', '__str__', '__subclasshook__', 'capitalize', 'casefold', 'center', 'count', 'encode', 'endswith', 'expandtabs', 'find', 'format', 'format_map', 'index', 'isalnum', 'isalpha', 'isascii', 'isdecimal', 'isdigit', 'isidentifier', 'islower', 'isnumeric', 'isprintable', 'isspace', 'istitle', 'isupper', 'join', 'ljust', 'lower', 'lstrip', 'maketrans', 'partition', 'removeprefix', 'removesuffix', 'replace', 'rfind', 'rindex', 'rjust', 'rpartition', 'rsplit', 'rstrip', 'split', 'splitlines', 'startswith', 'strip', 'swapcase', 'title', 'translate', 'upper', 'zfill']\n"
     ]
    }
   ],
   "source": [
    "print(dir(\"any_string\"))"
   ]
  },
  {
   "cell_type": "markdown",
   "metadata": {},
   "source": [
    "Para deixar eles mais visivel, coloqeui os métodos embaixo. "
   ]
  },
  {
   "cell_type": "code",
   "execution_count": 2,
   "metadata": {},
   "outputs": [
    {
     "data": {
      "text/plain": [
       "['__add__',\n",
       " '__class__',\n",
       " '__contains__',\n",
       " '__delattr__',\n",
       " '__dir__',\n",
       " '__doc__',\n",
       " '__eq__',\n",
       " '__format__',\n",
       " '__ge__',\n",
       " '__getattribute__',\n",
       " '__getitem__',\n",
       " '__getnewargs__',\n",
       " '__getstate__',\n",
       " '__gt__',\n",
       " '__hash__',\n",
       " '__init__',\n",
       " '__init_subclass__',\n",
       " '__iter__',\n",
       " '__le__',\n",
       " '__len__',\n",
       " '__lt__',\n",
       " '__mod__',\n",
       " '__mul__',\n",
       " '__ne__',\n",
       " '__new__',\n",
       " '__reduce__',\n",
       " '__reduce_ex__',\n",
       " '__repr__',\n",
       " '__rmod__',\n",
       " '__rmul__',\n",
       " '__setattr__',\n",
       " '__sizeof__',\n",
       " '__str__',\n",
       " '__subclasshook__',\n",
       " 'capitalize',\n",
       " 'casefold',\n",
       " 'center',\n",
       " 'count',\n",
       " 'encode',\n",
       " 'endswith',\n",
       " 'expandtabs',\n",
       " 'find',\n",
       " 'format',\n",
       " 'format_map',\n",
       " 'index',\n",
       " 'isalnum',\n",
       " 'isalpha',\n",
       " 'isascii',\n",
       " 'isdecimal',\n",
       " 'isdigit',\n",
       " 'isidentifier',\n",
       " 'islower',\n",
       " 'isnumeric',\n",
       " 'isprintable',\n",
       " 'isspace',\n",
       " 'istitle',\n",
       " 'isupper',\n",
       " 'join',\n",
       " 'ljust',\n",
       " 'lower',\n",
       " 'lstrip',\n",
       " 'maketrans',\n",
       " 'partition',\n",
       " 'removeprefix',\n",
       " 'removesuffix',\n",
       " 'replace',\n",
       " 'rfind',\n",
       " 'rindex',\n",
       " 'rjust',\n",
       " 'rpartition',\n",
       " 'rsplit',\n",
       " 'rstrip',\n",
       " 'split',\n",
       " 'splitlines',\n",
       " 'startswith',\n",
       " 'strip',\n",
       " 'swapcase',\n",
       " 'title',\n",
       " 'translate',\n",
       " 'upper',\n",
       " 'zfill']"
      ]
     },
     "execution_count": 2,
     "metadata": {},
     "output_type": "execute_result"
    }
   ],
   "source": [
    "['__add__', '__class__', '__contains__', '__delattr__', '__dir__', '__doc__', '__eq__', '__format__', '__ge__', '__getattribute__', '__getitem__', '__getnewargs__', '__getstate__', '__gt__', '__hash__', '__init__', '__init_subclass__', '__iter__', '__le__', '__len__', '__lt__', '__mod__', '__mul__', '__ne__', '__new__', '__reduce__', '__reduce_ex__', '__repr__', '__rmod__', '__rmul__', '__setattr__', '__sizeof__', '__str__', '__subclasshook__', 'capitalize', 'casefold', 'center', 'count', 'encode', 'endswith', 'expandtabs', 'find', 'format', 'format_map', 'index', 'isalnum', 'isalpha', 'isascii', 'isdecimal', 'isdigit', 'isidentifier', 'islower', 'isnumeric', 'isprintable', 'isspace', 'istitle', 'isupper', 'join', 'ljust', 'lower', 'lstrip', 'maketrans', 'partition', 'removeprefix', 'removesuffix', 'replace', 'rfind', 'rindex', 'rjust', 'rpartition', 'rsplit', 'rstrip', 'split', 'splitlines', 'startswith', 'strip', 'swapcase', 'title', 'translate', 'upper', 'zfill']"
   ]
  },
  {
   "cell_type": "markdown",
   "metadata": {},
   "source": [
    "## Índice\n",
    "\n",
    "1. [Primeiros Métodos](#primeiros-métodos)  \n",
    "2. [Divisão e junção nas Strings](#divisão-e-junção-nas-strings)\n",
    "3. [Formatação de Strings](#formatação-de-strings)\n",
    "4. [Retorno booleanos](#retornos-booleanos-nas-strings)\n",
    "5. [Pesquisa (regex)](#pesquisa-regex)\n",
    "6. [Codificação e translação](#codificação-e-translação)"
   ]
  },
  {
   "cell_type": "markdown",
   "metadata": {},
   "source": [
    "Existem 47 métodos das strings se retirarmos os dunder methods, veremos cada um deles agora. \n",
    "\n",
    "obs: Alguns termos e operações que aparecerem nos exemplos você pode não ter visto ainda. Veremos em outras aulas."
   ]
  },
  {
   "cell_type": "markdown",
   "metadata": {},
   "source": [
    "## Primeiros métodos"
   ]
  },
  {
   "cell_type": "markdown",
   "metadata": {},
   "source": [
    "### .title( )\n",
    "\n",
    "Retorna uma versão da cadeia de caracteres em que cada palavra está em maiúsculas. Mais especificamente, as palavras começam com caracteres em maiúsculas e todos os demais caracteres em minúsculas."
   ]
  },
  {
   "cell_type": "code",
   "execution_count": 3,
   "metadata": {},
   "outputs": [
    {
     "name": "stdout",
     "output_type": "stream",
     "text": [
      "Hello Everyone\n",
      "I Am Happy!!!\n",
      "This Is A Sring\n",
      "My Company\n"
     ]
    }
   ],
   "source": [
    "company_name: str = \"My COMpaNY\"\n",
    "\n",
    "print(\"HELLO EVERYONE\".title())\n",
    "print(\"i am happy!!!\".title())\n",
    "print(\"this is a Sring\".title())\n",
    "print(company_name.title())"
   ]
  },
  {
   "cell_type": "markdown",
   "metadata": {},
   "source": [
    "### .capitalize( )\n",
    "\n",
    "Retorna uma versão em maiúsculas da cadeia de caracteres. Mais especificamente, faça com que o primeiro caractere tenha letras maiúsculas e os demais letras minúsculas."
   ]
  },
  {
   "cell_type": "code",
   "execution_count": 4,
   "metadata": {},
   "outputs": [
    {
     "name": "stdout",
     "output_type": "stream",
     "text": [
      "Hello everyone\n",
      "I am happy!!!\n",
      "This is a sring\n",
      "My company\n"
     ]
    }
   ],
   "source": [
    "company_name: str = \"My COMpaNY\"\n",
    "\n",
    "print(\"HELLO EVERYONE\".capitalize())\n",
    "print(\"i am happy!!!\".capitalize())\n",
    "print(\"this is a Sring\".capitalize())\n",
    "print(company_name.capitalize())\n"
   ]
  },
  {
   "cell_type": "markdown",
   "metadata": {},
   "source": [
    "### .upper( )\n",
    "\n",
    "Retorna uma cópia da cadeia de caracteres convertida em maiúsculas."
   ]
  },
  {
   "cell_type": "code",
   "execution_count": 5,
   "metadata": {},
   "outputs": [
    {
     "name": "stdout",
     "output_type": "stream",
     "text": [
      "HELLO EVERYONE\n",
      "I AM HAPPY!!!\n",
      "THIS IS A SRING\n",
      "MY COMPANY\n"
     ]
    }
   ],
   "source": [
    "company_name: str = \"My COMpaNY\"\n",
    "\n",
    "print(\"HELLO EVERYONE\".upper())\n",
    "print(\"i am happy!!!\".upper())\n",
    "print(\"this is a Sring\".upper())\n",
    "print(company_name.upper())\n"
   ]
  },
  {
   "cell_type": "markdown",
   "metadata": {},
   "source": [
    "### .lower( )\n",
    "\n",
    "Retorna uma cópia da cadeia de caracteres convertida em letras minúsculas."
   ]
  },
  {
   "cell_type": "code",
   "execution_count": 6,
   "metadata": {},
   "outputs": [
    {
     "name": "stdout",
     "output_type": "stream",
     "text": [
      "hello everyone\n",
      "i am happy!!!\n",
      "this is a sring\n",
      "my company\n"
     ]
    }
   ],
   "source": [
    "company_name: str = \"My COMpaNY\"\n",
    "\n",
    "print(\"HELLO EVERYONE\".lower())\n",
    "print(\"i am happy!!!\".lower())\n",
    "print(\"this is a Sring\".lower())\n",
    "print(company_name.lower())"
   ]
  },
  {
   "cell_type": "markdown",
   "metadata": {},
   "source": [
    "### .swapcase( )\n",
    "\n",
    "Converta caracteres maiúsculos em minúsculos e caracteres minúsculos em maiúsculos."
   ]
  },
  {
   "cell_type": "code",
   "execution_count": 7,
   "metadata": {},
   "outputs": [
    {
     "name": "stdout",
     "output_type": "stream",
     "text": [
      "hello everyone\n",
      "I AM HAPPY!!!\n",
      "THIS IS A sRING\n",
      "mY comPAny\n"
     ]
    }
   ],
   "source": [
    "company_name: str = \"My COMpaNY\"\n",
    "\n",
    "print(\"HELLO EVERYONE\".swapcase())\n",
    "print(\"i am happy!!!\".swapcase())\n",
    "print(\"this is a Sring\".swapcase())\n",
    "print(company_name.swapcase())"
   ]
  },
  {
   "cell_type": "markdown",
   "metadata": {},
   "source": [
    "## Divisão e junção nas Strings"
   ]
  },
  {
   "cell_type": "markdown",
   "metadata": {},
   "source": [
    "### .join( )\n",
    "\n",
    "Concatena um número qualquer de strings. A string na qual o método foi chamado é inserida entre cada string dada.\n",
    "\n",
    "O resultado é retornado como uma nova string.\n"
   ]
  },
  {
   "cell_type": "code",
   "execution_count": 8,
   "metadata": {},
   "outputs": [
    {
     "name": "stdout",
     "output_type": "stream",
     "text": [
      "Hello world Python is awesome\n"
     ]
    }
   ],
   "source": [
    "words: list[str] = [\"Hello\", \"world\", \"Python\", \"is\", \"awesome\"]\n",
    "\n",
    "frase: str = \" \".join(words)\n",
    "\n",
    "print(frase)\n"
   ]
  },
  {
   "cell_type": "code",
   "execution_count": 9,
   "metadata": {},
   "outputs": [
    {
     "name": "stdout",
     "output_type": "stream",
     "text": [
      "Alice and Bob and Carlos\n",
      "<class 'str'>\n"
     ]
    }
   ],
   "source": [
    "names: list[str] = [\"Alice\", \"Bob\", \"Carlos\"]\n",
    "\n",
    "message: str = \" and \".join(names)\n",
    "\n",
    "print(message) \n",
    "print(type(message))\n"
   ]
  },
  {
   "cell_type": "code",
   "execution_count": 10,
   "metadata": {},
   "outputs": [
    {
     "name": "stdout",
     "output_type": "stream",
     "text": [
      "1,2,3,4\n"
     ]
    }
   ],
   "source": [
    "print(','.join([\"1\", \"2\", \"3\", \"4\"]))"
   ]
  },
  {
   "cell_type": "markdown",
   "metadata": {},
   "source": [
    "### .split( )\n",
    "\n",
    "Divide a string em uma lista de substrings usando um separador."
   ]
  },
  {
   "cell_type": "code",
   "execution_count": 11,
   "metadata": {},
   "outputs": [
    {
     "name": "stdout",
     "output_type": "stream",
     "text": [
      "['Fight', 'club', 'is', 'a', 'incredible', 'movie']\n"
     ]
    }
   ],
   "source": [
    "phrase: str = \"Fight club is a incredible movie\"\n",
    "\n",
    "words: list[str] = phrase.split()\n",
    "\n",
    "print(words)\n"
   ]
  },
  {
   "cell_type": "code",
   "execution_count": 12,
   "metadata": {},
   "outputs": [
    {
     "name": "stdout",
     "output_type": "stream",
     "text": [
      "['10', '04', '2025']\n"
     ]
    }
   ],
   "source": [
    "date: str = \"10/04/2025\"\n",
    "\n",
    "partes: list[str]  = date.split(\"/\")\n",
    "\n",
    "print(partes)\n"
   ]
  },
  {
   "cell_type": "code",
   "execution_count": 13,
   "metadata": {},
   "outputs": [
    {
     "name": "stdout",
     "output_type": "stream",
     "text": [
      "['Python', 'is', 'cool']\n"
     ]
    }
   ],
   "source": [
    "print(\"  Python   is   cool  \".split())  "
   ]
  },
  {
   "cell_type": "markdown",
   "metadata": {},
   "source": [
    "### .rsplit( )\n",
    "\n",
    "Retorna uma lista das substrings na cadeia de caracteres, usando sep como a cadeia separadora. Igual ao split(), mas divide da direita para a esquerda.\n"
   ]
  },
  {
   "cell_type": "markdown",
   "metadata": {},
   "source": [
    "### .splitlines( )\n",
    "\n",
    "Retorna uma lista das linhas na cadeia de caracteres, quebrando nos limites das linhas. As quebras de linha não são incluídas na lista resultante, a menos que keepends seja fornecido e true."
   ]
  },
  {
   "cell_type": "code",
   "execution_count": 14,
   "metadata": {},
   "outputs": [
    {
     "name": "stdout",
     "output_type": "stream",
     "text": [
      "['First line', 'Second line', 'Third line']\n"
     ]
    }
   ],
   "source": [
    "text = \"\"\"First line\n",
    "Second line\n",
    "Third line\"\"\"\n",
    "\n",
    "lines = text.splitlines()\n",
    "\n",
    "print(lines)\n"
   ]
  },
  {
   "cell_type": "code",
   "execution_count": 15,
   "metadata": {},
   "outputs": [
    {
     "name": "stdout",
     "output_type": "stream",
     "text": [
      "['First line\\n', 'Second line\\n', 'Third line']\n"
     ]
    }
   ],
   "source": [
    "text = \"\"\"First line\n",
    "Second line\n",
    "Third line\"\"\"\n",
    "\n",
    "lines = text.splitlines(keepends=True)\n",
    "\n",
    "print(lines)\n"
   ]
  },
  {
   "cell_type": "markdown",
   "metadata": {},
   "source": [
    "### .partition( )\n",
    "\n",
    "Divide a string em três partes usando o separador fornecido. Isso procurará o separador na cadeia de caracteres. Se o separador for encontrado, retorna um 3-tuplo contendo a parte antes do separador, o separador em si e a parte depois dele.\n",
    "\n",
    "Se o separador não for encontrado, retorna um 3-tuplo contendo a string original e duas strings vazias."
   ]
  },
  {
   "cell_type": "code",
   "execution_count": 16,
   "metadata": {},
   "outputs": [
    {
     "name": "stdout",
     "output_type": "stream",
     "text": [
      "('I ', 'like', ' ice cream')\n"
     ]
    }
   ],
   "source": [
    "phrase = \"I like ice cream\"\n",
    "\n",
    "print(phrase.partition(\"like\"))\n"
   ]
  },
  {
   "cell_type": "code",
   "execution_count": 17,
   "metadata": {},
   "outputs": [
    {
     "name": "stdout",
     "output_type": "stream",
     "text": [
      "email: joao@gmail.com\n"
     ]
    }
   ],
   "source": [
    "register: str = \"email: joao@gmail.com\"\n",
    "\n",
    "key, sep, value = register.partition(\": \")\n",
    "\n",
    "print(f\"{key}{sep}{value}\")\n"
   ]
  },
  {
   "cell_type": "code",
   "execution_count": 18,
   "metadata": {},
   "outputs": [
    {
     "name": "stdout",
     "output_type": "stream",
     "text": [
      "('I like ice cream', '', '')\n"
     ]
    }
   ],
   "source": [
    "phrase = \"I like ice cream\"\n",
    "\n",
    "print(phrase.partition(\"!\"))"
   ]
  },
  {
   "cell_type": "markdown",
   "metadata": {},
   "source": [
    "### .rpartition( )\n",
    "\n",
    "Igual ao partition(), mas procura o separador da direita para a esquerda."
   ]
  },
  {
   "cell_type": "markdown",
   "metadata": {},
   "source": [
    "## Formatação de strings\n",
    "\n",
    "Já vimos como formatar strings, mas existem métodos que fazem algumas funções interessantes e até mesmo as mesmas funções, mas com a sitaxe diferente."
   ]
  },
  {
   "cell_type": "markdown",
   "metadata": {},
   "source": [
    "### .replace( )\n",
    "\n",
    "Retorna uma cópia com todas as ocorrências da substring antiga substituídas pela nova."
   ]
  },
  {
   "cell_type": "code",
   "execution_count": 19,
   "metadata": {},
   "outputs": [
    {
     "name": "stdout",
     "output_type": "stream",
     "text": [
      "I love bananas. Apples are delicious.\n"
     ]
    }
   ],
   "source": [
    "text: str = \"I love apples. Apples are delicious.\"\n",
    "\n",
    "new_text = text.replace(\"apples\", \"bananas\")  # Case-sensitive!\n",
    "\n",
    "print(new_text)\n"
   ]
  },
  {
   "cell_type": "code",
   "execution_count": 20,
   "metadata": {},
   "outputs": [
    {
     "name": "stdout",
     "output_type": "stream",
     "text": [
      "Java is great, Java is fun, Python is powerful!\n"
     ]
    }
   ],
   "source": [
    "text = \"Python is great, Python is fun, Python is powerful!\"\n",
    "\n",
    "new_text = text.replace(\"Python\", \"Java\", 2)  # Replace only first 2 occurrences\n",
    "\n",
    "print(new_text)\n"
   ]
  },
  {
   "cell_type": "code",
   "execution_count": 21,
   "metadata": {},
   "outputs": [
    {
     "name": "stdout",
     "output_type": "stream",
     "text": [
      "Dogs are loyal. Dogs love to play.\n"
     ]
    }
   ],
   "source": [
    "text = \"Cats are cute. Cats love to play.\"\n",
    "\n",
    "new_text = text.replace(\"Cats\", \"Dogs\").replace(\"cute\", \"loyal\")\n",
    "\n",
    "print(new_text)\n"
   ]
  },
  {
   "cell_type": "code",
   "execution_count": 22,
   "metadata": {},
   "outputs": [
    {
     "name": "stdout",
     "output_type": "stream",
     "text": [
      "Hello How are you\n"
     ]
    }
   ],
   "source": [
    "text = \"Hello!!! How are you???\"\n",
    "\n",
    "new_text = text.replace(\"!\", \"\").replace(\"?\", \"\")\n",
    "\n",
    "print(new_text)\n"
   ]
  },
  {
   "cell_type": "markdown",
   "metadata": {},
   "source": [
    "### .strip( )\n",
    "\n",
    "Retorna uma cópia da cadeia de caracteres com os espaços em branco à esquerda e à direita removidos. Se chars for fornecido e não for None, removerá os caracteres em chars."
   ]
  },
  {
   "cell_type": "code",
   "execution_count": 23,
   "metadata": {},
   "outputs": [
    {
     "name": "stdout",
     "output_type": "stream",
     "text": [
      "Hello, World!\n"
     ]
    }
   ],
   "source": [
    "text: str = \"   Hello, World!   \"\n",
    "\n",
    "new_text: str = text.strip()\n",
    "\n",
    "print(new_text)\n"
   ]
  },
  {
   "cell_type": "code",
   "execution_count": 24,
   "metadata": {},
   "outputs": [
    {
     "name": "stdout",
     "output_type": "stream",
     "text": [
      "Hello, World!\n"
     ]
    }
   ],
   "source": [
    "print(\"---Hello, World!---\".strip(\"-\"))\n"
   ]
  },
  {
   "cell_type": "markdown",
   "metadata": {},
   "source": [
    "### .rstrip( )\n",
    "\n",
    "Retorna uma cópia da cadeia de caracteres com os espaços em branco à direita removidos. Se chars for fornecido e não for None, removerá os caracteres em chars."
   ]
  },
  {
   "cell_type": "code",
   "execution_count": 25,
   "metadata": {},
   "outputs": [
    {
     "name": "stdout",
     "output_type": "stream",
     "text": [
      "Python is fun!\n"
     ]
    }
   ],
   "source": [
    "text: str = \"   Python is fun!\"\n",
    "\n",
    "new_text: str = text.lstrip()\n",
    "\n",
    "print(new_text)\n"
   ]
  },
  {
   "cell_type": "markdown",
   "metadata": {},
   "source": [
    "### .lstrip( )\n",
    "\n",
    "Retorna uma cópia da cadeia de caracteres com os espaços em branco à esquerda removidos. Se chars for fornecido e não for None, removerá os caracteres em chars."
   ]
  },
  {
   "cell_type": "code",
   "execution_count": 26,
   "metadata": {},
   "outputs": [
    {
     "name": "stdout",
     "output_type": "stream",
     "text": [
      "Hello, World\n"
     ]
    }
   ],
   "source": [
    "text: str = \"Hello, World!!!\"\n",
    "\n",
    "new_text: str = text.rstrip(\"!\")\n",
    "\n",
    "print(new_text)\n"
   ]
  },
  {
   "cell_type": "markdown",
   "metadata": {},
   "source": [
    "### .removeprefix( )\n",
    "\n",
    "Retorna uma string com a string de prefixo fornecida removida, se presente."
   ]
  },
  {
   "cell_type": "code",
   "execution_count": 27,
   "metadata": {},
   "outputs": [
    {
     "name": "stdout",
     "output_type": "stream",
     "text": [
      "Example\n"
     ]
    }
   ],
   "source": [
    "text: str = \"PrefixExample\"\n",
    "\n",
    "result: str = text.removeprefix(\"Prefix\")\n",
    "\n",
    "print(result)\n"
   ]
  },
  {
   "cell_type": "markdown",
   "metadata": {},
   "source": [
    "### .removesufix( )\n",
    "\n",
    "Retorna uma string com a string de sufixo fornecida removida, se houver.\n"
   ]
  },
  {
   "cell_type": "code",
   "execution_count": 28,
   "metadata": {},
   "outputs": [
    {
     "name": "stdout",
     "output_type": "stream",
     "text": [
      "Example\n"
     ]
    }
   ],
   "source": [
    "text: str = \"ExampleSuffix\"\n",
    "\n",
    "result: str = text.removesuffix(\"Suffix\")\n",
    "\n",
    "print(result)\n"
   ]
  },
  {
   "cell_type": "markdown",
   "metadata": {},
   "source": [
    "### .center( )\n",
    "\n",
    "Retorna uma cadeia de caracteres centralizada de comprimento e largura. O preenchimento é feito com o caractere de preenchimento especificado (o padrão é um espaço)."
   ]
  },
  {
   "cell_type": "code",
   "execution_count": 29,
   "metadata": {},
   "outputs": [
    {
     "name": "stdout",
     "output_type": "stream",
     "text": [
      "******Pudim is delicious******\n"
     ]
    }
   ],
   "source": [
    "print(\"Pudim is delicious\".center(30, \"*\"))"
   ]
  },
  {
   "cell_type": "code",
   "execution_count": 30,
   "metadata": {},
   "outputs": [
    {
     "name": "stdout",
     "output_type": "stream",
     "text": [
      "     Python    \n"
     ]
    }
   ],
   "source": [
    "phrase: str = \"Python\"\n",
    "\n",
    "print(phrase.center(15))\n"
   ]
  },
  {
   "cell_type": "markdown",
   "metadata": {},
   "source": [
    "### .ljust( ) \n",
    "\n",
    "Retorna uma cadeia de caracteres justificada à esquerda de comprimento e largura. O preenchimento é feito com o caractere de preenchimento especificado (o padrão é um espaço)."
   ]
  },
  {
   "cell_type": "code",
   "execution_count": 31,
   "metadata": {},
   "outputs": [
    {
     "name": "stdout",
     "output_type": "stream",
     "text": [
      "Pudim is delicious************\n"
     ]
    }
   ],
   "source": [
    "print(\"Pudim is delicious\".ljust(30, \"*\"))"
   ]
  },
  {
   "cell_type": "code",
   "execution_count": 32,
   "metadata": {},
   "outputs": [
    {
     "name": "stdout",
     "output_type": "stream",
     "text": [
      "Python         \n"
     ]
    }
   ],
   "source": [
    "phrase: str = \"Python\"\n",
    "\n",
    "print(phrase.ljust(15))\n"
   ]
  },
  {
   "cell_type": "markdown",
   "metadata": {},
   "source": [
    "### .rjust( ) \n",
    "\n",
    "Retorna uma cadeia de caracteres justificada à direita de comprimento e largura. O preenchimento é feito com o caractere de preenchimento especificado (o padrão é um espaço)."
   ]
  },
  {
   "cell_type": "code",
   "execution_count": 33,
   "metadata": {},
   "outputs": [
    {
     "name": "stdout",
     "output_type": "stream",
     "text": [
      "************Pudim is delicious\n"
     ]
    }
   ],
   "source": [
    "print(\"Pudim is delicious\".rjust(30, \"*\"))"
   ]
  },
  {
   "cell_type": "code",
   "execution_count": 34,
   "metadata": {},
   "outputs": [
    {
     "name": "stdout",
     "output_type": "stream",
     "text": [
      "         Python\n"
     ]
    }
   ],
   "source": [
    "phrase: str = \"Python\"\n",
    "\n",
    "print(phrase.rjust(15))\n"
   ]
  },
  {
   "cell_type": "markdown",
   "metadata": {},
   "source": [
    "### .zfill( )\n",
    "\n",
    "Preenche uma cadeia numérica com zeros à esquerda, para preencher um campo com a largura determinada. A cadeia de caracteres nunca é truncada."
   ]
  },
  {
   "cell_type": "code",
   "execution_count": 35,
   "metadata": {},
   "outputs": [
    {
     "name": "stdout",
     "output_type": "stream",
     "text": [
      "0000000352\n"
     ]
    }
   ],
   "source": [
    "print(\"352\".zfill(10))"
   ]
  },
  {
   "cell_type": "markdown",
   "metadata": {},
   "source": [
    "### .expandtabs( )\n",
    "\n",
    "Retorna uma cópia onde todos os caracteres de tabulação são expandidos usando espaços. Se tabsize não for fornecido, um tamanho de tabulação de 8 caracteres é assumido."
   ]
  },
  {
   "cell_type": "code",
   "execution_count": 36,
   "metadata": {},
   "outputs": [
    {
     "name": "stdout",
     "output_type": "stream",
     "text": [
      "     Python\n"
     ]
    }
   ],
   "source": [
    "print(\"\\tPython\".expandtabs(5))"
   ]
  },
  {
   "cell_type": "markdown",
   "metadata": {},
   "source": [
    "### .format( )\n",
    "\n",
    "Retorna uma versão formatada da string, usando as substituições de args e kwargs. As substituições são identificadas por chaves (‘{’ e ‘}’)."
   ]
  },
  {
   "cell_type": "code",
   "execution_count": 37,
   "metadata": {},
   "outputs": [
    {
     "name": "stdout",
     "output_type": "stream",
     "text": [
      "This is String is formated\n"
     ]
    }
   ],
   "source": [
    "print(\"This is {} is {}\".format(\"String\", \"formated\"))"
   ]
  },
  {
   "cell_type": "code",
   "execution_count": 38,
   "metadata": {},
   "outputs": [
    {
     "name": "stdout",
     "output_type": "stream",
     "text": [
      "Name: Gabriel, Age: 26\n"
     ]
    }
   ],
   "source": [
    "name: str = \"Gabriel\"\n",
    "age: int = 26 \n",
    "\n",
    "print(\"Name: {}, Age: {}\".format(name, age))\n"
   ]
  },
  {
   "cell_type": "markdown",
   "metadata": {},
   "source": [
    "### .format_map( )\n",
    "\n",
    "Retorna uma versão formatada da cadeia de caracteres, usando substituições do mapeamento. As substituições são identificadas por chaves (‘{’ e ‘}’)."
   ]
  },
  {
   "cell_type": "code",
   "execution_count": 39,
   "metadata": {},
   "outputs": [
    {
     "name": "stdout",
     "output_type": "stream",
     "text": [
      "Name: Alice, Age: 25\n"
     ]
    }
   ],
   "source": [
    "date: dict[str, int] = {\"name\": \"Alice\", \"age\": 25}\n",
    "\n",
    "result: str = \"Name: {name}, Age: {age}\".format_map(date)\n",
    "\n",
    "print(result)\n"
   ]
  },
  {
   "cell_type": "markdown",
   "metadata": {},
   "source": [
    "## Pesquisa (regex)"
   ]
  },
  {
   "cell_type": "markdown",
   "metadata": {},
   "source": [
    "### .count( )\n",
    "\n",
    "Retorna o número de ocorrências não sobrepostas da substring sub na string S[start:end]. Os argumentos opcionais start e end são interpretados como na notação de fatia."
   ]
  },
  {
   "cell_type": "code",
   "execution_count": 40,
   "metadata": {},
   "outputs": [
    {
     "name": "stdout",
     "output_type": "stream",
     "text": [
      "The word 'Python' appears 2 times.\n"
     ]
    }
   ],
   "source": [
    "text = \"Python is amazing! Python is powerful!\"\n",
    "\n",
    "count = text.count(\"Python\")\n",
    "\n",
    "print(f\"The word 'Python' appears {count} times.\")\n"
   ]
  },
  {
   "cell_type": "code",
   "execution_count": 41,
   "metadata": {},
   "outputs": [
    {
     "name": "stdout",
     "output_type": "stream",
     "text": [
      "'pineapple' appears 1 times in the first 10 characters.\n"
     ]
    }
   ],
   "source": [
    "sentence = \"pineapple, avocado, pineapple\"\n",
    "\n",
    "count = sentence.count(\"pineapple\", 0, 10)\n",
    "\n",
    "print(f\"'pineapple' appears {count} times in the first 10 characters.\")\n"
   ]
  },
  {
   "cell_type": "markdown",
   "metadata": {},
   "source": [
    "### .find( )\n",
    "\n",
    "Retorna o menor índice em S onde a substring sub é encontrada, de modo que sub esteja contida em S[start:end]. \n",
    "\n",
    "Retorna o índice da primeira ocorrência de sub, ou -1 se não encontrado."
   ]
  },
  {
   "cell_type": "code",
   "execution_count": 42,
   "metadata": {},
   "outputs": [
    {
     "name": "stdout",
     "output_type": "stream",
     "text": [
      "The position of the substring is 4.\n"
     ]
    }
   ],
   "source": [
    "# Example with find\n",
    "text: str = \"Hello, world!\"\n",
    "substring: str = \"o\"\n",
    "\n",
    "position: int = text.find(substring)\n",
    "\n",
    "print(f'The position of the substring is {position}.')  \n"
   ]
  },
  {
   "cell_type": "markdown",
   "metadata": {},
   "source": [
    "### .rfind( )\n",
    "\n",
    "Retorna o índice mais alto em S onde a substring sub é encontrada, de modo que sub esteja contida em S[start:end]. Igual ao find(), mas começa a busca pelo final.."
   ]
  },
  {
   "cell_type": "code",
   "execution_count": 43,
   "metadata": {},
   "outputs": [
    {
     "name": "stdout",
     "output_type": "stream",
     "text": [
      "The position of the substring is 8.\n"
     ]
    }
   ],
   "source": [
    "text: str = \"Hello, world!\"\n",
    "substring: str = \"o\"\n",
    "\n",
    "position: int = text.rfind(substring)\n",
    "\n",
    "print(f'The position of the substring is {position}.')  \n"
   ]
  },
  {
   "cell_type": "markdown",
   "metadata": {},
   "source": [
    "### .index( )\n",
    "\n",
    "Retorna o menor índice em S onde a substring sub é encontrada, de modo que sub esteja contida em S[start:end]. \n",
    "\n",
    "Semelhante a find(), mas levanta um erro ValueError se não encontrar."
   ]
  },
  {
   "cell_type": "code",
   "execution_count": 44,
   "metadata": {},
   "outputs": [
    {
     "name": "stdout",
     "output_type": "stream",
     "text": [
      "The position of the substring is 4.\n"
     ]
    }
   ],
   "source": [
    "text: str = \"Hello, world!\"\n",
    "substring: str = \"o\"\n",
    "\n",
    "position: int = text.index(substring)\n",
    "\n",
    "print(f'The position of the substring is {position}.') "
   ]
  },
  {
   "cell_type": "markdown",
   "metadata": {},
   "source": [
    "### .rindex( )\n",
    "\n",
    "Retorna o índice mais alto em S onde a substring sub é encontrada, de modo que sub esteja contida em S[start:end]. Igual ao index(), mas começa a busca pelo final."
   ]
  },
  {
   "cell_type": "code",
   "execution_count": 45,
   "metadata": {},
   "outputs": [
    {
     "name": "stdout",
     "output_type": "stream",
     "text": [
      "The position of the substring is 8.\n"
     ]
    }
   ],
   "source": [
    "text: str = \"Hello, world!\"\n",
    "substring: str = \"o\"\n",
    "\n",
    "position: int = text.rindex(substring)\n",
    "\n",
    "print(f'The position of the substring is {position}.') "
   ]
  },
  {
   "cell_type": "markdown",
   "metadata": {},
   "source": [
    "## Retornos booleanos nas Strings"
   ]
  },
  {
   "cell_type": "markdown",
   "metadata": {},
   "source": [
    "### .islnum( )\n",
    "\n",
    "Retorna True se a string for uma string alfanumérica, False caso contrário.\n",
    "\n",
    "Uma string é alfanumérica se todos os caracteres na string forem alfanuméricos e houver pelo menos um caractere na string."
   ]
  },
  {
   "cell_type": "code",
   "execution_count": 46,
   "metadata": {},
   "outputs": [
    {
     "name": "stdout",
     "output_type": "stream",
     "text": [
      "True\n"
     ]
    }
   ],
   "source": [
    "text: str = \"Hello123\"\n",
    "result: bool = text.isalnum()\n",
    "\n",
    "print(result)"
   ]
  },
  {
   "cell_type": "code",
   "execution_count": 47,
   "metadata": {},
   "outputs": [
    {
     "name": "stdout",
     "output_type": "stream",
     "text": [
      "False\n"
     ]
    }
   ],
   "source": [
    "print(\"★\".isalnum())"
   ]
  },
  {
   "cell_type": "markdown",
   "metadata": {},
   "source": [
    "### .isalpha( )\n",
    "\n",
    "Retorna True se a string for uma string alfabética, False caso contrário.\n",
    "\n",
    "Uma string é alfabética se todos os caracteres na string forem alfabéticos e houver pelo menos um caractere na string."
   ]
  },
  {
   "cell_type": "code",
   "execution_count": 48,
   "metadata": {},
   "outputs": [
    {
     "name": "stdout",
     "output_type": "stream",
     "text": [
      "True\n"
     ]
    }
   ],
   "source": [
    "text: str = \"Hello\"\n",
    "\n",
    "result: bool = text.isalpha()\n",
    "\n",
    "print(result) "
   ]
  },
  {
   "cell_type": "code",
   "execution_count": 49,
   "metadata": {},
   "outputs": [
    {
     "name": "stdout",
     "output_type": "stream",
     "text": [
      "False\n"
     ]
    }
   ],
   "source": [
    "print(\"1\".isalpha())"
   ]
  },
  {
   "cell_type": "markdown",
   "metadata": {},
   "source": [
    "### .isascii( )\n",
    "\n",
    "Retorna True se todos os caracteres na string forem ASCII, False caso contrário.\n",
    "\n",
    "Caracteres ASCII têm pontos de código no intervalo U+0000-U+007F. String vazia também é ASCII."
   ]
  },
  {
   "cell_type": "code",
   "execution_count": 50,
   "metadata": {},
   "outputs": [
    {
     "name": "stdout",
     "output_type": "stream",
     "text": [
      "True\n"
     ]
    }
   ],
   "source": [
    "text: str = \"Hello!\"\n",
    "\n",
    "result: bool = text.isascii()\n",
    "\n",
    "print(result)  # Output: True"
   ]
  },
  {
   "cell_type": "code",
   "execution_count": 51,
   "metadata": {},
   "outputs": [
    {
     "name": "stdout",
     "output_type": "stream",
     "text": [
      "False\n"
     ]
    }
   ],
   "source": [
    "print(\"★\".isascii())"
   ]
  },
  {
   "cell_type": "markdown",
   "metadata": {},
   "source": [
    "### .isdecimal( )\n",
    "\n",
    "Retorna True se a string for uma string decimal, False caso contrário.\n",
    "\n",
    "Uma string é uma string decimal se todos os caracteres na string forem decimais e houver pelo menos um caractere na string."
   ]
  },
  {
   "cell_type": "code",
   "execution_count": 52,
   "metadata": {},
   "outputs": [
    {
     "name": "stdout",
     "output_type": "stream",
     "text": [
      "True\n"
     ]
    }
   ],
   "source": [
    "text: str = \"12345\"\n",
    "\n",
    "result: bool = text.isdecimal()\n",
    "\n",
    "print(result) "
   ]
  },
  {
   "cell_type": "code",
   "execution_count": 53,
   "metadata": {},
   "outputs": [
    {
     "name": "stdout",
     "output_type": "stream",
     "text": [
      "False\n"
     ]
    }
   ],
   "source": [
    "print(\"room n° 1\".isdecimal())"
   ]
  },
  {
   "cell_type": "markdown",
   "metadata": {},
   "source": [
    "### .isdigit( )\n",
    "\n",
    "Retorna True se a string for uma string de dígitos, False caso contrário.\n",
    "\n",
    "Uma string é uma string de dígitos se todos os caracteres na string forem dígitos e houver pelo menos um caractere na string."
   ]
  },
  {
   "cell_type": "code",
   "execution_count": 54,
   "metadata": {},
   "outputs": [
    {
     "name": "stdout",
     "output_type": "stream",
     "text": [
      "True\n"
     ]
    }
   ],
   "source": [
    "text: str = \"12345\"\n",
    "\n",
    "result: bool = text.isdecimal()\n",
    "\n",
    "print(result)"
   ]
  },
  {
   "cell_type": "code",
   "execution_count": 55,
   "metadata": {},
   "outputs": [
    {
     "name": "stdout",
     "output_type": "stream",
     "text": [
      "False\n"
     ]
    }
   ],
   "source": [
    "print(\"number\".isdigit())"
   ]
  },
  {
   "cell_type": "markdown",
   "metadata": {},
   "source": [
    "### .isidentifier( )\n",
    "\n",
    "Retorna True se a string for um identificador Python válido, False caso contrário."
   ]
  },
  {
   "cell_type": "code",
   "execution_count": 56,
   "metadata": {},
   "outputs": [
    {
     "name": "stdout",
     "output_type": "stream",
     "text": [
      "True\n"
     ]
    }
   ],
   "source": [
    "text: str = \"variable_name\"\n",
    "\n",
    "result: bool = text.isidentifier()\n",
    "\n",
    "print(result)  "
   ]
  },
  {
   "cell_type": "markdown",
   "metadata": {},
   "source": [
    "### .islower( )\n",
    "\n",
    "Retorna True se a string for uma string minúscula, False caso contrário.\n",
    "\n",
    "Uma string é minúscula se todos os caracteres casados ​​na string forem minúsculos e houver pelo menos um caractere correspondente na string."
   ]
  },
  {
   "cell_type": "code",
   "execution_count": 57,
   "metadata": {},
   "outputs": [
    {
     "name": "stdout",
     "output_type": "stream",
     "text": [
      "True\n"
     ]
    }
   ],
   "source": [
    "text: str = \"hello\"\n",
    "\n",
    "result: bool = text.islower()\n",
    "\n",
    "print(result)"
   ]
  },
  {
   "cell_type": "code",
   "execution_count": 58,
   "metadata": {},
   "outputs": [
    {
     "name": "stdout",
     "output_type": "stream",
     "text": [
      "False\n"
     ]
    }
   ],
   "source": [
    "text: str = \"Hello\"\n",
    "\n",
    "result: bool = text.islower()\n",
    "\n",
    "print(result)"
   ]
  },
  {
   "cell_type": "markdown",
   "metadata": {},
   "source": [
    "### .isnumeric( )\n",
    "Retorna True se a string for uma string numérica, False caso contrário.\n",
    "\n",
    "Uma string é numérica se todos os caracteres na string forem numéricos e houver pelo menos um caractere na string.\n"
   ]
  },
  {
   "cell_type": "code",
   "execution_count": 59,
   "metadata": {},
   "outputs": [
    {
     "name": "stdout",
     "output_type": "stream",
     "text": [
      "True\n"
     ]
    }
   ],
   "source": [
    "text: str = \"12345\"\n",
    "\n",
    "result: bool = text.isnumeric()\n",
    "\n",
    "print(result)"
   ]
  },
  {
   "cell_type": "markdown",
   "metadata": {},
   "source": [
    "### .isprintable( )\n",
    "\n",
    "Retorna True se a string for imprimível, False caso contrário.\n",
    "\n",
    "Uma string é imprimível se todos os seus caracteres forem considerados imprimíveis em repr( ) ou se estiver vazia."
   ]
  },
  {
   "cell_type": "code",
   "execution_count": 60,
   "metadata": {},
   "outputs": [
    {
     "name": "stdout",
     "output_type": "stream",
     "text": [
      "True\n"
     ]
    }
   ],
   "source": [
    "text: str = \"Hello, world!\"\n",
    "\n",
    "result: bool = text.isprintable()\n",
    "\n",
    "print(result)"
   ]
  },
  {
   "cell_type": "markdown",
   "metadata": {},
   "source": [
    "### .isspace( )\n",
    "\n",
    "Retorna True se a string for uma string de espaço em branco, False caso contrário.\n",
    "\n",
    "Uma string é espaço em branco se todos os caracteres na string forem espaços em branco e houver pelo menos um caractere na string"
   ]
  },
  {
   "cell_type": "code",
   "execution_count": 61,
   "metadata": {},
   "outputs": [
    {
     "name": "stdout",
     "output_type": "stream",
     "text": [
      "True\n"
     ]
    }
   ],
   "source": [
    "text: str = \"   \"\n",
    "\n",
    "result: bool = text.isspace()\n",
    "\n",
    "print(result) "
   ]
  },
  {
   "cell_type": "code",
   "execution_count": 62,
   "metadata": {},
   "outputs": [
    {
     "name": "stdout",
     "output_type": "stream",
     "text": [
      "False\n"
     ]
    }
   ],
   "source": [
    "text: str = \"Gabriel\"\n",
    "\n",
    "result: bool = text.isspace()\n",
    "\n",
    "print(result) "
   ]
  },
  {
   "cell_type": "markdown",
   "metadata": {},
   "source": [
    "### .istitle( )\n",
    "\n",
    "Retorna True se a string for uma string com caixa de título, False caso contrário. \n",
    "\n",
    "Em uma string com caixa de título, caracteres maiúsculos e de caixa de título podem apenas siga caracteres não maiúsculos e minúsculos somente os casados."
   ]
  },
  {
   "cell_type": "code",
   "execution_count": 63,
   "metadata": {},
   "outputs": [
    {
     "name": "stdout",
     "output_type": "stream",
     "text": [
      "True\n"
     ]
    }
   ],
   "source": [
    "text: str = \"Hello World\"\n",
    "\n",
    "result: bool = text.istitle()\n",
    "\n",
    "print(result) "
   ]
  },
  {
   "cell_type": "code",
   "execution_count": 64,
   "metadata": {},
   "outputs": [
    {
     "name": "stdout",
     "output_type": "stream",
     "text": [
      "False\n"
     ]
    }
   ],
   "source": [
    "text: str = \"Hello world\"\n",
    "\n",
    "result: bool = text.istitle()\n",
    "\n",
    "print(result)"
   ]
  },
  {
   "cell_type": "markdown",
   "metadata": {},
   "source": [
    "### .isupper( )\n",
    "\n",
    "Retorna True se a string for uma string maiúscula, False caso contrário.\n",
    "\n",
    "Uma string é maiúscula se todos os caracteres casados ​​na string forem maiúsculos e houver pelo menos um caractere correspondente na string."
   ]
  },
  {
   "cell_type": "code",
   "execution_count": 65,
   "metadata": {},
   "outputs": [
    {
     "name": "stdout",
     "output_type": "stream",
     "text": [
      "True\n"
     ]
    }
   ],
   "source": [
    "text: str = \"HELLO\"\n",
    "\n",
    "result: bool = text.isupper()\n",
    "\n",
    "print(result)  # Output: True"
   ]
  },
  {
   "cell_type": "code",
   "execution_count": 66,
   "metadata": {},
   "outputs": [
    {
     "name": "stdout",
     "output_type": "stream",
     "text": [
      "False\n"
     ]
    }
   ],
   "source": [
    "print(\"GABRIEl\".isupper())"
   ]
  },
  {
   "cell_type": "markdown",
   "metadata": {},
   "source": [
    "### .endswith( )\n",
    "\n",
    "Retorna True se a string termina com o sufixo especificado, False caso contrário."
   ]
  },
  {
   "cell_type": "code",
   "execution_count": 67,
   "metadata": {},
   "outputs": [
    {
     "name": "stdout",
     "output_type": "stream",
     "text": [
      "True\n"
     ]
    }
   ],
   "source": [
    "text: str = \"Hello, world!\"\n",
    "suffix: str = \"world!\"\n",
    "\n",
    "result: bool = text.endswith(suffix)\n",
    "\n",
    "print(result) "
   ]
  },
  {
   "cell_type": "markdown",
   "metadata": {},
   "source": [
    "### .startswith( )\n",
    "\n",
    "Retorna True se a string termina com o prefixo especificado, False caso contrário."
   ]
  },
  {
   "cell_type": "code",
   "execution_count": 68,
   "metadata": {},
   "outputs": [
    {
     "name": "stdout",
     "output_type": "stream",
     "text": [
      "True\n"
     ]
    }
   ],
   "source": [
    "text: str = \"Hello, world!\"\n",
    "prefix: str = \"Hello\"\n",
    "\n",
    "result: bool = text.startswith(prefix)\n",
    "\n",
    "print(result) "
   ]
  },
  {
   "cell_type": "markdown",
   "metadata": {},
   "source": [
    "### .casefold( )\n",
    "\n",
    "Retorna uma versão da string adequada para comparações sem distinção de maiúsculas e minúsculas."
   ]
  },
  {
   "cell_type": "code",
   "execution_count": 69,
   "metadata": {},
   "outputs": [
    {
     "name": "stdout",
     "output_type": "stream",
     "text": [
      "True\n"
     ]
    }
   ],
   "source": [
    "text1: str = \"Hello\"\n",
    "text2: str = \"hello\"\n",
    "\n",
    "result: bool = text1.casefold() == text2.casefold()\n",
    "\n",
    "print(result)  \n"
   ]
  },
  {
   "cell_type": "markdown",
   "metadata": {},
   "source": [
    "## Codificação e Translação"
   ]
  },
  {
   "cell_type": "markdown",
   "metadata": {},
   "source": [
    "### .encode( )\n",
    "\n",
    "Codifique a string usando o codec registrado para codificação.\n",
    "\n",
    "codificação: A codificação na qual codificar a string.\n",
    "\n",
    "erros: O esquema de tratamento de erros a ser usado para erros de codificação.\n",
    "\n",
    "O padrão é 'strict', o que significa que erros de codificação geram um UnicodeEncodeError. Outros valores possíveis são 'ignore', 'replace' e 'xmlcharrefreplace', bem como qualquer outro nome registrado com codecs.register_error que pode manipular UnicodeEncodeError"
   ]
  },
  {
   "cell_type": "code",
   "execution_count": 70,
   "metadata": {},
   "outputs": [
    {
     "name": "stdout",
     "output_type": "stream",
     "text": [
      "b'Caf\\xc3\\xa9'\n"
     ]
    }
   ],
   "source": [
    "text: str = \"Café\"\n",
    "\n",
    "encoded_text: bytes = text.encode(\"utf-8\")\n",
    "\n",
    "print(encoded_text)"
   ]
  },
  {
   "cell_type": "markdown",
   "metadata": {},
   "source": [
    "## .maketrans( ) e translate( )\n",
    "\n",
    "Substitua cada caractere na string usando a tabela de tradução fornecida (utilizando uma dicionário pelo método maketrans).\n"
   ]
  },
  {
   "cell_type": "code",
   "execution_count": 71,
   "metadata": {},
   "outputs": [
    {
     "name": "stdout",
     "output_type": "stream",
     "text": [
      "HELLO wOrLd\n"
     ]
    }
   ],
   "source": [
    "text: str = \"hello world\"\n",
    "trans_table: dict[int, int] = str.maketrans(\"helo\", \"HELO\")\n",
    "\n",
    "translated_text: str = text.translate(trans_table)\n",
    "\n",
    "print(translated_text) "
   ]
  },
  {
   "cell_type": "markdown",
   "metadata": {},
   "source": [
    "---"
   ]
  }
 ],
 "metadata": {
  "kernelspec": {
   "display_name": "Python 3",
   "language": "python",
   "name": "python3"
  },
  "language_info": {
   "codemirror_mode": {
    "name": "ipython",
    "version": 3
   },
   "file_extension": ".py",
   "mimetype": "text/x-python",
   "name": "python",
   "nbconvert_exporter": "python",
   "pygments_lexer": "ipython3",
   "version": "3.13.2"
  }
 },
 "nbformat": 4,
 "nbformat_minor": 2
}
