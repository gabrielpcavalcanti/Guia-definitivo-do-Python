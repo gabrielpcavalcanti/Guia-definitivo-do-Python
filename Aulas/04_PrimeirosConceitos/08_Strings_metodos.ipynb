{
 "cells": [
  {
   "cell_type": "markdown",
   "metadata": {},
   "source": [
    "# Métodos das Strings"
   ]
  },
  {
   "cell_type": "markdown",
   "metadata": {},
   "source": [
    "Métodos são funções dentro de classes. A maioria, se não todos, os elementos que vimos até agora são classes no Python. \n",
    "\n",
    "Para acessar os métodos, utilizamos a notação ponto. Após o objeto de determinada classe, colocamos o símbolo de ponto e assim abre acesso a diversas funcionalidade que a classe possui. \n",
    "\n",
    "Já fizemos com o .format( ) e vamos ver todos os outros tipos agora. Para vizualizar os métodos existentes, utilizaoms o dir( )."
   ]
  },
  {
   "cell_type": "code",
   "execution_count": null,
   "metadata": {},
   "outputs": [
    {
     "name": "stdout",
     "output_type": "stream",
     "text": [
      "['__add__', '__class__', '__contains__', '__delattr__', '__dir__', '__doc__', '__eq__', '__format__', '__ge__', '__getattribute__', '__getitem__', '__getnewargs__', '__getstate__', '__gt__', '__hash__', '__init__', '__init_subclass__', '__iter__', '__le__', '__len__', '__lt__', '__mod__', '__mul__', '__ne__', '__new__', '__reduce__', '__reduce_ex__', '__repr__', '__rmod__', '__rmul__', '__setattr__', '__sizeof__', '__str__', '__subclasshook__', 'capitalize', 'casefold', 'center', 'count', 'encode', 'endswith', 'expandtabs', 'find', 'format', 'format_map', 'index', 'isalnum', 'isalpha', 'isascii', 'isdecimal', 'isdigit', 'isidentifier', 'islower', 'isnumeric', 'isprintable', 'isspace', 'istitle', 'isupper', 'join', 'ljust', 'lower', 'lstrip', 'maketrans', 'partition', 'removeprefix', 'removesuffix', 'replace', 'rfind', 'rindex', 'rjust', 'rpartition', 'rsplit', 'rstrip', 'split', 'splitlines', 'startswith', 'strip', 'swapcase', 'title', 'translate', 'upper', 'zfill']\n"
     ]
    }
   ],
   "source": [
    "print(dir(\"any_string\"))"
   ]
  },
  {
   "cell_type": "markdown",
   "metadata": {},
   "source": [
    "Para deixar eles mais visivel, coloqeui os métodos embaixo. "
   ]
  },
  {
   "cell_type": "code",
   "execution_count": null,
   "metadata": {},
   "outputs": [],
   "source": [
    "['__add__', '__class__', '__contains__', '__delattr__', '__dir__', '__doc__', '__eq__', '__format__', '__ge__', '__getattribute__', '__getitem__', '__getnewargs__', '__getstate__', '__gt__', '__hash__', '__init__', '__init_subclass__', '__iter__', '__le__', '__len__', '__lt__', '__mod__', '__mul__', '__ne__', '__new__', '__reduce__', '__reduce_ex__', '__repr__', '__rmod__', '__rmul__', '__setattr__', '__sizeof__', '__str__', '__subclasshook__', 'capitalize', 'casefold', 'center', 'count', 'encode', 'endswith', 'expandtabs', 'find', 'format', 'format_map', 'index', 'isalnum', 'isalpha', 'isascii', 'isdecimal', 'isdigit', 'isidentifier', 'islower', 'isnumeric', 'isprintable', 'isspace', 'istitle', 'isupper', 'join', 'ljust', 'lower', 'lstrip', 'maketrans', 'partition', 'removeprefix', 'removesuffix', 'replace', 'rfind', 'rindex', 'rjust', 'rpartition', 'rsplit', 'rstrip', 'split', 'splitlines', 'startswith', 'strip', 'swapcase', 'title', 'translate', 'upper', 'zfill']"
   ]
  },
  {
   "cell_type": "code",
   "execution_count": null,
   "metadata": {},
   "outputs": [],
   "source": [
    "\"\"\" isalnum', 'isalpha', 'isascii', 'isdecimal', 'isdigit', 'isidentifier', 'islower', 'isnumeric', 'isprintable', 'isspace', 'istitle', 'isupper', 'endswith', 'casefold', startswith' \"\"\" -> booleanos (5)\n",
    "\n",
    "\"\"\"count \"\"\" -> regex (3)\n",
    "\n",
    "\"\"\" find, 'index, 'rindex', 'partition', 'rfind', 'rpartition', removeprefix', 'removesuffix',  'splitlines' \"\"\" -> modificaçao (2)\n",
    "\n",
    "\"\"\"encode, 'expandtabs', \"\"\" -> nao sei (7)\n",
    "\n",
    "\"\"\"center, format, 'format_map', 'ljust', 'rjust', 'zfill' \"\"\" -> formatar (4)\n",
    "\n",
    "\"\"\"'maketrans', 'translate'\"\"\" -> outros (6)"
   ]
  },
  {
   "cell_type": "markdown",
   "metadata": {},
   "source": [
    "## Indice\n",
    "\n",
    "colocar um incide quando acabar"
   ]
  },
  {
   "cell_type": "markdown",
   "metadata": {},
   "source": [
    "Existem 47 métodos das strings se retirarmos os dunder methods, veremos cada um deles agora. "
   ]
  },
  {
   "cell_type": "markdown",
   "metadata": {},
   "source": [
    "## Primeiros métodos"
   ]
  },
  {
   "cell_type": "markdown",
   "metadata": {},
   "source": [
    "### title\n",
    "\n",
    "Retorna uma versão da cadeia de caracteres em que cada palavra está em maiúsculas. Mais especificamente, as palavras começam com caracteres em maiúsculas e todos os demais caracteres em minúsculas."
   ]
  },
  {
   "cell_type": "code",
   "execution_count": 13,
   "metadata": {},
   "outputs": [
    {
     "name": "stdout",
     "output_type": "stream",
     "text": [
      "Hello Everyone\n",
      "I Am Happy!!!\n",
      "This Is A Sring\n",
      "My Company\n"
     ]
    }
   ],
   "source": [
    "company_name: str = \"My COMpaNY\"\n",
    "\n",
    "print(\"HELLO EVERYONE\".title())\n",
    "print(\"i am happy!!!\".title())\n",
    "print(\"this is a Sring\".title())\n",
    "print(company_name.title())"
   ]
  },
  {
   "cell_type": "markdown",
   "metadata": {},
   "source": [
    "### capitalize\n",
    "\n",
    "Retorna uma versão em maiúsculas da cadeia de caracteres. Mais especificamente, faça com que o primeiro caractere tenha letras maiúsculas e os demais letras minúsculas."
   ]
  },
  {
   "cell_type": "code",
   "execution_count": 14,
   "metadata": {},
   "outputs": [
    {
     "name": "stdout",
     "output_type": "stream",
     "text": [
      "Hello everyone\n",
      "I am happy!!!\n",
      "This is a sring\n",
      "My company\n"
     ]
    }
   ],
   "source": [
    "company_name: str = \"My COMpaNY\"\n",
    "\n",
    "print(\"HELLO EVERYONE\".capitalize())\n",
    "print(\"i am happy!!!\".capitalize())\n",
    "print(\"this is a Sring\".capitalize())\n",
    "print(company_name.capitalize())\n"
   ]
  },
  {
   "cell_type": "markdown",
   "metadata": {},
   "source": [
    "### upper\n",
    "\n",
    "Retorna uma cópia da cadeia de caracteres convertida em maiúsculas."
   ]
  },
  {
   "cell_type": "code",
   "execution_count": 17,
   "metadata": {},
   "outputs": [
    {
     "name": "stdout",
     "output_type": "stream",
     "text": [
      "HELLO EVERYONE\n",
      "I AM HAPPY!!!\n",
      "THIS IS A SRING\n",
      "MY COMPANY\n"
     ]
    }
   ],
   "source": [
    "company_name: str = \"My COMpaNY\"\n",
    "\n",
    "print(\"HELLO EVERYONE\".upper())\n",
    "print(\"i am happy!!!\".upper())\n",
    "print(\"this is a Sring\".upper())\n",
    "print(company_name.upper())\n"
   ]
  },
  {
   "cell_type": "markdown",
   "metadata": {},
   "source": [
    "### lower\n",
    "\n",
    "Retorna uma cópia da cadeia de caracteres convertida em letras minúsculas."
   ]
  },
  {
   "cell_type": "code",
   "execution_count": 18,
   "metadata": {},
   "outputs": [
    {
     "name": "stdout",
     "output_type": "stream",
     "text": [
      "hello everyone\n",
      "i am happy!!!\n",
      "this is a sring\n",
      "my company\n"
     ]
    }
   ],
   "source": [
    "company_name: str = \"My COMpaNY\"\n",
    "\n",
    "print(\"HELLO EVERYONE\".lower())\n",
    "print(\"i am happy!!!\".lower())\n",
    "print(\"this is a Sring\".lower())\n",
    "print(company_name.lower())"
   ]
  },
  {
   "cell_type": "markdown",
   "metadata": {},
   "source": [
    "### swapcase\n",
    "\n",
    "Converta caracteres maiúsculos em minúsculos e caracteres minúsculos em maiúsculos."
   ]
  },
  {
   "cell_type": "code",
   "execution_count": 19,
   "metadata": {},
   "outputs": [
    {
     "name": "stdout",
     "output_type": "stream",
     "text": [
      "hello everyone\n",
      "I AM HAPPY!!!\n",
      "THIS IS A sRING\n",
      "mY comPAny\n"
     ]
    }
   ],
   "source": [
    "company_name: str = \"My COMpaNY\"\n",
    "\n",
    "print(\"HELLO EVERYONE\".swapcase())\n",
    "print(\"i am happy!!!\".swapcase())\n",
    "print(\"this is a Sring\".swapcase())\n",
    "print(company_name.swapcase())"
   ]
  },
  {
   "cell_type": "markdown",
   "metadata": {},
   "source": [
    "## Modificações nas Strings"
   ]
  },
  {
   "cell_type": "markdown",
   "metadata": {},
   "source": [
    "### join"
   ]
  },
  {
   "cell_type": "markdown",
   "metadata": {},
   "source": [
    "### replace"
   ]
  },
  {
   "cell_type": "markdown",
   "metadata": {},
   "source": [
    "### strip"
   ]
  },
  {
   "cell_type": "markdown",
   "metadata": {},
   "source": [
    "### rstrip"
   ]
  },
  {
   "cell_type": "markdown",
   "metadata": {},
   "source": [
    "### lstrip"
   ]
  },
  {
   "cell_type": "markdown",
   "metadata": {},
   "source": [
    "### split"
   ]
  },
  {
   "cell_type": "markdown",
   "metadata": {},
   "source": [
    "### rsplit"
   ]
  },
  {
   "cell_type": "markdown",
   "metadata": {},
   "source": [
    "---"
   ]
  },
  {
   "cell_type": "markdown",
   "metadata": {},
   "source": [
    "### count\n",
    "\n",
    "Retorna o número de ocorrências não sobrepostas da substring sub na string S[start:end]. Os argumentos opcionais start e end são interpretados como na notação de fatia."
   ]
  },
  {
   "cell_type": "code",
   "execution_count": 15,
   "metadata": {},
   "outputs": [
    {
     "name": "stdout",
     "output_type": "stream",
     "text": [
      "The word 'Python' appears 2 times.\n"
     ]
    }
   ],
   "source": [
    "text = \"Python is amazing! Python is powerful!\"\n",
    "\n",
    "count = text.count(\"Python\")\n",
    "\n",
    "print(f\"The word 'Python' appears {count} times.\")\n"
   ]
  },
  {
   "cell_type": "code",
   "execution_count": 16,
   "metadata": {},
   "outputs": [
    {
     "name": "stdout",
     "output_type": "stream",
     "text": [
      "'pineapple' appears 1 times in the first 10 characters.\n"
     ]
    }
   ],
   "source": [
    "sentence = \"pineapple, avocado, pineapple\"\n",
    "\n",
    "count = sentence.count(\"pineapple\", 0, 10)\n",
    "\n",
    "print(f\"'pineapple' appears {count} times in the first 10 characters.\")\n"
   ]
  }
 ],
 "metadata": {
  "kernelspec": {
   "display_name": "Python 3",
   "language": "python",
   "name": "python3"
  },
  "language_info": {
   "codemirror_mode": {
    "name": "ipython",
    "version": 3
   },
   "file_extension": ".py",
   "mimetype": "text/x-python",
   "name": "python",
   "nbconvert_exporter": "python",
   "pygments_lexer": "ipython3",
   "version": "3.13.2"
  }
 },
 "nbformat": 4,
 "nbformat_minor": 2
}
