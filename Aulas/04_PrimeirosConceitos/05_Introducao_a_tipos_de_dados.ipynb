{
 "cells": [
  {
   "cell_type": "markdown",
   "metadata": {},
   "source": [
    "# Introdução a tipo de dados "
   ]
  },
  {
   "cell_type": "markdown",
   "metadata": {},
   "source": [
    "Já vimos os principais tipos de dados na aula anterior. Aqui vamos ver com detalhes os tipos int, float e os booleanos.  "
   ]
  },
  {
   "cell_type": "markdown",
   "metadata": {},
   "source": [
    "## Tipo inteiro\n",
    "\n",
    "Como o próprio nome diz, são todos os números negativos, positivos sem a presença da casa decimal e o zero . Algumas linguagens de programação dividem em diversos tipos inteiros dependendo do tamanho deles, no Python não há. O tamanho do número só dependerá do tamanho da memória que o seu computador aguentar.\n",
    "\n"
   ]
  },
  {
   "cell_type": "code",
   "execution_count": null,
   "metadata": {},
   "outputs": [],
   "source": [
    "interger_01: int = 1550\n",
    "max_value: int = 14\n",
    "min_valuemo: int = 3\n",
    "ALEATORY_CONSTANT: int = 1450234334"
   ]
  },
  {
   "cell_type": "markdown",
   "metadata": {},
   "source": [
    "Para facilitar a escrita de números grandes é possivel inserir _ a cada tres números."
   ]
  },
  {
   "cell_type": "code",
   "execution_count": null,
   "metadata": {},
   "outputs": [],
   "source": [
    "ALEATORY_CONSTANT_02: int = 123_543_664_323\n",
    "MILLION: int = 1_000_000"
   ]
  },
  {
   "cell_type": "markdown",
   "metadata": {},
   "source": [
    "## Tipo real\n",
    "\n",
    "Representa os núemros reais da matemática, ou seja, os que possuiem casas decimais. Podem ser positivos ou negativos. O nome do tipo em inglês é float.\n",
    "\n",
    "Como a linguagem segue o padrão americano, o separador decimal é o ponto. A vírgula possui outra função na linguagem, separação de argumentos na função, separação de elementos numa lista ou dicionário e na criação de truplas.\n",
    "\n",
    "Então cuidado nesse ponto, ao colocar uma vírgula você estará criando uma trupla e não dará erro na criação da variável, mas quando envolver operações so as de tupla funcionarão. Então certifique que está utilizando o ponto para criar números do tipo float. Usar type annotation previne que cometa esse erro."
   ]
  },
  {
   "cell_type": "code",
   "execution_count": null,
   "metadata": {},
   "outputs": [],
   "source": [
    "float_value: float = 14.5\n",
    "rate: float = 0.05"
   ]
  },
  {
   "cell_type": "markdown",
   "metadata": {},
   "source": [
    "Observações:"
   ]
  },
  {
   "cell_type": "markdown",
   "metadata": {},
   "source": [
    "- escrever 1 é interiro, mas 1.0 é float."
   ]
  },
  {
   "cell_type": "code",
   "execution_count": 2,
   "metadata": {},
   "outputs": [
    {
     "name": "stdout",
     "output_type": "stream",
     "text": [
      "<class 'int'>\n",
      "<class 'float'>\n"
     ]
    }
   ],
   "source": [
    "print(type(1))\n",
    "print(type(1.0))\n"
   ]
  },
  {
   "cell_type": "markdown",
   "metadata": {},
   "source": [
    "## Tipo Booleano\n",
    "\n",
    "É um tipo que possui apenas dois valores possível. Representa os valores lógicos verdadeiro ou falso (True ou False).\n",
    "\n",
    "Podemos criar variáveis contendo um desses valores.\n",
    "\n",
    "Observe que eles estão capitalizados, a letra inicial é maiúscula. No Python é escrito assim, mas em outras linguagens é diferente. Sempre fique atento a isso."
   ]
  },
  {
   "cell_type": "code",
   "execution_count": null,
   "metadata": {},
   "outputs": [],
   "source": [
    "bool_true: bool = True\n",
    "bool_false: bool = False"
   ]
  },
  {
   "cell_type": "markdown",
   "metadata": {},
   "source": [
    "Pode parecer pouco, mas é um dos tipos de dados mais importante. Com eles que o controle de fluxo e de tomada de decisão ocorre dentro de um código. Sempre estamos nos deparando com\n",
    "situações em que a resposta é verdadeira ou falsa e nos perguntamos o que pode ser feito a partir disso."
   ]
  },
  {
   "cell_type": "markdown",
   "metadata": {},
   "source": [
    "## Observações gerais\n",
    "\n",
    "- Como o Python é uma linguagem de tipagem dinâmica, o tipo dela pode variar durante o programa (fazemos isso atravéz do casting). Precisa ter cuidado em algumas trocas. Um número float ocnvertido para interiro, sempre vai perder as casas decimais e sobrar a parte iteira. Ele não vai arredondar."
   ]
  },
  {
   "cell_type": "code",
   "execution_count": null,
   "metadata": {},
   "outputs": [
    {
     "name": "stdout",
     "output_type": "stream",
     "text": [
      "4\n"
     ]
    }
   ],
   "source": [
    "melon_value_dolar: float = 4.69\n",
    "\n",
    "print(int(melon_value_dolar))"
   ]
  },
  {
   "cell_type": "markdown",
   "metadata": {},
   "source": [
    "- Como falado na outra aula, nem todo casting irá funcionar. Por exemplo, string para int ou float (a menos que seja um número); booleanos para qualquer outro tipo; "
   ]
  },
  {
   "cell_type": "markdown",
   "metadata": {},
   "source": [
    "---"
   ]
  }
 ],
 "metadata": {
  "kernelspec": {
   "display_name": "Python 3",
   "language": "python",
   "name": "python3"
  },
  "language_info": {
   "codemirror_mode": {
    "name": "ipython",
    "version": 3
   },
   "file_extension": ".py",
   "mimetype": "text/x-python",
   "name": "python",
   "nbconvert_exporter": "python",
   "pygments_lexer": "ipython3",
   "version": "3.13.2"
  }
 },
 "nbformat": 4,
 "nbformat_minor": 2
}
