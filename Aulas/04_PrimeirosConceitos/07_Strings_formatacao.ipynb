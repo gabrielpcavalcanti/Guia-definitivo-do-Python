{
 "cells": [
  {
   "cell_type": "markdown",
   "metadata": {},
   "source": [
    "# Strings - formatação de Strings"
   ]
  },
  {
   "cell_type": "markdown",
   "metadata": {},
   "source": [
    "Essa aula é dedicada apenas a formatação de strings. No Python existem diversas maneiras de formatar Strings, algumas mais interessantes que outras. \n",
    "\n",
    "Formatar strings significa inserir valores dentro de uma string de forma dinâmica, melhorando a legibilidade e organização do código.\n",
    "\n",
    "Como já foi dito na aula de padrões, sempre usaremos as f-strings, mas a titulo de curiosiade e para saber ler e entender código de outras pessoas, cada tipo será mostrado."
   ]
  },
  {
   "cell_type": "markdown",
   "metadata": {},
   "source": [
    "## f-strings\n",
    "\n",
    "É a melhor forma de formatar Strings no Python. É prático e fácil. Lembrando que está apenas disponível a partir da versão 3.6.\n",
    "\n",
    "Apenas colocamos o f antes da String, indicando que será formatada. Colocamos entre { } o nome da variavel que queremos colocar nessa posição e é isso. \n",
    "\n",
    "Ele não se limita a isso, podemos utilizar métodos também e fazer várias configurações."
   ]
  },
  {
   "cell_type": "code",
   "execution_count": null,
   "metadata": {},
   "outputs": [
    {
     "name": "stdout",
     "output_type": "stream",
     "text": [
      "Meu nome é Gabriel, tenho 26 anos de idade e meu peso é 61.3 kg\n"
     ]
    }
   ],
   "source": [
    "name: str = \"Gabriel\"\n",
    "age: int = 26\n",
    "weight_kg: float = 61.3\n",
    "\n",
    "print(f'Meu nome é {name}, tenho {age} anos de idade e meu peso é {weight_kg} kg')\n"
   ]
  },
  {
   "cell_type": "markdown",
   "metadata": {},
   "source": [
    "O legal também das f-strings é que podemos fazer diversas configurações dentro delas. A variedade é imensa.\n",
    "\n",
    "- Formatar os números: Assim como o primeira forma que vimos, podemos formatar os números de diversas formas. Algumas são mostradas abaixo."
   ]
  },
  {
   "cell_type": "code",
   "execution_count": 13,
   "metadata": {},
   "outputs": [
    {
     "name": "stdout",
     "output_type": "stream",
     "text": [
      "4\n",
      "4.2\n",
      "4.24\n",
      "4.240\n",
      "\n",
      "4.239840e+00\n",
      "4e+00\n",
      "4.240e+00\n",
      "423.98%\n",
      "\n",
      "000400\n",
      "\n",
      "1_000_000\n",
      "1,000,000\n",
      "\n",
      "10,456.16\n",
      "\n",
      "0x190\n",
      "0o620\n",
      "Ɛ\n",
      "0b110010000\n",
      "\n",
      "190\n",
      "0b1_1001_0000\n"
     ]
    }
   ],
   "source": [
    "int_number: int = 400\n",
    "float_number: float = 4.23984\n",
    "float_number_02: float = 10_456.156\n",
    "\n",
    "MILLION: int = 1_000_000\n",
    "\n",
    "# Casas decimais\n",
    "print(f'{float_number:.0f}')\n",
    "print(f'{float_number:.1f}')\n",
    "print(f'{float_number:.2f}')\n",
    "print(f'{float_number:.3f}\\n')\n",
    "\n",
    "# Notação científica e porcentágem\n",
    "print(f'{float_number:e}')\n",
    "print(f'{float_number:.0e}')\n",
    "print(f'{float_number:.3e}')\n",
    "print(f'{float_number:.2%}\\n')\n",
    "\n",
    "print(f'{int_number:06}\\n')  # Número de preenzimento \n",
    "\n",
    "# Visualização de números grandes\n",
    "print(f'{MILLION:_}')\n",
    "print(f'{MILLION:,}\\n')\n",
    "\n",
    "print(f'{float_number_02:,.2f}\\n')  # Combinações\n",
    "\n",
    "# Trandformaçãoes de bases\n",
    "print(f'{int_number:#x}')  # hexadecimal\n",
    "print(f'{int_number:#o}')  # octadecimal\n",
    "print(f'{int_number:c}')  # unicode\n",
    "print(f'{int_number:#b}\\n')  # binário\n",
    "\n",
    "print(f'{int_number:x}')  \n",
    "print(f'{int_number:#_b}')  \n"
   ]
  },
  {
   "cell_type": "markdown",
   "metadata": {},
   "source": [
    "- Alinhamento dentro da String: podemos colocar espaçamento antes, no meio ou depois da String e preencher com alguns simbolos, como #, $, |."
   ]
  },
  {
   "cell_type": "code",
   "execution_count": null,
   "metadata": {},
   "outputs": [
    {
     "name": "stdout",
     "output_type": "stream",
     "text": [
      "               Var: \n",
      "Var:                \n",
      "                   V\n",
      "Var:           \n",
      "       Var:         \n",
      "\n",
      "#####Var: \n",
      "Var: $$$$$$$$$$\n",
      "Var: ||||||||||\n"
     ]
    }
   ],
   "source": [
    "string_test: str = \"Var: \"\n",
    "int_number: int = 15\n",
    "\n",
    "print(f'{string_test:>20}')\n",
    "print(f'{string_test:<20}')\n",
    "print(f'{string_test:>20.1}')  # Colocando a \"precisão\" da String\n",
    "print(f'{string_test:{int_number}}')\n",
    "print(f'{string_test:^20}\\n')\n",
    "\n",
    "print(f'{string_test:#>10}')\n",
    "print(f'{string_test:$<15}')\n",
    "print(f'{string_test:|<15}')\n"
   ]
  },
  {
   "cell_type": "markdown",
   "metadata": {},
   "source": [
    "- Podemos parametrizar as f-strings. "
   ]
  },
  {
   "cell_type": "code",
   "execution_count": 7,
   "metadata": {},
   "outputs": [
    {
     "name": "stdout",
     "output_type": "stream",
     "text": [
      "C:\\Users\\user01\\documents\n",
      "      documents\n"
     ]
    }
   ],
   "source": [
    "folder: str = \"documents\"\n",
    "wight: str = \"15\"\n",
    "alignment: str = \">\"\n",
    "\n",
    "print(fr'C:\\Users\\user01\\{folder}')  # rawstring com f-string\n",
    "\n",
    "print(f'{folder:{alignment}{wight}}')\n"
   ]
  },
  {
   "cell_type": "markdown",
   "metadata": {},
   "source": [
    "- Um truque interessante: aparece a resposta da operação apenas usando o =."
   ]
  },
  {
   "cell_type": "code",
   "execution_count": 3,
   "metadata": {},
   "outputs": [
    {
     "name": "stdout",
     "output_type": "stream",
     "text": [
      "num_a + num_b = 14\n",
      "name='Gabriel'\n",
      "name.upper() = 'GABRIEL'\n"
     ]
    }
   ],
   "source": [
    "num_a: int = 5\n",
    "num_b: int = 9\n",
    "name: str = \"Gabriel\"\n",
    "\n",
    "print(f'{num_a + num_b = }')\n",
    "print(f'{name=}')\n",
    "print(f'{name.upper() = }')\n"
   ]
  },
  {
   "cell_type": "markdown",
   "metadata": {},
   "source": [
    "Ainda é possível fazer muito com f-strings, mas para mostrar aqui é preciso ter mais conhecimento. Quando eles forem apresentados, a f-string será apresentada junto."
   ]
  },
  {
   "cell_type": "markdown",
   "metadata": {},
   "source": [
    "## Forma do Python 2.x\n",
    "\n",
    "É a forma mais rudimentar que existe, lembra muito a linguagem C e está muito ultrapssado. Acho que hoje nunca mais verá isso, mas saiba que é possível.\n",
    "\n",
    "utilizamos o caracter % para determinar qual tipo de dado vai para o string: \n",
    "\n",
    "| Formato  | Descrição                              |\n",
    "|----------|----------------------------------------|\n",
    "| `%s`     | String                                |\n",
    "| `%d`     | Inteiro                               |\n",
    "| `%f`     | Float                                 |\n",
    "| `%.2f`   | Float com duas casas decimais        |\n"
   ]
  },
  {
   "cell_type": "code",
   "execution_count": 4,
   "metadata": {},
   "outputs": [
    {
     "name": "stdout",
     "output_type": "stream",
     "text": [
      "Meu nome é Gabriel, tenho 26 anos de idade e meu peso é 61.3 kg\n"
     ]
    }
   ],
   "source": [
    "name: str = \"Gabriel\"\n",
    "age: int = 26\n",
    "weight_kg: float = 61.3\n",
    "\n",
    "print(\"Meu nome é %s, tenho %d anos de idade e meu peso é %.1f kg\" % (name, age, weight_kg))"
   ]
  },
  {
   "cell_type": "markdown",
   "metadata": {},
   "source": [
    "### .formt( )\n",
    "\n",
    "É o primeiro método que vamos ver nesse curso e ele utiliza a notação ponto. Vamos ver na aula que vem com mais detalhe.\n",
    "\n",
    "Ainda surgiu no Python 2.x, mas especificamente no Python 2.7. \n",
    "\n",
    "Ele é se assemelha muito com f-strings, mas é um pouquinho menos prático. "
   ]
  },
  {
   "cell_type": "code",
   "execution_count": 35,
   "metadata": {},
   "outputs": [
    {
     "name": "stdout",
     "output_type": "stream",
     "text": [
      "Meu nome é Gabriel, tenho 26 anos de idade e meu peso é 61.3 kg\n"
     ]
    }
   ],
   "source": [
    "name: str = \"Gabriel\"\n",
    "age: int = 26\n",
    "weight_kg: float = 61.3\n",
    "\n",
    "print(\"Meu nome é {}, tenho {} anos de idade e meu peso é {} kg\".format(name, age, weight_kg))"
   ]
  },
  {
   "cell_type": "markdown",
   "metadata": {},
   "source": [
    "### Cocatenação com o +\n",
    "\n",
    "Sempre Existiu no Python, é pior que a anterior, muito chato de escreve, já que tem que abrir e fechar aspas o tempo todo, colocar + entre as Strings, fazer casting nos outros tipos de dados para Strings e cuidar dos espaçoes entre as Strings, se não elas ficam \"grudadas\"."
   ]
  },
  {
   "cell_type": "code",
   "execution_count": 12,
   "metadata": {},
   "outputs": [
    {
     "name": "stdout",
     "output_type": "stream",
     "text": [
      "Meu nome é Gabriel, tenho 26 anos de idade e meu peso é 61.3 kg\n"
     ]
    }
   ],
   "source": [
    "name: str = \"Gabriel\"\n",
    "age: int = 26\n",
    "weight_kg: float = 61.3\n",
    "\n",
    "print(\"Meu nome é \" + name + \", tenho \" + str(age) + \" anos de idade e meu peso é \" + str(weight_kg) + \" kg\")"
   ]
  },
  {
   "cell_type": "markdown",
   "metadata": {},
   "source": [
    "### Cocatenação com a ,\n",
    "\n",
    "Sempre existiu no Python, é mais simples que a com +, mas não vale a pena utilizar mesmo assim. Ainda tem todos os problemas, com exceção do casting e da separação das Strings."
   ]
  },
  {
   "cell_type": "code",
   "execution_count": 22,
   "metadata": {},
   "outputs": [
    {
     "name": "stdout",
     "output_type": "stream",
     "text": [
      "Meu nome é Gabriel tenho 26 anos de idade e meu peso é 61.3 kg\n"
     ]
    }
   ],
   "source": [
    "name: str = \"Gabriel\"\n",
    "age: int = 26\n",
    "weight_kg: float = 61.3\n",
    "\n",
    "print(\"Meu nome é\", name, \"tenho\", age, \"anos de idade e meu peso é\", weight_kg, \"kg\")"
   ]
  },
  {
   "cell_type": "markdown",
   "metadata": {},
   "source": [
    "---"
   ]
  }
 ],
 "metadata": {
  "kernelspec": {
   "display_name": "Python 3",
   "language": "python",
   "name": "python3"
  },
  "language_info": {
   "codemirror_mode": {
    "name": "ipython",
    "version": 3
   },
   "file_extension": ".py",
   "mimetype": "text/x-python",
   "name": "python",
   "nbconvert_exporter": "python",
   "pygments_lexer": "ipython3",
   "version": "3.13.2"
  }
 },
 "nbformat": 4,
 "nbformat_minor": 2
}
