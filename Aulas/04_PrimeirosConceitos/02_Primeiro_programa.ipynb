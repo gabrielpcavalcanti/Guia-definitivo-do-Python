{
 "cells": [
  {
   "cell_type": "markdown",
   "metadata": {},
   "source": [
    "# Primeiro programa em Python"
   ]
  },
  {
   "cell_type": "markdown",
   "metadata": {},
   "source": [
    "Até agora vimos apenas três comandos pelo terminal interativo do Python. Nesse arquivo vou ensinar a criar o primeiro Script em Python e nos livrarmos da maldição das linguagens de programação.\n",
    "\n",
    "## Scripts em Python\n",
    "\n",
    "Um script é um arquivo de código que contém instruções a serem executadas sequencialmente por um interpretador. Diferente de programas compilados, um script é geralmente interpretado linha por linha em tempo de execução.\n",
    "\n",
    "Todo arquivo que contém um Script em Python tem a extenção .py. É isso que faz o interpretador entender que aquilo é referente ao Python. \n",
    "\n",
    "### Primeiro Script\n",
    "\n",
    "É uma brincadeira na programação que o primeiro Script, código que uma pessoa tem que escrever numa linguagem de programação é o \"Hello World!\". Se você não fizer isso, será almadiçodo e não aprenderá a linguagem.\n",
    "\n",
    "Então para nos livrarmos o quanto antes dela, abra sua IDE, escolha o interpretador (de preferência, um ambiente virtual) e crie um arquivo chamado \"hello_world.py\". \n",
    "\n",
    "Nesse arquivo, vamos escrever um dos comando mais famosos da pogramação, o print( ). Ele tem a função de exibir algo na tela do terminal. \n",
    "\n",
    "Vamos colocar dentro do print, a String \"Hello World!\". \n",
    "\n",
    "Clique no botão run da sua IDE ou vá no terminal, caminhe até a pasta que está o arquivo e digite python hello_world.py."
   ]
  },
  {
   "cell_type": "code",
   "execution_count": 1,
   "metadata": {},
   "outputs": [
    {
     "name": "stdout",
     "output_type": "stream",
     "text": [
      "Hello World!\n"
     ]
    }
   ],
   "source": [
    "print(\"Hello World!\")"
   ]
  },
  {
   "cell_type": "markdown",
   "metadata": {},
   "source": [
    "Você se livrou da maldição e aprender o seu primeiro programa. Parabéns!!!"
   ]
  },
  {
   "cell_type": "markdown",
   "metadata": {},
   "source": [
    "---"
   ]
  }
 ],
 "metadata": {
  "kernelspec": {
   "display_name": "Python 3",
   "language": "python",
   "name": "python3"
  },
  "language_info": {
   "codemirror_mode": {
    "name": "ipython",
    "version": 3
   },
   "file_extension": ".py",
   "mimetype": "text/x-python",
   "name": "python",
   "nbconvert_exporter": "python",
   "pygments_lexer": "ipython3",
   "version": "3.13.2"
  }
 },
 "nbformat": 4,
 "nbformat_minor": 2
}
