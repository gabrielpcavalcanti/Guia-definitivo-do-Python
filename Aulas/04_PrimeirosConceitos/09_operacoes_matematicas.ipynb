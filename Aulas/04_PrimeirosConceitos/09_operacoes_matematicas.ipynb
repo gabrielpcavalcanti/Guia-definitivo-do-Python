{
 "cells": [
  {
   "cell_type": "markdown",
   "metadata": {},
   "source": [
    "# Operadores matemáticos\n",
    "\n",
    "No Python é possível fazer diversas operações envolvendo a matemática. Podemos iniciar abrindo o terminal interativo do Python e utilizarmos como uma calculadora. \n",
    "\n",
    "Usar o terminal é interessante, mas o importante é saber que elas existem e utilizar em diveras situações na programação. \n",
    "\n",
    "Abaixo estão presentes os operadores matemáticos do Python."
   ]
  },
  {
   "cell_type": "markdown",
   "metadata": {},
   "source": [
    "### **1. Operadores Aritméticos**\n",
    "\n",
    "Esses operadores realizam operações matemáticas básicas.\n",
    "\n",
    "| Operador | Nome            | Exemplo  | Resultado |\n",
    "| -------- | --------------- | -------- | --------- |\n",
    "| `+`      | Adição          | `5 + 3`  | `8`       |\n",
    "| `-`      | Subtração       | `10 - 4` | `6`       |\n",
    "| `*`      | Multiplicação   | `6 * 2`  | `12`      |\n",
    "| `/`      | Divisão         | `8 / 2`  | `4.0`     |\n",
    "| `//`     | Divisão Inteira | `8 // 3` | `2`       |\n",
    "| `%`      | Módulo          | `10 % 3` | `1`       |\n",
    "| `**`     | Exponenciação   | `2 ** 3` | `8`       |\n"
   ]
  },
  {
   "cell_type": "markdown",
   "metadata": {},
   "source": [
    "\n",
    "### **2. Operadores de Atribuição**\n",
    "\n",
    "Usados para armazenar valores em variáveis.\n",
    "\n",
    "| Operador | Exemplo Equivalente     |\n",
    "| -------- | ----------------------- |\n",
    "| `=`      | `x = 5`                 |\n",
    "| `+=`     | `x += 3` -> `x = x + 3` |\n",
    "| `-=`     | `x -= 2` -> `x = x - 2` |\n",
    "| `*=`     | `x *= 4` -> `x = x * 4` |\n",
    "| `/=`     | `x /= 2` -> `x = x / 2` |"
   ]
  },
  {
   "cell_type": "markdown",
   "metadata": {},
   "source": [
    "### Ordem das operações\n",
    "\n",
    "O Python segue a mesma convensão da matemática, ou seja, a ordem é primeiro resolver as chaves depois os colchetes e por fim os parênteses. Porem o python nao utiliza as { } ou [ ] para esse fim. Então utiliza somente parênteses. A preferência é resolver primeiro as operações de dentro e depois as de fora. Sempre de dentro para fora.\n",
    "\n",
    "Em relação aos operadores, a potencia tem preferencia, depois a divisão e multiplicação e por fim a adição e subtração. Sempre resolve da esquerda para a direita."
   ]
  },
  {
   "cell_type": "code",
   "execution_count": 7,
   "metadata": {},
   "outputs": [
    {
     "name": "stdout",
     "output_type": "stream",
     "text": [
      "11.0\n"
     ]
    }
   ],
   "source": [
    "expression: float = ( 4 + 5 * 2) / 1 - 3\n",
    "\n",
    "print(expression)\n"
   ]
  },
  {
   "cell_type": "markdown",
   "metadata": {},
   "source": [
    "### Observações\n",
    "\n",
    "- Somar um número inteito com um real gera um número real."
   ]
  },
  {
   "cell_type": "code",
   "execution_count": 1,
   "metadata": {},
   "outputs": [
    {
     "name": "stdout",
     "output_type": "stream",
     "text": [
      "<class 'float'>\n"
     ]
    }
   ],
   "source": [
    "print(type(1.5 + 4))"
   ]
  },
  {
   "cell_type": "markdown",
   "metadata": {},
   "source": [
    "- Não é possível somar String com tipo numérico mesmo que a String seja um número."
   ]
  },
  {
   "cell_type": "code",
   "execution_count": 2,
   "metadata": {},
   "outputs": [
    {
     "ename": "TypeError",
     "evalue": "unsupported operand type(s) for +: 'int' and 'str'",
     "output_type": "error",
     "traceback": [
      "\u001b[31m---------------------------------------------------------------------------\u001b[39m",
      "\u001b[31mTypeError\u001b[39m                                 Traceback (most recent call last)",
      "\u001b[36mCell\u001b[39m\u001b[36m \u001b[39m\u001b[32mIn[2]\u001b[39m\u001b[32m, line 1\u001b[39m\n\u001b[32m----> \u001b[39m\u001b[32m1\u001b[39m \u001b[38;5;28mprint\u001b[39m(\u001b[32;43m5\u001b[39;49m\u001b[43m \u001b[49m\u001b[43m+\u001b[49m\u001b[43m \u001b[49m\u001b[33;43m\"\u001b[39;49m\u001b[33;43m5\u001b[39;49m\u001b[33;43m\"\u001b[39;49m)\n",
      "\u001b[31mTypeError\u001b[39m: unsupported operand type(s) for +: 'int' and 'str'"
     ]
    }
   ],
   "source": [
    "print(5 + \"5\")"
   ]
  },
  {
   "cell_type": "markdown",
   "metadata": {},
   "source": [
    "Mas podemos transformar uma String num número e somar."
   ]
  },
  {
   "cell_type": "code",
   "execution_count": 3,
   "metadata": {},
   "outputs": [
    {
     "name": "stdout",
     "output_type": "stream",
     "text": [
      "10\n"
     ]
    }
   ],
   "source": [
    "print(5 + int(\"5\"))"
   ]
  },
  {
   "cell_type": "markdown",
   "metadata": {},
   "source": [
    "- Podemos somar e multiplicar Strings. Não recomendo que faça, mas é possível. "
   ]
  },
  {
   "cell_type": "code",
   "execution_count": 6,
   "metadata": {},
   "outputs": [
    {
     "name": "stdout",
     "output_type": "stream",
     "text": [
      "1510\n",
      "10101010\n"
     ]
    }
   ],
   "source": [
    "print(\"15\" + \"10\")\n",
    "print(4 *\"10\")\n"
   ]
  },
  {
   "cell_type": "markdown",
   "metadata": {},
   "source": [
    "### Operação de radiciação\n",
    "\n",
    "Não sei se percebeu, mas o Python por padrão não tem a operação de radiciação. Se quiser contornar isso, importe o pacote math (sem a necessidade de instalação) e utilize a função sqrt( ) (apenas raiz quadrada)."
   ]
  },
  {
   "cell_type": "code",
   "execution_count": 8,
   "metadata": {},
   "outputs": [
    {
     "name": "stdout",
     "output_type": "stream",
     "text": [
      "4.0\n",
      "10.0\n"
     ]
    }
   ],
   "source": [
    "import math\n",
    "\n",
    "print(math.sqrt(16))\n",
    "print(math.sqrt(100))\n"
   ]
  },
  {
   "cell_type": "markdown",
   "metadata": {},
   "source": [
    "Perceba que tivemos que importar uma biblioteca do Python (math). Veremos com muito detalhe sobre isso em aulas futuras. \n",
    "\n",
    "Podemos fazer a operação de radiciação sem o uso da biblioteca, como pode ser visto abaixo."
   ]
  },
  {
   "cell_type": "code",
   "execution_count": 9,
   "metadata": {},
   "outputs": [
    {
     "name": "stdout",
     "output_type": "stream",
     "text": [
      "4.0\n",
      "3.0\n"
     ]
    }
   ],
   "source": [
    "print(16 ** (1/2))\n",
    "print(27 ** (1/3))\n"
   ]
  },
  {
   "cell_type": "markdown",
   "metadata": {},
   "source": [
    "---"
   ]
  }
 ],
 "metadata": {
  "kernelspec": {
   "display_name": "Python 3",
   "language": "python",
   "name": "python3"
  },
  "language_info": {
   "codemirror_mode": {
    "name": "ipython",
    "version": 3
   },
   "file_extension": ".py",
   "mimetype": "text/x-python",
   "name": "python",
   "nbconvert_exporter": "python",
   "pygments_lexer": "ipython3",
   "version": "3.13.2"
  }
 },
 "nbformat": 4,
 "nbformat_minor": 2
}
