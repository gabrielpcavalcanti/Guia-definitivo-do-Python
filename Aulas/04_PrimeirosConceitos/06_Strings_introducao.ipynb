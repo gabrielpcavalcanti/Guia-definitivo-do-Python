{
 "cells": [
  {
   "cell_type": "markdown",
   "metadata": {},
   "source": [
    "# Strings - introducao"
   ]
  },
  {
   "cell_type": "markdown",
   "metadata": {},
   "source": [
    "Strings como qualquer outro tipo de dador é igualmente importante, mas tem muitos detalhes que precisam ser vistos, por isso uma aula separada. \n",
    "\n",
    "Elas representam qualquer tipo de texto em Pyhton, independente de ser apenas um caractere ou um texto inteiro. Para criar Strings basta usar aspas simples ou aspas dupas (ver padrão adorado na aula 03_Padroes_adotados na pasta 03_PadroesEBonsHabitos).\n",
    "\n",
    "É possível colocar aspas simples dentro de aspas duplas e vice-versa. Saiba que se começar uma String com aspas dupas, tem que terminar com aspas duplas, mas dentro da String pode haver aspas simples. O caminho contrário também funciona.\n"
   ]
  },
  {
   "cell_type": "code",
   "execution_count": 1,
   "metadata": {},
   "outputs": [],
   "source": [
    "sherlock_phrase: str = \"When you have excluded the impossible, whatever remains, however improbable, must be the truth\"\n",
    "exemple_string: str = \"Hello, how are you?\"\n",
    "single_char: str = 'g'\n"
   ]
  },
  {
   "cell_type": "markdown",
   "metadata": {},
   "source": [
    "Caso veja que a string esteja muito longa é possível separar ela com o comando \\n. Quando o Python for ler esse termo, ele pulará uma linha e continuará escrevendo. Não e preciso colocar isso, mas caso preciso é bom saber."
   ]
  },
  {
   "cell_type": "code",
   "execution_count": 2,
   "metadata": {},
   "outputs": [
    {
     "name": "stdout",
     "output_type": "stream",
     "text": [
      "In the world of programming, writing clean and efficient code is essential.\n",
      "Python, known for its readability and simplicity, allows developers to create powerful applications \n",
      "with fewer lines of code. Whether you're building a web application, automating tasks, or analyzing data, \n",
      "Python provides a wide range of libraries and frameworks to help you achieve your goals efficiently.\n"
     ]
    }
   ],
   "source": [
    "long_string: str = \"In the world of programming, writing clean and efficient code is essential.\\nPython, known for its readability and simplicity, allows developers to create powerful applications \\nwith fewer lines of code. Whether you're building a web application, automating tasks, or analyzing data, \\nPython provides a wide range of libraries and frameworks to help you achieve your goals efficiently.\"\n",
    "  \n",
    "print(long_string)\n"
   ]
  },
  {
   "cell_type": "markdown",
   "metadata": {},
   "source": [
    "Caso tenha uma string longa e não queira usar o \\n é bom utiliar as três aspas duplas para poder escrever em várias linhas, mesmo que o output seja em uma única linha. "
   ]
  },
  {
   "cell_type": "code",
   "execution_count": 3,
   "metadata": {},
   "outputs": [
    {
     "name": "stdout",
     "output_type": "stream",
     "text": [
      "In the world of programming, writing clean and efficient code is essential. Python, known for its readability and simplicity, allows developers to create powerful applications with fewer lines of code. Whether you're building a web application, automating tasks, or analyzing data, \n",
      "Python provides a wide range of libraries and frameworks to help you achieve your goals efficiently.\n"
     ]
    }
   ],
   "source": [
    "long_string: str = \"\"\"In the world of programming, writing clean and efficient code is essential. Python, known for its readability and simplicity, allows developers to create powerful applications with fewer lines of code. Whether you're building a web application, automating tasks, or analyzing data, \n",
    "Python provides a wide range of libraries and frameworks to help you achieve your goals efficiently.\"\"\"\n",
    "  \n",
    "print(long_string)\n"
   ]
  },
  {
   "cell_type": "markdown",
   "metadata": {},
   "source": [
    "## Slicing\n",
    "\n",
    "É uma maneira de cortas as strings, selecionando apenas a parte que deseja. \n",
    "\n",
    "O Python começa a contar a partir do 0. Então cada caracter da possui uma posição. O slicing vai permitir isso.\n",
    "\n",
    "para fazermos isso, colocamos dentro dos [] a posição de inicío e fim da string, separando pelos :."
   ]
  },
  {
   "cell_type": "code",
   "execution_count": 4,
   "metadata": {},
   "outputs": [
    {
     "name": "stdout",
     "output_type": "stream",
     "text": [
      "When you have excluded th\n",
      "ave e\n",
      " you have excluded the impossib\n"
     ]
    }
   ],
   "source": [
    "print(sherlock_phrase[0:25])\n",
    "print(sherlock_phrase[10:15])\n",
    "print(sherlock_phrase[4:35])\n"
   ]
  },
  {
   "cell_type": "markdown",
   "metadata": {},
   "source": [
    "Lembrando que o espaço também conta como caracter.\n",
    "\n",
    "Vamos ver outras possibilidades"
   ]
  },
  {
   "cell_type": "code",
   "execution_count": 5,
   "metadata": {},
   "outputs": [
    {
     "name": "stdout",
     "output_type": "stream",
     "text": [
      "When you have excluded the impossible, whatever remains, however improbable, must be the truth\n",
      " have excluded the impossible, whatever remains, however improbable, must be the truth\n",
      "When you\n",
      "We o aeecu\n",
      "hturt eht eb tsum ,elbaborpmi revewoh ,sniamer revetahw ,elbissopmi eht dedulcxe evah uoy nehW\n"
     ]
    }
   ],
   "source": [
    "print(sherlock_phrase[:])  # Toda a string.\n",
    "print(sherlock_phrase[8:])  # A partir do char 8.\n",
    "print(sherlock_phrase[:8])  # Até o char 8.\n",
    "print(sherlock_phrase[0:20:2])  # Do 0 ao 20 pulando de 2 em 2.\n",
    "print(sherlock_phrase[::-1])  # Reverte o texto"
   ]
  },
  {
   "cell_type": "markdown",
   "metadata": {},
   "source": [
    "---"
   ]
  }
 ],
 "metadata": {
  "kernelspec": {
   "display_name": "Python 3",
   "language": "python",
   "name": "python3"
  },
  "language_info": {
   "codemirror_mode": {
    "name": "ipython",
    "version": 3
   },
   "file_extension": ".py",
   "mimetype": "text/x-python",
   "name": "python",
   "nbconvert_exporter": "python",
   "pygments_lexer": "ipython3",
   "version": "3.13.2"
  }
 },
 "nbformat": 4,
 "nbformat_minor": 2
}
