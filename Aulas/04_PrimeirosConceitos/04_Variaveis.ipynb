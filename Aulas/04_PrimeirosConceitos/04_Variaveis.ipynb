{
 "cells": [
  {
   "cell_type": "markdown",
   "metadata": {},
   "source": [
    "# Variáveis"
   ]
  },
  {
   "cell_type": "markdown",
   "metadata": {},
   "source": [
    "É esse um dos primeiros conceitosa se aprender na programação e um dos mais úteis e que se utiliza a todo momento. \n",
    "\n",
    "Uma Variável é um nome simbólico que faz referência a um espaço na memória do computador onde um valor pode ser armazenado e manipulado. Em termos simples, uma variável funciona como um \"rótulo\" para um dado armazenado na memória.\n",
    "\n",
    "Além disso, variável é um elemento que possui um nome e tipo . Ela pode variar durante a execução do programa (daí o nome), você pode armazenar seu valor e referenciá-lo várias vezes.\n",
    "\n",
    "Podemos colocar basicamento tudo que que quisermos dentro de uma variável. Podemos colocar valores, funções, classes, operações, resultados, coleções, e usar essas variáveis para fazer outras operações com outras variáveis."
   ]
  },
  {
   "cell_type": "markdown",
   "metadata": {},
   "source": [
    "## Declaração e Atribuição de Variáveis \n",
    "\n",
    "No Python, a declaração e atribuição de uma variável é feita com um sinal de igual (=).\n",
    "\n",
    "O operador = atribui um valor à variável. Isso significa que o nome à esquerda recebe o valor à direita."
   ]
  },
  {
   "cell_type": "code",
   "execution_count": null,
   "metadata": {},
   "outputs": [],
   "source": [
    "age = 25  # A variável 'idade' armazena o número 25\n",
    "name = \"Alice\"  # A variável 'nome' armazena a string \"Alice\"\n",
    "price = 19.99  # A variável 'preco' armazena um número decimal (float)"
   ]
  },
  {
   "cell_type": "markdown",
   "metadata": {},
   "source": [
    "Como o padrão adotado para esse repositório, sempre utilizarei Type Annotations, então as mesmas variáveis seriam escritas assim:"
   ]
  },
  {
   "cell_type": "code",
   "execution_count": null,
   "metadata": {},
   "outputs": [],
   "source": [
    "age: int = 25\n",
    "name: str = \"Alice\"\n",
    "price: float = 19.99"
   ]
  },
  {
   "cell_type": "markdown",
   "metadata": {},
   "source": [
    "## Elementos de uma variável\n",
    "\n",
    "Toda variável possui um nome, um tipo e um valor. Segue abaixo mais detalhes de cada um deles.\n",
    "\n",
    "### Nomeação de variáveis\n",
    "\n",
    "Os nomes das variáveis no Python possuem algumas regras a seram seguidas. Abaixo estão o que não se deve colocar, todo o resto é premitido, mas lembrando que seguiremos o PEP8, padrões e bons hábitos (veja pasta 03_PadroesEBonsHabitos):\n",
    "\n",
    "* Palavras reservadas como print, max, int(), lower, etc.\n",
    "\n",
    "* Números no início: 5numero, 35renda, etc.\n",
    "\n",
    "* Alguns caracteres: ^, &, *, @, !, ., ;, <, >, +, -, etc. O único permitodo é o _ .\n",
    "\n",
    "* Espaço: As variáveis não podem ter espaços, utilize o _ .\n",
    "\n",
    "Obs: Python é uma linguagem que é case-sensitive, então idade e Idade são diferentes, por exemplo.\n"
   ]
  },
  {
   "cell_type": "code",
   "execution_count": null,
   "metadata": {},
   "outputs": [],
   "source": [
    "supermarket_bag: list[str] = ['eggs', 'pasta', 'cerial', 'apples', 'milk']\n",
    "car_03: str = \"Focus\"\n",
    "_number_of_days_passed = 30"
   ]
  },
  {
   "cell_type": "markdown",
   "metadata": {},
   "source": [
    "## Tipo das variáveis\n",
    "\n",
    "O Python possui quatro tipos principais, int, float, Strings e Booleanos.\n",
    "\n",
    "Podemos utilizar as variáveis para armazenar valores que estão dentro de desses quatro citados acima.\n",
    "\n",
    "Veremos em outra aulas, com detalhe, cada um dos tipos da linhuagem Python.\n",
    "\n",
    "| Tipo | Descrição |\n",
    "|------|-----------|\n",
    "| **Inteiro (`int`)** | Números inteiros |\n",
    "| **Decimal (`float`)**  | Números com casas decimais |\n",
    "| **String (`str`)** | Texto entre aspas |\n",
    "| **Booleano (`bool`)**  | `True` ou `False` |\n",
    "| **Lista (`list`)**  | Coleção de valores mutável |\n",
    "| **Tupla (`tuple`)**  | Coleção de valores imutáveis |\n",
    "| **Dicionário (`dict`)**  | Estrutura chave-valor |\n"
   ]
  },
  {
   "cell_type": "markdown",
   "metadata": {},
   "source": [
    "Exemplos:"
   ]
  },
  {
   "cell_type": "code",
   "execution_count": null,
   "metadata": {},
   "outputs": [],
   "source": [
    "size: int = 4\n",
    "number: float = 5.6\n",
    "num_1, num_2 = 4.5, 34 # Aqui, num_1 recebe 4.5 e num_2 recebe 34.\n",
    "phrase: str = \"Isso é uma String\"\n",
    "temperature: float = (4 * 4) + 2\n",
    "so_mais_um_exemplo: float = (size * number) - temperature\n",
    "e_verdade: bool = True\n",
    "palavra: str = input(\"Digite uma palavra: \")  # Veremos o comando imput() depois\n",
    "maximum: int = max()\n",
    "dates: tuple[str, int, float] = (\"Alice\", 25, 1.75)\n",
    "student_age_grade: dict[str, int] = {\"idade\": 25, \"nota\": 90}"
   ]
  },
  {
   "cell_type": "markdown",
   "metadata": {},
   "source": [
    "Perceba que em algumas variáveis há operações matemáticas. Veremos com calma depois, mas saibam que é possível faze-las e coloca-las dentro de variáveis."
   ]
  },
  {
   "cell_type": "markdown",
   "metadata": {},
   "source": [
    "## Casting\n",
    "\n",
    "Quando a variável é declarada, ela já possui um tipo - visto acima e consequentemente possui um valor. O valor de uma variável é o tipo que ela assume num determinado momento.\n",
    "\n",
    "O quero falar aqui é sobre o casting, ou seja, já que as variáveis podem mudar de tipo durante o código, fazer isso é o que chamamos de casting.\n",
    "\n",
    "O cast é feito colocando o valor que queremos transformar dentro de funções, são elas:\n",
    "\n",
    "| Função   | Descrição                      |\n",
    "|----------|--------------------------------|\n",
    "| `int()`  | Transforma em inteiro.        |\n",
    "| `float()`| Transforma em float.          |\n",
    "| `str()`  | Transforma em string.         |\n",
    "| `list()` | Transforma em lista.          |\n",
    "\n",
    "Lembrando que nem sempre é possível transformar um valor em outro. Uma String não pode virar um número a menos que o texto seja um número."
   ]
  },
  {
   "cell_type": "markdown",
   "metadata": {},
   "source": [
    "Exemplo:"
   ]
  },
  {
   "cell_type": "code",
   "execution_count": 1,
   "metadata": {},
   "outputs": [
    {
     "name": "stdout",
     "output_type": "stream",
     "text": [
      "4.5\n",
      "3.0\n",
      "45\n"
     ]
    }
   ],
   "source": [
    "real_number: float = 4.5\n",
    "interger = int(real_number)\n",
    "\n",
    "interger_02 = 3\n",
    "real_number_02 = float(interger_02)\n",
    "\n",
    "string_number: str = \"45\"\n",
    "number_string: int = int(\"45\")\n",
    "\n",
    "print(real_number)\n",
    "print(real_number_02)\n",
    "print(number_string)\n"
   ]
  },
  {
   "cell_type": "markdown",
   "metadata": {},
   "source": [
    "## Constantes\n",
    "\n",
    "No Python não existe a ideia de costante. Em outras linguagens de programação, podemos declarar uma constante, já no Python não é possível. Para indicar que o valor é uma constante, o nome dela é toda em maiúsculo.\n",
    "\n",
    "Ainda podemos mudar o valor da 'constante'. As letras em maiúsculo indicam, mas não impedem as mudanças de valor ou tipo."
   ]
  },
  {
   "cell_type": "code",
   "execution_count": null,
   "metadata": {},
   "outputs": [],
   "source": [
    "PI = 3.14159265358979\n",
    "CPF = \"123.456.789-00\""
   ]
  },
  {
   "cell_type": "markdown",
   "metadata": {},
   "source": [
    "## Escopo de variáeis\n",
    "\n",
    "É um espaço dentro do código que a váriável está ativa e o interpredor do Python reconhce. Há dois escopos na linguagem Python: Global e Local. \n",
    "\n",
    "No escopo global a váriavel pode ser utilizada em todo o programa,\n",
    "no local, apenas quando for inicializada ou estiver dentro de um bloco de comando. \n",
    "\n",
    "Calma, vamos ver como funciona cada um. Se ainda não entender o que é um bloco de comando, veremos mais a frente."
   ]
  },
  {
   "cell_type": "code",
   "execution_count": null,
   "metadata": {},
   "outputs": [],
   "source": [
    "# Essa variável está no escopo global\n",
    "variavel_1 = 5\n",
    "\n",
    "# Pode ser utilizado tanto fora quanto dentro de um bloco de comando.\n",
    "\n",
    "conta = variavel_1 + 5\n",
    "\n",
    "if variavel_1 > 4:\n",
    "    print(\"Oi, tudo bem?\")\n",
    "    conta2 = variavel_1 + 2  # Variável no escopo local. "
   ]
  },
  {
   "cell_type": "markdown",
   "metadata": {},
   "source": [
    "A variável de escopo local Só funciona se o bloco de comando for ativado. Como variavel_1 é maior que 5, a estrutura condicional irá funcionar."
   ]
  },
  {
   "cell_type": "markdown",
   "metadata": {},
   "source": [
    "---"
   ]
  }
 ],
 "metadata": {
  "kernelspec": {
   "display_name": "Python 3",
   "language": "python",
   "name": "python3"
  },
  "language_info": {
   "codemirror_mode": {
    "name": "ipython",
    "version": 3
   },
   "file_extension": ".py",
   "mimetype": "text/x-python",
   "name": "python",
   "nbconvert_exporter": "python",
   "pygments_lexer": "ipython3",
   "version": "3.13.2"
  }
 },
 "nbformat": 4,
 "nbformat_minor": 2
}
